{
  "nbformat": 4,
  "nbformat_minor": 0,
  "metadata": {
    "colab": {
      "name": "task3_AIO with notes.ipynb",
      "provenance": [],
      "collapsed_sections": [],
      "include_colab_link": true
    },
    "kernelspec": {
      "name": "python3",
      "display_name": "Python 3"
    }
  },
  "cells": [
    {
      "cell_type": "markdown",
      "metadata": {
        "id": "view-in-github",
        "colab_type": "text"
      },
      "source": [
        "<a href=\"https://colab.research.google.com/github/Andre6o6/mlcourse-2019/blob/master/task3_AIO_with_notes.ipynb\" target=\"_parent\"><img src=\"https://colab.research.google.com/assets/colab-badge.svg\" alt=\"Open In Colab\"/></a>"
      ]
    },
    {
      "cell_type": "markdown",
      "metadata": {
        "id": "o_V3g_cEqqvI",
        "colab_type": "text"
      },
      "source": [
        "Homework: https://drive.google.com/file/d/0B8Duph3WCZx2Q0FNSm5DczF2T0Rzck05TTUtYW84LUxfZTg4/view"
      ]
    },
    {
      "cell_type": "markdown",
      "metadata": {
        "id": "yoGqEb3mbPA0",
        "colab_type": "text"
      },
      "source": [
        "Helpfull info:\n",
        "\n",
        "* http://yann.lecun.com/exdb/publis/pdf/lecun-98b.pdf\n",
        "* http://cs231n.github.io/neural-networks-case-study/"
      ]
    },
    {
      "cell_type": "code",
      "metadata": {
        "id": "lRJf5WYFKAAN",
        "colab_type": "code",
        "colab": {}
      },
      "source": [
        "import numpy as np"
      ],
      "execution_count": 0,
      "outputs": []
    },
    {
      "cell_type": "code",
      "metadata": {
        "id": "WpcA5dYgKtTZ",
        "colab_type": "code",
        "colab": {}
      },
      "source": [
        "class Module(object):\n",
        "    \"\"\"\n",
        "    Forward:\n",
        "        \n",
        "                    input -> [module] -> output\n",
        "\n",
        "    Backward:\n",
        "\n",
        "        grad(w.r.t.)Input <- [module] <- grad(w.r.t.)Output\n",
        "                                      ^- input\n",
        "\n",
        "    \"\"\"\n",
        "    def __init__ (self):\n",
        "        self.output = None\n",
        "        self.gradInput = None\n",
        "        self.training = True\n",
        "    \n",
        "    def forward(self, input):\n",
        "        \"\"\"\n",
        "        Takes an input object, and computes the corresponding output of the module.\n",
        "        \"\"\"\n",
        "        return self.updateOutput(input)\n",
        "\n",
        "    def backward(self,input, gradOutput):\n",
        "        \"\"\"\n",
        "        Performs a backpropagation step through the module, with respect to the given input.\n",
        "        \n",
        "        This includes \n",
        "         - computing a gradient w.r.t. `input` (is needed for further backprop),\n",
        "         - computing a gradient w.r.t. parameters (to update parameters while optimizing).\n",
        "        \"\"\"\n",
        "        self.updateGradInput(input, gradOutput)\n",
        "        self.accGradParameters(input, gradOutput)\n",
        "        return self.gradInput\n",
        "    \n",
        "\n",
        "    def updateOutput(self, input):\n",
        "        \"\"\"\n",
        "        Computes the output using the current parameter set of the class and input.\n",
        "        This function returns the result which is stored in the `output` field. \n",
        "        \"\"\"\n",
        "        \n",
        "        # The easiest case:\n",
        "            \n",
        "        # self.output = input \n",
        "        # return self.output\n",
        "        \n",
        "        pass\n",
        "\n",
        "    def updateGradInput(self, input, gradOutput):\n",
        "        \"\"\"\n",
        "        Computing the gradient of the module with respect to its own input. \n",
        "        This is returned in `gradInput`. Also, the `gradInput` state variable is updated accordingly.\n",
        "        \n",
        "        The shape of `gradInput` is always the same as the shape of `input`.\n",
        "        \"\"\"\n",
        "        \n",
        "        # The easiest case:\n",
        "        \n",
        "        # self.gradInput = gradOutput \n",
        "        # return self.gradInput\n",
        "        \n",
        "        pass   \n",
        "    \n",
        "    def accGradParameters(self, input, gradOutput):\n",
        "        \"\"\"\n",
        "        Computing the gradient of the module with respect to its own parameters.\n",
        "        No need to override if module has no parameters (e.g. ReLU).\n",
        "        \"\"\"\n",
        "        pass\n",
        "    \n",
        "    def zeroGradParameters(self): \n",
        "        \"\"\"\n",
        "        Zeroes `gradParams` variable if the module has params.\n",
        "        \"\"\"\n",
        "        pass\n",
        "        \n",
        "    def getParameters(self):\n",
        "        \"\"\"\n",
        "        Returns a list with its parameters. \n",
        "        If the module does not have parameters return empty list. \n",
        "        \"\"\"\n",
        "        return []\n",
        "        \n",
        "    def getGradParameters(self):\n",
        "        \"\"\"\n",
        "        Returns a list with gradients with respect to its parameters. \n",
        "        If the module does not have parameters return empty list. \n",
        "        \"\"\"\n",
        "        return []\n",
        "    \n",
        "    def train(self):\n",
        "        \"\"\"\n",
        "        Sets training mode for the module.\n",
        "        Training and testing behaviour differs for Dropout, BatchNorm.\n",
        "        \"\"\"\n",
        "        self.training = True\n",
        "    \n",
        "    def evaluate(self):\n",
        "        \"\"\"\n",
        "        Sets evaluation mode for the module.\n",
        "        Training and testing behaviour differs for Dropout, BatchNorm.\n",
        "        \"\"\"\n",
        "        self.training = False\n",
        "    \n",
        "    def __repr__(self):\n",
        "        \"\"\"\n",
        "        Pretty printing. Should be overrided in every module if you want \n",
        "        to have readable description. \n",
        "        \"\"\"\n",
        "        return \"Module\""
      ],
      "execution_count": 0,
      "outputs": []
    },
    {
      "cell_type": "code",
      "metadata": {
        "id": "qrOXro-oLL2s",
        "colab_type": "code",
        "colab": {}
      },
      "source": [
        "class Sequential(Module):\n",
        "    \"\"\"\n",
        "         This class implements a container, which processes `input` data sequentially. \n",
        "         \n",
        "         `input` is processed by each module (layer) in self.modules consecutively.\n",
        "         The resulting array is called `output`. \n",
        "    \"\"\"\n",
        "    \n",
        "    def __init__ (self):\n",
        "        super(Sequential, self).__init__()\n",
        "        self.modules = []\n",
        "   \n",
        "    def add(self, module):\n",
        "        \"\"\"\n",
        "        Adds a module to the container.\n",
        "        \"\"\"\n",
        "        self.modules.append(module)\n",
        "\n",
        "    def updateOutput(self, input):\n",
        "        \"\"\"\n",
        "        Basic workflow of FORWARD PASS:\n",
        "        \n",
        "            y_0    = module[0].forward(input)\n",
        "            y_1    = module[1].forward(y_0)\n",
        "            ...\n",
        "            output = module[n-1].forward(y_{n-2})   \n",
        "        \"\"\"\n",
        "        x = input\n",
        "        for i in range(len(self.modules)):\n",
        "            x = self.modules[i].forward(x)\n",
        "        self.output = x\n",
        "        return self.output\n",
        "\n",
        "    def backward(self, input, gradOutput):\n",
        "        \"\"\"\n",
        "        Workflow of BACKWARD PASS:\n",
        "            \n",
        "            g_{n-1} = module[n-1].backward(y_{n-2}, gradOutput)\n",
        "            g_{n-2} = module[n-2].backward(y_{n-3}, g_{n-1})\n",
        "            ...\n",
        "            g_1 = module[1].backward(y_0, g_2)   \n",
        "            gradInput = module[0].backward(input, g_1)        \n",
        "        \"\"\"\n",
        "        g = gradOutput\n",
        "        for i in reversed(range(len(self.modules))):\n",
        "            y_prev = input if i==0 else self.modules[i-1].output\n",
        "            g = self.modules[i].backward(y_prev, g)\n",
        "        self.gradInput = g\n",
        "        return self.gradInput\n",
        "      \n",
        "\n",
        "    def zeroGradParameters(self): \n",
        "        for module in self.modules:\n",
        "            module.zeroGradParameters()\n",
        "    \n",
        "    def getParameters(self):\n",
        "        \"\"\"\n",
        "        Should gather all parameters in a list.\n",
        "        \"\"\"\n",
        "        return [x.getParameters() for x in self.modules]\n",
        "    \n",
        "    def getGradParameters(self):\n",
        "        \"\"\"\n",
        "        Should gather all gradients w.r.t parameters in a list.\n",
        "        \"\"\"\n",
        "        return [x.getGradParameters() for x in self.modules]\n",
        "    \n",
        "    def __repr__(self):\n",
        "        string = \"\".join([str(x) + '\\n' for x in self.modules])\n",
        "        return string\n",
        "    \n",
        "    def __getitem__(self,x):\n",
        "        return self.modules.__getitem__(x)\n",
        "    \n",
        "    def train(self):\n",
        "        \"\"\"\n",
        "        Propagates training parameter through all modules\n",
        "        \"\"\"\n",
        "        self.training = True\n",
        "        for module in self.modules:\n",
        "            module.train()\n",
        "    \n",
        "    def evaluate(self):\n",
        "        \"\"\"\n",
        "        Propagates training parameter through all modules\n",
        "        \"\"\"\n",
        "        self.training = False\n",
        "        for module in self.modules:\n",
        "            module.evaluate()"
      ],
      "execution_count": 0,
      "outputs": []
    },
    {
      "cell_type": "markdown",
      "metadata": {
        "id": "TU_Ip0H8cMGI",
        "colab_type": "text"
      },
      "source": [
        "See: http://cs231n.stanford.edu/handouts/linear-backprop.pdf"
      ]
    },
    {
      "cell_type": "code",
      "metadata": {
        "id": "atnGzYTdQxhA",
        "colab_type": "code",
        "colab": {}
      },
      "source": [
        "class Linear(Module):\n",
        "    \"\"\"\n",
        "    A module which applies a linear transformation \n",
        "    A common name is fully-connected layer, InnerProductLayer in caffe. \n",
        "    \n",
        "    The module should work with 2D input of shape (n_samples, n_feature).\n",
        "    \"\"\"\n",
        "    def __init__(self, n_in, n_out):\n",
        "        super(Linear, self).__init__()\n",
        "       \n",
        "        # Xavier initialization (but with uniform distribution(?))\n",
        "        stdv = 1./np.sqrt(n_in)\n",
        "        self.W = np.random.uniform(-stdv, stdv, size = (n_in, n_out))\n",
        "        self.b = np.random.uniform(-stdv, stdv, size = n_out)\n",
        "        \n",
        "        self.gradW = np.zeros_like(self.W)\n",
        "        self.gradb = np.zeros_like(self.b)\n",
        "        \n",
        "    def updateOutput(self, input):        \n",
        "        self.output = np.matmul(input, self.W) + self.b\n",
        "        return self.output\n",
        "    \n",
        "    def updateGradInput(self, input, gradOutput):\n",
        "        self.gradInput = np.matmul(gradOutput, self.W.T)\n",
        "        return self.gradInput\n",
        "    \n",
        "    def accGradParameters(self, input, gradOutput):\n",
        "        self.gradW = np.matmul(input.T, gradOutput)\n",
        "        self.gradb = np.sum(gradOutput, axis=0)\n",
        "    \n",
        "    def zeroGradParameters(self):\n",
        "        self.gradW.fill(0)\n",
        "        self.gradb.fill(0)\n",
        "        \n",
        "    def getParameters(self):\n",
        "        return [self.W, self.b]\n",
        "    \n",
        "    def getGradParameters(self):\n",
        "        return [self.gradW, self.gradb]\n",
        "    \n",
        "    def __repr__(self):\n",
        "        s = self.W.shape\n",
        "        q = 'Linear %d -> %d' %(s[0],s[1])\n",
        "        return q"
      ],
      "execution_count": 0,
      "outputs": []
    },
    {
      "cell_type": "markdown",
      "metadata": {
        "id": "UcKsmfrUfFGI",
        "colab_type": "text"
      },
      "source": [
        "See: https://eli.thegreenplace.net/2016/the-softmax-function-and-its-derivative/"
      ]
    },
    {
      "cell_type": "code",
      "metadata": {
        "id": "svWbkwF5Yrhn",
        "colab_type": "code",
        "colab": {}
      },
      "source": [
        "class SoftMax(Module):\n",
        "    def __init__(self):\n",
        "         super(SoftMax, self).__init__()\n",
        "    \n",
        "    def updateOutput(self, input):\n",
        "        # start with normalization for numerical stability\n",
        "        shiftx = np.subtract(input, input.max(axis=1, keepdims=True))\n",
        "        exps = np.exp(shiftx)\n",
        "        self.output = exps / np.sum(exps, axis=1, keepdims=True)\n",
        "        return self.output\n",
        "    \n",
        "    def updateGradInput(self, input, gradOutput):\n",
        "        b,n = gradOutput.shape\n",
        "        self.gradInput = np.zeros_like(self.output)\n",
        "        for i in range(b):\n",
        "            jacobian = self.output[i].reshape(-1,1) * (np.eye(n) - self.output[i])\n",
        "            self.gradInput[i] = np.matmul(gradOutput[i], jacobian)\n",
        "        return self.gradInput\n",
        "    \n",
        "    def __repr__(self):\n",
        "        return \"SoftMax\""
      ],
      "execution_count": 0,
      "outputs": []
    },
    {
      "cell_type": "markdown",
      "metadata": {
        "id": "idtQhKj1PaJG",
        "colab_type": "text"
      },
      "source": [
        "See: https://kratzert.github.io/2016/02/12/understanding-the-gradient-flow-through-the-batch-normalization-layer.html"
      ]
    },
    {
      "cell_type": "code",
      "metadata": {
        "id": "1PbbkI2obcBZ",
        "colab_type": "code",
        "colab": {}
      },
      "source": [
        "class BatchNormalization(Module):\n",
        "    EPS = 1e-3\n",
        "    def __init__(self, alpha=0.1):\n",
        "        super(BatchNormalization, self).__init__()\n",
        "        self.alpha = alpha\n",
        "        self.moving_mean = 0 \n",
        "        self.moving_variance = 0\n",
        "        \n",
        "    def updateOutput(self, input):\n",
        "        if (self.training):\n",
        "            batch_mean = np.mean(input, axis=0)\n",
        "            batch_variance = np.var(input, axis=0)\n",
        "\n",
        "            self.moving_mean = self.moving_mean * self.alpha + batch_mean * (1 - self.alpha)\n",
        "            self.moving_variance = self.moving_variance * self.alpha + batch_variance * (1 - self.alpha)\n",
        "\n",
        "            self.output = (input - batch_mean) / np.sqrt(batch_variance + self.EPS)\n",
        "        else:\n",
        "            self.output = (input - self.moving_mean) / np.sqrt(self.moving_variance + self.EPS)\n",
        "        return self.output\n",
        "    \n",
        "    def updateGradInput(self, input, gradOutput):\n",
        "        mu = np.mean(input, axis=0)\n",
        "        var = np.var(input, axis=0)\n",
        "        \n",
        "        B = input.shape[0]        #TODO check dims\n",
        "        self.gradInput = 1 / np.sqrt(var + self.EPS) * (gradOutput - 1/B * np.sum(gradOutput, axis=0) \\\n",
        "                                                        - 1/B * (input - mu) / (var + self.EPS) * np.sum(gradOutput * (input - mu), axis=0))\n",
        "        return self.gradInput\n",
        "    \n",
        "    def __repr__(self):\n",
        "        return \"BatchNormalization\""
      ],
      "execution_count": 0,
      "outputs": []
    },
    {
      "cell_type": "code",
      "metadata": {
        "id": "6GzgotnPvE6f",
        "colab_type": "code",
        "colab": {}
      },
      "source": [
        "class ChannelwiseScaling(Module):\n",
        "    \"\"\"\n",
        "       Implements linear transform of input y = \\gamma * x + \\beta\n",
        "       where \\gamma, \\beta - learnable vectors of length x.shape[-1]\n",
        "    \"\"\"\n",
        "    def __init__(self, n_out):\n",
        "        super(ChannelwiseScaling, self).__init__()\n",
        "\n",
        "        stdv = 1./np.sqrt(n_out)\n",
        "        self.gamma = np.random.uniform(-stdv, stdv, size=n_out)\n",
        "        self.beta = np.random.uniform(-stdv, stdv, size=n_out)\n",
        "        \n",
        "        self.gradGamma = np.zeros_like(self.gamma)\n",
        "        self.gradBeta = np.zeros_like(self.beta)\n",
        "\n",
        "    def updateOutput(self, input):\n",
        "        self.output = input * self.gamma + self.beta\n",
        "        return self.output\n",
        "        \n",
        "    def updateGradInput(self, input, gradOutput):\n",
        "        self.gradInput = gradOutput * self.gamma\n",
        "        return self.gradInput\n",
        "    \n",
        "    def accGradParameters(self, input, gradOutput):\n",
        "        self.gradBeta = np.sum(gradOutput, axis=0)\n",
        "        self.gradGamma = np.sum(gradOutput*input, axis=0)\n",
        "    \n",
        "    def zeroGradParameters(self):\n",
        "        self.gradGamma.fill(0)\n",
        "        self.gradBeta.fill(0)\n",
        "        \n",
        "    def getParameters(self):\n",
        "        return [self.gamma, self.beta]\n",
        "    \n",
        "    def getGradParameters(self):\n",
        "        return [self.gradGamma, self.gradBeta]\n",
        "    \n",
        "    def __repr__(self):\n",
        "        return \"ChannelwiseScaling\""
      ],
      "execution_count": 0,
      "outputs": []
    },
    {
      "cell_type": "code",
      "metadata": {
        "id": "_Yi-lJJfcUje",
        "colab_type": "code",
        "colab": {}
      },
      "source": [
        "class Dropout(Module):\n",
        "    def __init__(self, p=0.5):\n",
        "        super(Dropout, self).__init__()\n",
        "        \n",
        "        self.p = p\n",
        "        self.mask = None\n",
        "        \n",
        "    def updateOutput(self, input):\n",
        "        # Your code goes here. ################################################\n",
        "        return  self.output\n",
        "    \n",
        "    def updateGradInput(self, input, gradOutput):\n",
        "        # Your code goes here. ################################################\n",
        "        return self.gradInput\n",
        "        \n",
        "    def __repr__(self):\n",
        "        return \"Dropout\""
      ],
      "execution_count": 0,
      "outputs": []
    },
    {
      "cell_type": "code",
      "metadata": {
        "id": "x1nkBaS_cgoe",
        "colab_type": "code",
        "colab": {}
      },
      "source": [
        "class ReLU(Module):\n",
        "    def __init__(self):\n",
        "         super(ReLU, self).__init__()\n",
        "    \n",
        "    def updateOutput(self, input):\n",
        "        self.output = np.maximum(input, 0)\n",
        "        return self.output\n",
        "    \n",
        "    def updateGradInput(self, input, gradOutput):\n",
        "        self.gradInput = np.multiply(gradOutput , input > 0)\n",
        "        return self.gradInput\n",
        "    \n",
        "    def __repr__(self):\n",
        "        return \"ReLU\""
      ],
      "execution_count": 0,
      "outputs": []
    },
    {
      "cell_type": "code",
      "metadata": {
        "id": "c12q9aKsctcV",
        "colab_type": "code",
        "colab": {}
      },
      "source": [
        "class Criterion(object):\n",
        "    def __init__ (self):\n",
        "        self.output = None\n",
        "        self.gradInput = None\n",
        "        \n",
        "    def forward(self, input, target):\n",
        "        \"\"\"\n",
        "            Given an input and a target, compute the loss function \n",
        "            associated to the criterion and return the result.\n",
        "            \n",
        "            For consistency this function should not be overrided,\n",
        "            all the code goes in `updateOutput`.\n",
        "        \"\"\"\n",
        "        return self.updateOutput(input, target)\n",
        "\n",
        "    def backward(self, input, target):\n",
        "        \"\"\"\n",
        "            Given an input and a target, compute the gradients of the loss function\n",
        "            associated to the criterion and return the result. \n",
        "\n",
        "            For consistency this function should not be overrided,\n",
        "            all the code goes in `updateGradInput`.\n",
        "        \"\"\"\n",
        "        return self.updateGradInput(input, target)\n",
        "    \n",
        "    def updateOutput(self, input, target):\n",
        "        \"\"\"\n",
        "        Function to override.\n",
        "        \"\"\"\n",
        "        return self.output\n",
        "\n",
        "    def updateGradInput(self, input, target):\n",
        "        \"\"\"\n",
        "        Function to override.\n",
        "        \"\"\"\n",
        "        return self.gradInput   \n",
        "\n",
        "    def __repr__(self):\n",
        "        \"\"\"\n",
        "        Pretty printing. Should be overrided in every module if you want \n",
        "        to have readable description. \n",
        "        \"\"\"\n",
        "        return \"Criterion\""
      ],
      "execution_count": 0,
      "outputs": []
    },
    {
      "cell_type": "code",
      "metadata": {
        "id": "laolM8U6czBr",
        "colab_type": "code",
        "colab": {}
      },
      "source": [
        "class MSECriterion(Criterion):\n",
        "    def __init__(self):\n",
        "        super(MSECriterion, self).__init__()\n",
        "        \n",
        "    def updateOutput(self, input, target):   \n",
        "        self.output = np.sum(np.power(input - target,2)) / input.shape[0]\n",
        "        return self.output \n",
        " \n",
        "    def updateGradInput(self, input, target):\n",
        "        self.gradInput  = (input - target) * 2 / input.shape[0]\n",
        "        return self.gradInput\n",
        "\n",
        "    def __repr__(self):\n",
        "        return \"MSECriterion\""
      ],
      "execution_count": 0,
      "outputs": []
    },
    {
      "cell_type": "code",
      "metadata": {
        "id": "Zx6uquDYkiMj",
        "colab_type": "code",
        "colab": {}
      },
      "source": [
        "class LogSoftMax(Module):\n",
        "    def __init__(self):\n",
        "         super(LogSoftMax, self).__init__()\n",
        "    \n",
        "    def updateOutput(self, input):\n",
        "        # start with normalization for numerical stability\n",
        "        shiftx = np.subtract(input, input.max(axis=1, keepdims=True))\n",
        "        self.output = shiftx - np.log(np.sum(np.exp(shiftx), axis=1, keepdims=True))\n",
        "        return self.output\n",
        "    \n",
        "    def updateGradInput(self, input, gradOutput):\n",
        "        shiftx = np.subtract(input, input.max(axis=1, keepdims=True))\n",
        "        exps = np.exp(shiftx)\n",
        "        softmax = exps / np.sum(exps, axis=1, keepdims=True)\n",
        "        self.gradInput = gradOutput - softmax * np.sum(gradOutput, axis=1, keepdims=True)\n",
        "        return self.gradInput\n",
        "    \n",
        "    def __repr__(self):\n",
        "        return \"LogSoftMax\""
      ],
      "execution_count": 0,
      "outputs": []
    },
    {
      "cell_type": "code",
      "metadata": {
        "id": "NvNZ66NwkRkx",
        "colab_type": "code",
        "colab": {}
      },
      "source": [
        "class NLLCriterion(Criterion):\n",
        "    def __init__(self):\n",
        "        a = super(NLLCriterion, self)\n",
        "        super(NLLCriterion, self).__init__()\n",
        "        \n",
        "    def updateOutput(self, input, target):\n",
        "        B = input.shape[0]\n",
        "        loss = - input[range(B), target]\n",
        "        self.output = np.sum(loss) / B\n",
        "        return self.output\n",
        "\n",
        "    def updateGradInput(self, input, target):\n",
        "        B = input.shape[0]\n",
        "        self.gradInput = np.zeros_like(input)\n",
        "        self.gradInput[range(B), target] = - 1/B\n",
        "        return self.gradInput\n",
        "    \n",
        "    def __repr__(self):\n",
        "        return \"ClassNLLCriterion\""
      ],
      "execution_count": 0,
      "outputs": []
    },
    {
      "cell_type": "code",
      "metadata": {
        "id": "WyJqzdvXc2Ml",
        "colab_type": "code",
        "colab": {}
      },
      "source": [
        "class CrossEntropyLoss(Criterion):\n",
        "    \"\"\"\n",
        "    Combines LogSoftmax and NLLLoss in one single class.\n",
        "    \"\"\"\n",
        "    def __init__(self):\n",
        "        super(CrossEntropyLoss, self).__init__()\n",
        "        \n",
        "    def updateOutput(self, input, target):   \n",
        "        \"\"\"\n",
        "        Expects labels as targets, not onehot vectors\n",
        "        \"\"\"\n",
        "        shiftx = np.subtract(input, input.max(axis=1, keepdims=True))\n",
        "        loss = - shiftx[range(shiftx.shape[0]), target] + np.log(np.sum(np.exp(shiftx), axis=1))\n",
        "        self.output = np.sum(loss) / input.shape[0]\n",
        "        return self.output\n",
        " \n",
        "    def updateGradInput(self, input, target):\n",
        "        shiftx = np.subtract(input, input.max(axis=1, keepdims=True))\n",
        "        exps = np.exp(shiftx)\n",
        "        softmax = exps / np.sum(exps, axis=1, keepdims=True)\n",
        "        softmax[range(input.shape[0]), target] -= 1\n",
        "\n",
        "        self.gradInput = softmax / input.shape[0]\n",
        "        return self.gradInput\n",
        "\n",
        "    def __repr__(self):\n",
        "        return \"CrossEntropyLoss\""
      ],
      "execution_count": 0,
      "outputs": []
    },
    {
      "cell_type": "code",
      "metadata": {
        "id": "whQ08vfXbC9F",
        "colab_type": "code",
        "colab": {}
      },
      "source": [
        "#TESTING"
      ],
      "execution_count": 0,
      "outputs": []
    },
    {
      "cell_type": "code",
      "metadata": {
        "id": "jvZJLwSJMlus",
        "colab_type": "code",
        "colab": {}
      },
      "source": [
        "import torch\n",
        "from torch.autograd import Variable\n",
        "import numpy\n",
        "import unittest"
      ],
      "execution_count": 0,
      "outputs": []
    },
    {
      "cell_type": "code",
      "metadata": {
        "id": "KB4bPx3AMbcj",
        "colab_type": "code",
        "outputId": "af3fc4d4-4528-4b95-f42d-2e7d6782421c",
        "colab": {
          "base_uri": "https://localhost:8080/",
          "height": 253
        }
      },
      "source": [
        "class TestLayers(unittest.TestCase):\n",
        "    def test_Linear(self):\n",
        "        np.random.seed(42)\n",
        "        torch.manual_seed(42)\n",
        "\n",
        "        batch_size, n_in, n_out = 2, 3, 4\n",
        "        for _ in range(100):\n",
        "            # layers initialization\n",
        "            torch_layer = torch.nn.Linear(n_in, n_out)\n",
        "            custom_layer = Linear(n_in, n_out)\n",
        "            custom_layer.W = torch_layer.weight.data.numpy().T\n",
        "            custom_layer.b = torch_layer.bias.data.numpy()\n",
        "\n",
        "            layer_input = np.random.uniform(-10, 10, (batch_size, n_in)).astype(np.float32)\n",
        "            next_layer_grad = np.random.uniform(-10, 10, (batch_size, n_out)).astype(np.float32)\n",
        "\n",
        "            # 1. check layer output\n",
        "            custom_layer_output = custom_layer.updateOutput(layer_input)\n",
        "            layer_input_var = Variable(torch.from_numpy(layer_input), requires_grad=True)\n",
        "            torch_layer_output_var = torch_layer(layer_input_var)\n",
        "            self.assertTrue(np.allclose(torch_layer_output_var.data.numpy(), custom_layer_output, atol=1e-6))\n",
        "        \n",
        "            # 2. check layer input grad\n",
        "            custom_layer_grad = custom_layer.updateGradInput(layer_input, next_layer_grad)\n",
        "            torch_layer_output_var.backward(torch.from_numpy(next_layer_grad))\n",
        "            torch_layer_grad_var = layer_input_var.grad\n",
        "            self.assertTrue(np.allclose(torch_layer_grad_var.data.numpy(), custom_layer_grad, atol=1e-6))\n",
        "\n",
        "            # 3. check layer parameters grad\n",
        "            custom_layer.accGradParameters(layer_input, next_layer_grad)\n",
        "            weight_grad = custom_layer.gradW\n",
        "            bias_grad = custom_layer.gradb\n",
        "            torch_weight_grad = torch_layer.weight.grad.data.numpy().T\n",
        "            torch_bias_grad = torch_layer.bias.grad.data.numpy()\n",
        "            self.assertTrue(np.allclose(torch_weight_grad, weight_grad, atol=1e-6))\n",
        "            self.assertTrue(np.allclose(torch_bias_grad, bias_grad, atol=1e-6))\n",
        "\n",
        "    def test_SoftMax(self):\n",
        "        np.random.seed(42)\n",
        "        torch.manual_seed(42)\n",
        "\n",
        "        batch_size, n_in = 2, 4\n",
        "        for _ in range(100):\n",
        "            # layers initialization\n",
        "            torch_layer = torch.nn.Softmax(dim=1)\n",
        "            custom_layer = SoftMax()\n",
        "\n",
        "            layer_input = np.random.uniform(-10, 10, (batch_size, n_in)).astype(np.float32)\n",
        "            next_layer_grad = np.random.random((batch_size, n_in)).astype(np.float32)\n",
        "            next_layer_grad /= next_layer_grad.sum(axis=-1, keepdims=True)\n",
        "            next_layer_grad = next_layer_grad.clip(1e-5,1.)\n",
        "            next_layer_grad = 1. / next_layer_grad\n",
        "\n",
        "            # 1. check layer output\n",
        "            custom_layer_output = custom_layer.updateOutput(layer_input)\n",
        "            layer_input_var = Variable(torch.from_numpy(layer_input), requires_grad=True)\n",
        "            torch_layer_output_var = torch_layer(layer_input_var)\n",
        "            self.assertTrue(np.allclose(torch_layer_output_var.data.numpy(), custom_layer_output, atol=1e-5))\n",
        "\n",
        "            # 2. check layer input grad\n",
        "            custom_layer_grad = custom_layer.updateGradInput(layer_input, next_layer_grad)\n",
        "            torch_layer_output_var.backward(torch.from_numpy(next_layer_grad))\n",
        "            torch_layer_grad_var = layer_input_var.grad\n",
        "            self.assertTrue(np.allclose(torch_layer_grad_var.data.numpy(), custom_layer_grad, atol=1e-5))\n",
        "\n",
        "    def test_LogSoftMax(self):\n",
        "        np.random.seed(42)\n",
        "        torch.manual_seed(42)\n",
        "\n",
        "        batch_size, n_in = 2, 4\n",
        "        for _ in range(100):\n",
        "            # layers initialization\n",
        "            torch_layer = torch.nn.LogSoftmax(dim=1)\n",
        "            custom_layer = LogSoftMax()\n",
        "\n",
        "            layer_input = np.random.uniform(-10, 10, (batch_size, n_in)).astype(np.float32)\n",
        "            next_layer_grad = np.random.random((batch_size, n_in)).astype(np.float32)\n",
        "            next_layer_grad /= next_layer_grad.sum(axis=-1, keepdims=True)\n",
        "\n",
        "            # 1. check layer output\n",
        "            custom_layer_output = custom_layer.updateOutput(layer_input)\n",
        "            layer_input_var = Variable(torch.from_numpy(layer_input), requires_grad=True)\n",
        "            torch_layer_output_var = torch_layer(layer_input_var)\n",
        "            self.assertTrue(np.allclose(torch_layer_output_var.data.numpy(), custom_layer_output, atol=1e-6))\n",
        "\n",
        "            # 2. check layer input grad\n",
        "            custom_layer_grad = custom_layer.updateGradInput(layer_input, next_layer_grad)\n",
        "            torch_layer_output_var.backward(torch.from_numpy(next_layer_grad))\n",
        "            torch_layer_grad_var = layer_input_var.grad\n",
        "            self.assertTrue(np.allclose(torch_layer_grad_var.data.numpy(), custom_layer_grad, atol=1e-6))\n",
        "\n",
        "    def test_BatchNormalization(self):\n",
        "        np.random.seed(42)\n",
        "        torch.manual_seed(42)\n",
        "\n",
        "        batch_size, n_in = 32, 16\n",
        "        for _ in range(100):\n",
        "            # layers initialization\n",
        "            slope = np.random.uniform(0.01, 0.05)\n",
        "            alpha = 0.9\n",
        "            custom_layer = BatchNormalization(alpha)\n",
        "            custom_layer.train()\n",
        "            torch_layer = torch.nn.BatchNorm1d(n_in, eps=custom_layer.EPS, momentum=1.-alpha, affine=False)\n",
        "            custom_layer.moving_mean = torch_layer.running_mean.numpy().copy()\n",
        "            custom_layer.moving_variance = torch_layer.running_var.numpy().copy()\n",
        "\n",
        "            layer_input = np.random.uniform(-5, 5, (batch_size, n_in)).astype(np.float32)\n",
        "            next_layer_grad = np.random.uniform(-5, 5, (batch_size, n_in)).astype(np.float32)\n",
        "\n",
        "            # 1. check layer output\n",
        "            custom_layer_output = custom_layer.updateOutput(layer_input)\n",
        "            layer_input_var = Variable(torch.from_numpy(layer_input), requires_grad=True)\n",
        "            torch_layer_output_var = torch_layer(layer_input_var)\n",
        "            self.assertTrue(np.allclose(torch_layer_output_var.data.numpy(), custom_layer_output, atol=1e-6))\n",
        "\n",
        "            # 2. check layer input grad\n",
        "            custom_layer_grad = custom_layer.updateGradInput(layer_input, next_layer_grad)\n",
        "            torch_layer_output_var.backward(torch.from_numpy(next_layer_grad))\n",
        "            torch_layer_grad_var = layer_input_var.grad\n",
        "            self.assertTrue(np.allclose(torch_layer_grad_var.data.numpy(), custom_layer_grad, atol=1e-5))\n",
        "\n",
        "            # 3. check moving mean\n",
        "            self.assertTrue(np.allclose(custom_layer.moving_mean, torch_layer.running_mean.numpy()))\n",
        "            # we don't check moving_variance because pytorch uses slightly different formula for it:\n",
        "            # it computes moving average for unbiased variance (i.e var*N/(N-1))\n",
        "            #self.assertTrue(np.allclose(custom_layer.moving_variance, torch_layer.running_var.numpy()))\n",
        "\n",
        "            # 4. check evaluation mode\n",
        "            custom_layer.moving_variance = torch_layer.running_var.numpy().copy()\n",
        "            custom_layer.evaluate()\n",
        "            custom_layer_output = custom_layer.updateOutput(layer_input)\n",
        "            torch_layer.eval()\n",
        "            torch_layer_output_var = torch_layer(layer_input_var)\n",
        "            self.assertTrue(np.allclose(torch_layer_output_var.data.numpy(), custom_layer_output, atol=1e-6))\n",
        "\n",
        "    def test_Sequential(self):\n",
        "        np.random.seed(42)\n",
        "        torch.manual_seed(42)\n",
        "\n",
        "        batch_size, n_in = 2, 4\n",
        "        for _ in range(100):\n",
        "            # layers initialization\n",
        "            alpha = 0.9\n",
        "            torch_layer = torch.nn.BatchNorm1d(n_in, eps=BatchNormalization.EPS, momentum=1.-alpha, affine=True)\n",
        "            torch_layer.bias.data = torch.from_numpy(np.random.random(n_in).astype(np.float32))\n",
        "            custom_layer = Sequential()\n",
        "            bn_layer = BatchNormalization(alpha)\n",
        "            bn_layer.moving_mean = torch_layer.running_mean.numpy().copy()\n",
        "            bn_layer.moving_variance = torch_layer.running_var.numpy().copy()\n",
        "            custom_layer.add(bn_layer)\n",
        "            scaling_layer = ChannelwiseScaling(n_in)\n",
        "            scaling_layer.gamma = torch_layer.weight.data.numpy()\n",
        "            scaling_layer.beta = torch_layer.bias.data.numpy()\n",
        "            custom_layer.add(scaling_layer)\n",
        "            custom_layer.train()\n",
        "\n",
        "            layer_input = np.random.uniform(-5, 5, (batch_size, n_in)).astype(np.float32)\n",
        "            next_layer_grad = np.random.uniform(-5, 5, (batch_size, n_in)).astype(np.float32)\n",
        "\n",
        "            # 1. check layer output\n",
        "            custom_layer_output = custom_layer.updateOutput(layer_input)\n",
        "            layer_input_var = Variable(torch.from_numpy(layer_input), requires_grad=True)\n",
        "            torch_layer_output_var = torch_layer(layer_input_var)\n",
        "            self.assertTrue(np.allclose(torch_layer_output_var.data.numpy(), custom_layer_output, atol=1e-6))\n",
        "\n",
        "            # 2. check layer input grad\n",
        "            custom_layer_grad = custom_layer.backward(layer_input, next_layer_grad)\n",
        "            torch_layer_output_var.backward(torch.from_numpy(next_layer_grad))\n",
        "            torch_layer_grad_var = layer_input_var.grad\n",
        "            self.assertTrue(np.allclose(torch_layer_grad_var.data.numpy(), custom_layer_grad, atol=1e-5))\n",
        "\n",
        "            # 3. check layer parameters grad\n",
        "            weight_grad, bias_grad = custom_layer.getGradParameters()[1]\n",
        "            torch_weight_grad = torch_layer.weight.grad.data.numpy()\n",
        "            torch_bias_grad = torch_layer.bias.grad.data.numpy()\n",
        "            self.assertTrue(np.allclose(torch_weight_grad, weight_grad, atol=1e-6))\n",
        "            self.assertTrue(np.allclose(torch_bias_grad, bias_grad, atol=1e-6))\n",
        "\n",
        "    def test_NLLCriterion(self):\n",
        "        np.random.seed(42)\n",
        "        torch.manual_seed(42)\n",
        "\n",
        "        batch_size, n_in = 2, 4\n",
        "        for _ in range(100):\n",
        "            # layers initialization\n",
        "            torch_layer = torch.nn.NLLLoss()\n",
        "            custom_layer = NLLCriterion()\n",
        "\n",
        "            layer_input = np.random.uniform(-5, 5, (batch_size, n_in)).astype(np.float32)\n",
        "            layer_input = torch.nn.LogSoftmax(dim=1)(Variable(torch.from_numpy(layer_input))).data.numpy()\n",
        "            target_labels = np.random.choice(n_in, batch_size)\n",
        "            #target = np.zeros((batch_size, n_in), np.float32)\n",
        "            #target[np.arange(batch_size), target_labels] = 1  # one-hot encoding\n",
        "\n",
        "            # 1. check layer output\n",
        "            custom_layer_output = custom_layer.updateOutput(layer_input, target_labels)\n",
        "            layer_input_var = Variable(torch.from_numpy(layer_input), requires_grad=True)\n",
        "            torch_layer_output_var = torch_layer(layer_input_var, \n",
        "                                                 Variable(torch.from_numpy(target_labels), requires_grad=False))\n",
        "            self.assertTrue(np.allclose(torch_layer_output_var.data.numpy(), custom_layer_output, atol=1e-6))\n",
        "\n",
        "            # 2. check layer input grad\n",
        "            custom_layer_grad = custom_layer.updateGradInput(layer_input, target_labels)\n",
        "            torch_layer_output_var.backward()\n",
        "            torch_layer_grad_var = layer_input_var.grad\n",
        "            self.assertTrue(np.allclose(torch_layer_grad_var.data.numpy(), custom_layer_grad, atol=1e-6))\n",
        "\n",
        "    def test_CrossEntropyLoss(self):\n",
        "        np.random.seed(42)\n",
        "        torch.manual_seed(42)\n",
        "\n",
        "        batch_size, n_in = 2, 4\n",
        "        for _ in range(100):\n",
        "            # layers initialization\n",
        "            torch_layer = torch.nn.CrossEntropyLoss()\n",
        "            custom_layer = CrossEntropyLoss()\n",
        "\n",
        "            layer_input = np.random.uniform(-5, 5, (batch_size, n_in)).astype(np.float32)\n",
        "            layer_input = torch.nn.LogSoftmax(dim=1)(Variable(torch.from_numpy(layer_input))).data.numpy()\n",
        "            target_labels = np.random.choice(n_in, batch_size)\n",
        "            #target = np.zeros((batch_size, n_in), np.float32)\n",
        "            #target[np.arange(batch_size), target_labels] = 1  # one-hot encoding\n",
        "\n",
        "            # 1. check layer output\n",
        "            custom_layer_output = custom_layer.updateOutput(layer_input, target_labels)\n",
        "            layer_input_var = Variable(torch.from_numpy(layer_input), requires_grad=True)\n",
        "            torch_layer_output_var = torch_layer(layer_input_var, \n",
        "                                                 Variable(torch.from_numpy(target_labels), requires_grad=False))\n",
        "            self.assertTrue(np.allclose(torch_layer_output_var.data.numpy(), custom_layer_output, atol=1e-6))\n",
        "\n",
        "            # 2. check layer input grad\n",
        "            custom_layer_grad = custom_layer.updateGradInput(layer_input, target_labels)\n",
        "            torch_layer_output_var.backward()\n",
        "            torch_layer_grad_var = layer_input_var.grad\n",
        "            self.assertTrue(np.allclose(torch_layer_grad_var.data.numpy(), custom_layer_grad, atol=1e-6))\n",
        "\n",
        "suite = unittest.TestLoader().loadTestsFromTestCase(TestLayers)\n",
        "unittest.TextTestRunner(verbosity=2).run(suite)"
      ],
      "execution_count": 0,
      "outputs": [
        {
          "output_type": "stream",
          "text": [
            "test_BatchNormalization (__main__.TestLayers) ... ok\n",
            "test_ClassNLLCriterion (__main__.TestLayers) ... ok\n",
            "test_CrossEntropyLoss (__main__.TestLayers) ... ok\n",
            "test_Linear (__main__.TestLayers) ... ok\n",
            "test_LogSoftMax (__main__.TestLayers) ... ok\n",
            "test_Sequential (__main__.TestLayers) ... ok\n",
            "test_SoftMax (__main__.TestLayers) ... ok\n",
            "\n",
            "----------------------------------------------------------------------\n",
            "Ran 7 tests in 0.607s\n",
            "\n",
            "OK\n"
          ],
          "name": "stderr"
        },
        {
          "output_type": "execute_result",
          "data": {
            "text/plain": [
              "<unittest.runner.TextTestResult run=7 errors=0 failures=0>"
            ]
          },
          "metadata": {
            "tags": []
          },
          "execution_count": 217
        }
      ]
    },
    {
      "cell_type": "code",
      "metadata": {
        "id": "KBDVgrnKU9ff",
        "colab_type": "code",
        "colab": {}
      },
      "source": [
        "#TRAINING"
      ],
      "execution_count": 0,
      "outputs": []
    },
    {
      "cell_type": "code",
      "metadata": {
        "id": "sGB5goyfU9rk",
        "colab_type": "code",
        "colab": {}
      },
      "source": [
        "#!wget yann.lecun.com/exdb/mnist/train-images-idx3-ubyte.gz\n",
        "#!wget yann.lecun.com/exdb/mnist/train-labels-idx1-ubyte.gz\n",
        "#!wget yann.lecun.com/exdb/mnist/t10k-images-idx3-ubyte.gz\n",
        "#!wget yann.lecun.com/exdb/mnist/t10k-labels-idx1-ubyte.gz"
      ],
      "execution_count": 0,
      "outputs": []
    },
    {
      "cell_type": "code",
      "metadata": {
        "id": "_4Wnfcm9YWdn",
        "colab_type": "code",
        "colab": {}
      },
      "source": [
        "#!gzip -d train-images-idx3-ubyte.gz"
      ],
      "execution_count": 0,
      "outputs": []
    },
    {
      "cell_type": "code",
      "metadata": {
        "id": "0ZWcyxFnaDk8",
        "colab_type": "code",
        "colab": {
          "base_uri": "https://localhost:8080/",
          "height": 428
        },
        "outputId": "3670f40c-2a27-444f-ea04-42fae15517b7"
      },
      "source": [
        "!wget https://www.python-course.eu/data/mnist/mnist_train.csv\n",
        "!wget https://www.python-course.eu/data/mnist/mnist_test.csv"
      ],
      "execution_count": 15,
      "outputs": [
        {
          "output_type": "stream",
          "text": [
            "--2019-11-26 09:41:10--  https://www.python-course.eu/data/mnist/mnist_train.csv\n",
            "Resolving www.python-course.eu (www.python-course.eu)... 138.201.17.115, 2a01:4f8:171:286f::4\n",
            "Connecting to www.python-course.eu (www.python-course.eu)|138.201.17.115|:443... connected.\n",
            "HTTP request sent, awaiting response... 200 OK\n",
            "Length: 109575994 (104M) [text/csv]\n",
            "Saving to: ‘mnist_train.csv’\n",
            "\n",
            "mnist_train.csv     100%[===================>] 104.50M  27.1MB/s    in 4.4s    \n",
            "\n",
            "2019-11-26 09:41:20 (23.5 MB/s) - ‘mnist_train.csv’ saved [109575994/109575994]\n",
            "\n",
            "--2019-11-26 09:41:21--  https://www.python-course.eu/data/mnist/mnist_test.csv\n",
            "Resolving www.python-course.eu (www.python-course.eu)... 138.201.17.115, 2a01:4f8:171:286f::4\n",
            "Connecting to www.python-course.eu (www.python-course.eu)|138.201.17.115|:443... connected.\n",
            "HTTP request sent, awaiting response... 200 OK\n",
            "Length: 18289443 (17M) [text/csv]\n",
            "Saving to: ‘mnist_test.csv’\n",
            "\n",
            "mnist_test.csv      100%[===================>]  17.44M  13.7MB/s    in 1.3s    \n",
            "\n",
            "2019-11-26 09:41:23 (13.7 MB/s) - ‘mnist_test.csv’ saved [18289443/18289443]\n",
            "\n"
          ],
          "name": "stdout"
        }
      ]
    },
    {
      "cell_type": "code",
      "metadata": {
        "id": "f6oJyuVsa38P",
        "colab_type": "code",
        "outputId": "234c8344-29a8-4816-e2df-3a2573d37c16",
        "colab": {
          "base_uri": "https://localhost:8080/",
          "height": 148
        }
      },
      "source": [
        "%matplotlib inline\n",
        "import numpy as np\n",
        "import matplotlib.pyplot as plt\n",
        "image_size = 28\n",
        "image_pixels = image_size * image_size\n",
        "data_path = \"\"\n",
        "train_data = np.loadtxt(data_path + \"mnist_train.csv\", \n",
        "                        delimiter=\",\")\n",
        "test_data = np.loadtxt(data_path + \"mnist_test.csv\", \n",
        "                        delimiter=\",\")\n",
        "train_data[:10]"
      ],
      "execution_count": 16,
      "outputs": [
        {
          "output_type": "execute_result",
          "data": {
            "text/plain": [
              "array([[5., 0., 0., ..., 0., 0., 0.],\n",
              "       [0., 0., 0., ..., 0., 0., 0.],\n",
              "       [4., 0., 0., ..., 0., 0., 0.],\n",
              "       ...,\n",
              "       [3., 0., 0., ..., 0., 0., 0.],\n",
              "       [1., 0., 0., ..., 0., 0., 0.],\n",
              "       [4., 0., 0., ..., 0., 0., 0.]])"
            ]
          },
          "metadata": {
            "tags": []
          },
          "execution_count": 16
        }
      ]
    },
    {
      "cell_type": "code",
      "metadata": {
        "id": "_NHauKeVbfTc",
        "colab_type": "code",
        "colab": {}
      },
      "source": [
        "X_train = 2 * np.asfarray(train_data[:, 1:])/255 - 1\n",
        "y_train = np.asarray(train_data[:, :1], dtype=int)\n",
        "\n",
        "X_test = 2 * np.asfarray(test_data[:, 1:])/255 - 1\n",
        "y_test = np.asarray(test_data[:, :1], dtype=int)"
      ],
      "execution_count": 0,
      "outputs": []
    },
    {
      "cell_type": "code",
      "metadata": {
        "id": "r8My1eTobL3A",
        "colab_type": "code",
        "outputId": "02bf1f2b-9bd2-4882-ee4b-da9495fc1dd4",
        "colab": {
          "base_uri": "https://localhost:8080/",
          "height": 323
        }
      },
      "source": [
        "fig, axes = plt.subplots(1, 5, figsize=(20,15))\n",
        "axes = axes.flatten()\n",
        "for img, ax in zip(X_train[:5].reshape((-1,28,28)), axes):\n",
        "    ax.imshow(img, cmap=\"Greys\")\n",
        "plt.tight_layout()\n",
        "plt.show()"
      ],
      "execution_count": 0,
      "outputs": [
        {
          "output_type": "display_data",
          "data": {
            "image/png": "[encoded data removed]",
            "text/plain": [
              "<Figure size 1440x1080 with 5 Axes>"
            ]
          },
          "metadata": {
            "tags": []
          }
        }
      ]
    },
    {
      "cell_type": "code",
      "metadata": {
        "id": "EsI6ldbGctfX",
        "colab_type": "code",
        "colab": {}
      },
      "source": [
        "def train_test_split(X,y,ratio=0.1):\n",
        "    n_samples = X.shape[0]\n",
        "    indices = np.arange(n_samples)\n",
        "    np.random.shuffle(indices)\n",
        "\n",
        "    n = int(n_samples*ratio)\n",
        "    test_indices = indices[:n]\n",
        "    train_indices = indices[n:]\n",
        "\n",
        "    return X[train_indices], y[train_indices], X[test_indices], y[test_indices]\n",
        "\n",
        "X_train, y_train, X_val, y_val = train_test_split(X_train, y_train)"
      ],
      "execution_count": 0,
      "outputs": []
    },
    {
      "cell_type": "code",
      "metadata": {
        "id": "hYD3Xl2wYdaM",
        "colab_type": "code",
        "colab": {}
      },
      "source": [
        "# batch generator\n",
        "def get_batches(dataset, batch_size):\n",
        "    X, Y = dataset\n",
        "    n_samples = X.shape[0]\n",
        "        \n",
        "    # Shuffle at the start of epoch\n",
        "    indices = np.arange(n_samples)\n",
        "    np.random.shuffle(indices)\n",
        "    \n",
        "    for start in range(0, n_samples, batch_size):\n",
        "        end = min(start + batch_size, n_samples)\n",
        "        \n",
        "        batch_idx = indices[start:end]\n",
        "    \n",
        "        yield X[batch_idx], Y[batch_idx]"
      ],
      "execution_count": 0,
      "outputs": []
    },
    {
      "cell_type": "code",
      "metadata": {
        "id": "9aUpoDryXKXP",
        "colab_type": "code",
        "colab": {}
      },
      "source": [
        "def sgd_momentum(x, dx, config, state):\n",
        "    \"\"\"\n",
        "        This is a very ugly implementation of sgd with momentum \n",
        "        just to show an example how to store old grad in state.\n",
        "        \n",
        "        config:\n",
        "            - momentum\n",
        "            - learning_rate\n",
        "        state:\n",
        "            - old_grad\n",
        "    \"\"\"\n",
        "    \n",
        "    # x and dx have complex structure, old dx will be stored in a simpler one\n",
        "    state.setdefault('old_grad', {})\n",
        "    \n",
        "    i = 0 \n",
        "    for cur_layer_x, cur_layer_dx in zip(x,dx): \n",
        "        for cur_x, cur_dx in zip(cur_layer_x,cur_layer_dx):\n",
        "            \n",
        "            cur_old_grad = state['old_grad'].setdefault(i, np.zeros_like(cur_dx))\n",
        "            np.add(config['momentum'] * cur_old_grad, config['learning_rate'] * cur_dx, out = cur_old_grad)\n",
        "            \n",
        "            cur_x -= cur_old_grad\n",
        "            i += 1"
      ],
      "execution_count": 0,
      "outputs": []
    },
    {
      "cell_type": "code",
      "metadata": {
        "id": "7LZKwfaHXvQ-",
        "colab_type": "code",
        "outputId": "1418b464-9448-4dc5-951e-39c44455c7ec",
        "colab": {
          "base_uri": "https://localhost:8080/",
          "height": 223
        }
      },
      "source": [
        "net = Sequential()\n",
        "net.add(Linear(784, 128))\n",
        "net.add(BatchNormalization())\n",
        "net.add(ChannelwiseScaling(128))\n",
        "net.add(ReLU())\n",
        "net.add(Linear(128, 128))\n",
        "net.add(BatchNormalization())\n",
        "net.add(ChannelwiseScaling(128))\n",
        "net.add(ReLU())\n",
        "net.add(Linear(128, 10))\n",
        "net.add(LogSoftMax())\n",
        "\n",
        "criterion = NLLCriterion()\n",
        "\n",
        "print(net)"
      ],
      "execution_count": 113,
      "outputs": [
        {
          "output_type": "stream",
          "text": [
            "Linear 784 -> 128\n",
            "BatchNormalization\n",
            "ChannelwiseScaling\n",
            "ReLU\n",
            "Linear 128 -> 128\n",
            "BatchNormalization\n",
            "ChannelwiseScaling\n",
            "ReLU\n",
            "Linear 128 -> 10\n",
            "LogSoftMax\n",
            "\n"
          ],
          "name": "stdout"
        }
      ]
    },
    {
      "cell_type": "code",
      "metadata": {
        "id": "7o7NKthZYb62",
        "colab_type": "code",
        "colab": {}
      },
      "source": [
        "# Optimizer params\n",
        "optimizer_config = {'learning_rate' : 0.5, 'momentum': 0.9}\n",
        "optimizer_state = {}\n",
        "\n",
        "# Looping params\n",
        "n_epoch = 6\n",
        "batch_size = 512"
      ],
      "execution_count": 0,
      "outputs": []
    },
    {
      "cell_type": "code",
      "metadata": {
        "id": "2om8HZ1TLQ5g",
        "colab_type": "code",
        "colab": {}
      },
      "source": [
        "n_iters = X_train.shape[0] // batch_size\n",
        "if X_train.shape[0] % batch_size > 0:\n",
        "    n_iters += 1\n",
        "\n",
        "n_val_iters = X_val.shape[0] // batch_size\n",
        "if X_val.shape[0] % batch_size > 0:\n",
        "    n_val_iters += 1"
      ],
      "execution_count": 0,
      "outputs": []
    },
    {
      "cell_type": "code",
      "metadata": {
        "id": "spLBPcXpc4ss",
        "colab_type": "code",
        "outputId": "12a9bd8d-83cf-40b9-95f0-6358940eb946",
        "colab": {
          "base_uri": "https://localhost:8080/",
          "height": 423
        }
      },
      "source": [
        "from IPython import display\n",
        "\n",
        "history = []\n",
        "val_losses = []\n",
        "for i in range(n_epoch):\n",
        "    net.train()\n",
        "    \n",
        "    # LR schedule\n",
        "    if i>=2:\n",
        "        optimizer_config['learning_rate'] = 0.05\n",
        "\n",
        "    train_loss = 0\n",
        "    for x_batch, y_batch in get_batches((X_train, y_train), batch_size):\n",
        "        y_batch = y_batch.reshape(-1)\n",
        "        \n",
        "        net.zeroGradParameters()\n",
        "        \n",
        "        # Forward\n",
        "        predictions = net.forward(x_batch)\n",
        "        loss = criterion.forward(predictions, y_batch)\n",
        "    \n",
        "        # Backward\n",
        "        dp = criterion.backward(predictions, y_batch)\n",
        "        net.backward(x_batch, dp)\n",
        "        \n",
        "        # Update weights\n",
        "        sgd_momentum(net.getParameters(), \n",
        "                     net.getGradParameters(), \n",
        "                     optimizer_config,\n",
        "                     optimizer_state)      \n",
        "        \n",
        "        train_loss += loss\n",
        "        history.append(loss)\n",
        "    train_loss /= n_iters\n",
        "\n",
        "\n",
        "    net.evaluate()\n",
        "    val_loss = 0\n",
        "    for x_batch, y_batch in get_batches((X_val, y_val), batch_size):\n",
        "        y_batch = y_batch.reshape(-1)\n",
        "        \n",
        "        # Forward\n",
        "        predictions = net.forward(x_batch)\n",
        "        val_loss += criterion.forward(predictions, y_batch)  \n",
        "\n",
        "    val_loss /= n_val_iters\n",
        "    val_losses.append(val_loss)\n",
        "        \n",
        "\n",
        "    # Visualize    \n",
        "    display.clear_output(wait=True)\n",
        "    #plt.figure(figsize=(8, 6))\n",
        "\n",
        "    fig, (ax1, ax2) = plt.subplots(1, 2, figsize=(16, 6))\n",
        "        \n",
        "    ax1.set_title(\"Training loss\")\n",
        "    ax1.set(xlabel=\"#Iteration\", ylabel=\"loss\")\n",
        "    ax1.plot(history, 'b')\n",
        "\n",
        "    ax2.set_title(\"Val loss\")\n",
        "    ax2.set(xlabel=\"#Epoch\", ylabel=\"loss\")\n",
        "    ax2.plot(val_losses, 'r')\n",
        "\n",
        "    plt.show()\n",
        "    print('[{}] train loss: {}\\tval loss: {}'.format(i, train_loss, val_loss))"
      ],
      "execution_count": 116,
      "outputs": [
        {
          "output_type": "display_data",
          "data": {
            "image/png": "[encoded data removed]",
            "text/plain": [
              "<Figure size 1152x432 with 2 Axes>"
            ]
          },
          "metadata": {
            "tags": []
          }
        },
        {
          "output_type": "stream",
          "text": [
            "[5] train loss: 0.033980758290309\tval loss: 0.08135255659633887\n"
          ],
          "name": "stdout"
        }
      ]
    },
    {
      "cell_type": "code",
      "metadata": {
        "id": "lnjc18_APUBm",
        "colab_type": "code",
        "colab": {}
      },
      "source": [
        "y_pred = np.argmax(net.forward(X_test), axis=1)"
      ],
      "execution_count": 0,
      "outputs": []
    },
    {
      "cell_type": "code",
      "metadata": {
        "id": "MCYNik8xQM0L",
        "colab_type": "code",
        "outputId": "1187205e-c015-46aa-db94-6e1b2397579c",
        "colab": {
          "base_uri": "https://localhost:8080/",
          "height": 36
        }
      },
      "source": [
        "def accuracy(y_pred, y_true):\n",
        "    return sum(y_pred == y_true) / len(y_true)\n",
        "\n",
        "acc = accuracy(y_pred, y_test.reshape(-1))\n",
        "print(\"Accuracy on test: {}%\".format(acc*100))"
      ],
      "execution_count": 118,
      "outputs": [
        {
          "output_type": "stream",
          "text": [
            "Accuracy on test: 98.02%\n"
          ],
          "name": "stdout"
        }
      ]
    },
    {
      "cell_type": "code",
      "metadata": {
        "id": "KW-SUZu-YaCX",
        "colab_type": "code",
        "colab": {}
      },
      "source": [
        ""
      ],
      "execution_count": 0,
      "outputs": []
    },
    {
      "cell_type": "code",
      "metadata": {
        "id": "7h3MWQHEYZ-i",
        "colab_type": "code",
        "colab": {}
      },
      "source": [
        ""
      ],
      "execution_count": 0,
      "outputs": []
    },
    {
      "cell_type": "code",
      "metadata": {
        "id": "v0VPcz2zVyXt",
        "colab_type": "code",
        "colab": {
          "base_uri": "https://localhost:8080/",
          "height": 359
        },
        "outputId": "cfd40e51-82bb-4b96-9770-afc91fb48cb9"
      },
      "source": [
        "print(\"Misclassified images\")\n",
        "misclass = (X_test[y_pred != y_test.reshape(-1)] + 1)/2*255\n",
        "misclass = misclass.astype(np.uint8)\n",
        "\n",
        "fig, axes = plt.subplots(1, 5, figsize=(20,15))\n",
        "axes = axes.flatten()\n",
        "for img, ax in zip(misclass[:5].reshape((-1,28,28)), axes):\n",
        "    ax.imshow(img, cmap=\"Greys\")\n",
        "plt.tight_layout()\n",
        "plt.show()\n",
        "\n",
        "print(\"True label:\\t\",*y_test[y_pred != y_test.reshape(-1)].reshape(-1)[:5])\n",
        "print(\"Classified as:\\t\",*y_pred[y_pred != y_test.reshape(-1)][:5])"
      ],
      "execution_count": 136,
      "outputs": [
        {
          "output_type": "stream",
          "text": [
            "Misclassified images\n"
          ],
          "name": "stdout"
        },
        {
          "output_type": "display_data",
          "data": {
            "image/png": "[encoded data removed]",
            "text/plain": [
              "<Figure size 1440x1080 with 5 Axes>"
            ]
          },
          "metadata": {
            "tags": []
          }
        },
        {
          "output_type": "stream",
          "text": [
            "True label:\t 9 1 7 2 4\n",
            "Classified as:\t 5 9 4 8 2\n"
          ],
          "name": "stdout"
        }
      ]
    }
  ]
}