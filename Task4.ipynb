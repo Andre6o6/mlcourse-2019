{
  "nbformat": 4,
  "nbformat_minor": 0,
  "metadata": {
    "colab": {
      "name": "Task4.ipynb",
      "provenance": [],
      "collapsed_sections": [],
      "machine_shape": "hm",
      "include_colab_link": true
    },
    "kernelspec": {
      "name": "python3",
      "display_name": "Python 3"
    }
  },
  "cells": [
    {
      "cell_type": "markdown",
      "metadata": {
        "id": "view-in-github",
        "colab_type": "text"
      },
      "source": [
        "<a href=\"https://colab.research.google.com/github/Andre6o6/mlcourse-2019/blob/master/Task4.ipynb\" target=\"_parent\"><img src=\"https://colab.research.google.com/assets/colab-badge.svg\" alt=\"Open In Colab\"/></a>"
      ]
    },
    {
      "cell_type": "markdown",
      "metadata": {
        "id": "mcF9SOUwETee",
        "colab_type": "text"
      },
      "source": [
        "https://snap.stanford.edu/data/loc-gowalla.html"
      ]
    },
    {
      "cell_type": "code",
      "metadata": {
        "id": "9wCEin9NEJMl",
        "colab_type": "code",
        "colab": {}
      },
      "source": [
        "!wget https://snap.stanford.edu/data/loc-gowalla_edges.txt.gz\n",
        "!gunzip loc-gowalla_edges.txt.gz"
      ],
      "execution_count": 0,
      "outputs": []
    },
    {
      "cell_type": "code",
      "metadata": {
        "id": "5aJZf_kJF_tS",
        "colab_type": "code",
        "colab": {}
      },
      "source": [
        "#Preprocess\n",
        "import numpy as np\n",
        "from collections import defaultdict\n",
        "\n",
        "edges = []\n",
        "neighbours = defaultdict(list)\n",
        "\n",
        "with open('loc-gowalla_edges.txt', 'r') as f:\n",
        "    for line in f.readlines():\n",
        "        line = line[:-1]\n",
        "        a,b = map(int, line.split('\\t'))\n",
        "        \n",
        "        edges.append((a,b))\n",
        "        neighbours[a].append(b)\n",
        "\n",
        "for a in neighbours.keys():\n",
        "    edges.append((a,a))"
      ],
      "execution_count": 0,
      "outputs": []
    },
    {
      "cell_type": "markdown",
      "metadata": {
        "id": "bKDmSr0HbpEX",
        "colab_type": "text"
      },
      "source": [
        "# Affinity propagation"
      ]
    },
    {
      "cell_type": "code",
      "metadata": {
        "id": "SolR9PYO-mci",
        "colab_type": "code",
        "colab": {}
      },
      "source": [
        "# Define Similarity, Availability, Responsibility matrices\n",
        "\n",
        "n = 196591\n",
        "e = 950327*2\n",
        "\n",
        "S = np.ones(n + e, dtype=float)   #0..e - similarity \n",
        "S[e:] = np.full(n, 0.5)           #e..n+e - self-similarity\n",
        "\n",
        "A = np.zeros_like(S)\n",
        "R = np.zeros_like(S)\n",
        "\n",
        "smoothing=0.5"
      ],
      "execution_count": 0,
      "outputs": []
    },
    {
      "cell_type": "code",
      "metadata": {
        "id": "Z4migfnGABEF",
        "colab_type": "code",
        "outputId": "93decb79-9290-4eaf-8d43-a0098f09e46f",
        "colab": {
          "base_uri": "https://localhost:8080/",
          "height": 73
        }
      },
      "source": [
        "from tqdm import trange\n",
        "\n",
        "exemplars = np.array([])\n",
        "\n",
        "iters = 5\n",
        "for iter in trange(iters):\n",
        "    #Responsibility\n",
        "    tmp = A.copy()\n",
        "    tmp += S  #A + S\n",
        "\n",
        "    # max_{k'!=k} (a(i,k') + s(i,k'))\n",
        "    M1 = np.full(n, -np.inf)  #max tmp\n",
        "    M2 = np.full(n, -np.inf)  #second max (for k==argmax)\n",
        "    I = np.full(n, -1)        #argmax tmp\n",
        "    for i, (a,b) in enumerate(edges):   #Diag?\n",
        "        if M1[a] <= S[i]:\n",
        "            M2[a] = M1[a]\n",
        "            M1[a] = S[i]\n",
        "            I[a] = b\n",
        "        elif M2[a] <= S[i]:\n",
        "            M2[a] = S[i]\n",
        "\n",
        "    # R = S - max{...}\n",
        "    R_new = S.copy()\n",
        "    for i, (a,b) in enumerate(edges):\n",
        "        R_new[i] -= M2[a] if b==I[a] else M1[a]\n",
        "    \n",
        "    R = smoothing * R + (1 - smoothing) * R_new\n",
        "\n",
        "    #Availability\n",
        "    tmp = R.copy()\n",
        "    tmp[:e] = np.maximum(0, tmp[:e])    #... max(0, r(i',k)) for non-diag\n",
        "                                        # r(k,k) are untouched\n",
        "    sum_tmp = np.zeros(n) \n",
        "    for i, (a,b) in enumerate(edges):\n",
        "        sum_tmp[b] += tmp[i]\n",
        "    \n",
        "    A_new = np.zeros_like(A)\n",
        "    for i, (a,b) in enumerate(edges):\n",
        "        A_new[i] = sum_tmp[b] - tmp[i]\n",
        "\n",
        "    A_new[:e] = np.minimum(0, A_new[:e])    # min(0, ...) for non-diag\n",
        "\n",
        "    A = smoothing * A + (1 - smoothing) * A_new\n",
        "\n",
        "    #Check for convergance\n",
        "    exemplars_old = exemplars.copy()\n",
        "    exemplars = np.where(A[e:] + R[e:] > 0)[0]\n",
        "\n",
        "if (exemplars_old == exemplars).all():\n",
        "    print('\\nconverged')"
      ],
      "execution_count": 66,
      "outputs": [
        {
          "output_type": "stream",
          "text": [
            "100%|██████████| 5/5 [00:35<00:00,  7.15s/it]"
          ],
          "name": "stderr"
        },
        {
          "output_type": "stream",
          "text": [
            "\n",
            "converged\n"
          ],
          "name": "stdout"
        },
        {
          "output_type": "stream",
          "text": [
            "\n"
          ],
          "name": "stderr"
        }
      ]
    },
    {
      "cell_type": "code",
      "metadata": {
        "id": "5_XVAGcJ1PaX",
        "colab_type": "code",
        "colab": {
          "base_uri": "https://localhost:8080/",
          "height": 36
        },
        "outputId": "90e1a0b5-1340-4f3d-f236-16828d220839"
      },
      "source": [
        "print(\"Found %d exemplars\" % len(exemplars))"
      ],
      "execution_count": 241,
      "outputs": [
        {
          "output_type": "stream",
          "text": [
            "Found 7710 exemplars\n"
          ],
          "name": "stdout"
        }
      ]
    },
    {
      "cell_type": "markdown",
      "metadata": {
        "id": "viPXPoCOb7eU",
        "colab_type": "text"
      },
      "source": [
        "### Find corresponding exemplar for each node"
      ]
    },
    {
      "cell_type": "code",
      "metadata": {
        "id": "SrPxKWd4xIqH",
        "colab_type": "code",
        "colab": {
          "base_uri": "https://localhost:8080/",
          "height": 36
        },
        "outputId": "fe6bd826-ebd7-4b35-f523-6ba2a1731e98"
      },
      "source": [
        "#Assign immediate neightbours to exemplars\n",
        "M = np.full(n, -np.inf)\n",
        "I = np.full(n, -1)\n",
        "for i, (a,b) in enumerate(edges):\n",
        "    if b in exemplars and M[a] <= S[i]:\n",
        "        M[a] = S[i]\n",
        "        I[a] = b\n",
        "I"
      ],
      "execution_count": 69,
      "outputs": [
        {
          "output_type": "execute_result",
          "data": {
            "text/plain": [
              "array([   608,   1403,   2434, ..., 196540,     -1,     -1])"
            ]
          },
          "metadata": {
            "tags": []
          },
          "execution_count": 69
        }
      ]
    },
    {
      "cell_type": "code",
      "metadata": {
        "id": "Xwdoj0uY1rBA",
        "colab_type": "code",
        "colab": {
          "base_uri": "https://localhost:8080/",
          "height": 36
        },
        "outputId": "aec00cec-8320-4f68-b01c-4d1e7dcfc5f4"
      },
      "source": [
        "#Set identity exemplars\n",
        "for i in exemplars:\n",
        "    I[i] = i\n",
        "    M[i] = 1\n",
        "\n",
        "I"
      ],
      "execution_count": 72,
      "outputs": [
        {
          "output_type": "execute_result",
          "data": {
            "text/plain": [
              "array([     0,      1,      2, ..., 196540,     -1,     -1])"
            ]
          },
          "metadata": {
            "tags": []
          },
          "execution_count": 72
        }
      ]
    },
    {
      "cell_type": "code",
      "metadata": {
        "id": "qyTRaq9nzmKD",
        "colab_type": "code",
        "colab": {
          "base_uri": "https://localhost:8080/",
          "height": 36
        },
        "outputId": "409da53f-82f1-4ea2-d6b6-83cff2e8babc"
      },
      "source": [
        "#For unassigned nodes, set label(i)=argmax_j(A_ij+R_ij) \n",
        "Cr = A+R\n",
        "for i, (a,b) in enumerate(edges):\n",
        "    if I[a] == -1 and M[a] < Cr[i]:\n",
        "        M[a] = Cr[i]\n",
        "        I[a] = b\n",
        "I"
      ],
      "execution_count": 73,
      "outputs": [
        {
          "output_type": "execute_result",
          "data": {
            "text/plain": [
              "array([     0,      1,      2, ..., 196540, 196547, 196561])"
            ]
          },
          "metadata": {
            "tags": []
          },
          "execution_count": 73
        }
      ]
    },
    {
      "cell_type": "code",
      "metadata": {
        "id": "pVCn7MZS0YC3",
        "colab_type": "code",
        "colab": {
          "base_uri": "https://localhost:8080/",
          "height": 36
        },
        "outputId": "3c9183a0-99fc-439b-befa-9e7454b7c4cc"
      },
      "source": [
        "#Transitively collapse labels to exemplars\n",
        "while True:\n",
        "    new_I = I.copy()\n",
        "    for i, label in enumerate(new_I):\n",
        "        if label not in exemplars:      #FIXME there was M[i] < 0 first, not sure if its deletion will break stuff\n",
        "            new_I[i] = new_I[label]\n",
        "\n",
        "    if (I == new_I).all():\n",
        "        break\n",
        "\n",
        "    I = new_I\n",
        "new_I"
      ],
      "execution_count": 99,
      "outputs": [
        {
          "output_type": "execute_result",
          "data": {
            "text/plain": [
              "array([     0,      1,      2, ..., 196540,  59777,   7148])"
            ]
          },
          "metadata": {
            "tags": []
          },
          "execution_count": 99
        }
      ]
    },
    {
      "cell_type": "code",
      "metadata": {
        "id": "Xov83NH52Tep",
        "colab_type": "code",
        "colab": {
          "base_uri": "https://localhost:8080/",
          "height": 36
        },
        "outputId": "fb9116c8-889a-4dd0-d6ea-f49699e10ebb"
      },
      "source": [
        "len(np.unique(new_I))"
      ],
      "execution_count": 100,
      "outputs": [
        {
          "output_type": "execute_result",
          "data": {
            "text/plain": [
              "7710"
            ]
          },
          "metadata": {
            "tags": []
          },
          "execution_count": 100
        }
      ]
    },
    {
      "cell_type": "code",
      "metadata": {
        "id": "SzhFgXhA5Weh",
        "colab_type": "code",
        "colab": {}
      },
      "source": [
        "labels = new_I"
      ],
      "execution_count": 0,
      "outputs": []
    },
    {
      "cell_type": "markdown",
      "metadata": {
        "id": "9mvQKjvebEg_",
        "colab_type": "text"
      },
      "source": [
        "# Analize clusters"
      ]
    },
    {
      "cell_type": "code",
      "metadata": {
        "id": "NnGyhQVUfkrO",
        "colab_type": "code",
        "outputId": "b0194567-95a5-4070-e51e-ff1372a19a16",
        "colab": {
          "base_uri": "https://localhost:8080/",
          "height": 318
        }
      },
      "source": [
        "import matplotlib.pyplot as plt\n",
        "import seaborn as sns\n",
        "%pylab inline\n",
        "\n",
        "cluster_sizes = defaultdict(int)\n",
        "\n",
        "for label in labels:\n",
        "    cluster_sizes[label] += 1\n",
        "\n",
        "sizes = sorted(cluster_sizes.values(), reverse=True)\n",
        "\n",
        "plt.title(\"Cluster size distribution\")\n",
        "sns.distplot(sizes)"
      ],
      "execution_count": 262,
      "outputs": [
        {
          "output_type": "stream",
          "text": [
            "Populating the interactive namespace from numpy and matplotlib\n"
          ],
          "name": "stdout"
        },
        {
          "output_type": "execute_result",
          "data": {
            "text/plain": [
              "<matplotlib.axes._subplots.AxesSubplot at 0x7f9ade637a20>"
            ]
          },
          "metadata": {
            "tags": []
          },
          "execution_count": 262
        },
        {
          "output_type": "display_data",
          "data": {
            "image/png": "[encoded data removed]",
            "text/plain": [
              "<Figure size 432x288 with 1 Axes>"
            ]
          },
          "metadata": {
            "tags": []
          }
        }
      ]
    },
    {
      "cell_type": "code",
      "metadata": {
        "id": "zwOJg9xjWldo",
        "colab_type": "code",
        "colab": {
          "base_uri": "https://localhost:8080/",
          "height": 409
        },
        "outputId": "64f67870-d1f4-466e-f84e-050ff43785ca"
      },
      "source": [
        "plt.figure(figsize=(16,6))\n",
        "\n",
        "ax = plt.subplot(1, 2, 1)\n",
        "ax.set_title(\"10 biggest clusters\")\n",
        "sns.distplot(sizes[:10])\n",
        "\n",
        "ax = plt.subplot(1, 2, 2)\n",
        "ax.set_title(\"The rest of clusters\")\n",
        "sns.distplot(sizes[10:])\n",
        "plt.show()\n",
        "print(\"Max cluster size: %d, min cluster size: %d\" % (sizes[0], sizes[-1]))"
      ],
      "execution_count": 260,
      "outputs": [
        {
          "output_type": "display_data",
          "data": {
            "image/png": "[encoded data removed]",
            "text/plain": [
              "<Figure size 1152x432 with 2 Axes>"
            ]
          },
          "metadata": {
            "tags": []
          }
        },
        {
          "output_type": "stream",
          "text": [
            "Max cluster size: 10050, min cluster size: 3\n"
          ],
          "name": "stdout"
        }
      ]
    },
    {
      "cell_type": "markdown",
      "metadata": {
        "id": "Bv1wnQI-cJ6n",
        "colab_type": "text"
      },
      "source": [
        "# Train top-k classifier"
      ]
    },
    {
      "cell_type": "code",
      "metadata": {
        "id": "HMFSc7IU6Mll",
        "colab_type": "code",
        "colab": {}
      },
      "source": [
        "!wget https://snap.stanford.edu/data/loc-gowalla_totalCheckins.txt.gz\n",
        "!gunzip loc-gowalla_totalCheckins.txt.gz"
      ],
      "execution_count": 0,
      "outputs": []
    },
    {
      "cell_type": "code",
      "metadata": {
        "id": "3ho4pvOo6NHQ",
        "colab_type": "code",
        "colab": {}
      },
      "source": [
        "checkins = []\n",
        "\n",
        "with open('loc-gowalla_totalCheckins.txt', 'r') as f:\n",
        "    for line in f.readlines():\n",
        "        line = line[:-1]\n",
        "        line = line.split('\\t')\n",
        "        user, loc = int(line[0]), int(line[-1])\n",
        "        checkins.append((user, loc))"
      ],
      "execution_count": 0,
      "outputs": []
    },
    {
      "cell_type": "code",
      "metadata": {
        "id": "NSp7i-MHtbsO",
        "colab_type": "code",
        "colab": {}
      },
      "source": [
        "checkins_by_user = defaultdict(list)\n",
        "\n",
        "for (user, loc) in checkins:\n",
        "    checkins_by_user[user].append(loc)"
      ],
      "execution_count": 0,
      "outputs": []
    },
    {
      "cell_type": "code",
      "metadata": {
        "id": "X_TP6uwDZS4-",
        "colab_type": "code",
        "colab": {
          "base_uri": "https://localhost:8080/",
          "height": 36
        },
        "outputId": "c6ebc1ac-bf7a-4039-8186-3fa6a12126f5"
      },
      "source": [
        "# Train test split\n",
        "\n",
        "np.random.seed(0)\n",
        "\n",
        "users = list(set(checkins_by_user.keys()))\n",
        "users = np.array(users)\n",
        "np.random.shuffle(users)\n",
        "\n",
        "train_test_split = 0.1\n",
        "split_ind = int(train_test_split*len(users))\n",
        "\n",
        "users_train, users_test = users[split_ind:], users[:split_ind]\n",
        "print(\"Users in train set: %d, users in test set: %d\" % (len(users_train), len(users_test)))"
      ],
      "execution_count": 263,
      "outputs": [
        {
          "output_type": "stream",
          "text": [
            "Users in train set: 96383, users in test set: 10709\n"
          ],
          "name": "stdout"
        }
      ]
    },
    {
      "cell_type": "code",
      "metadata": {
        "id": "-KXhGvXiDcbU",
        "colab_type": "code",
        "colab": {}
      },
      "source": [
        "locations = np.array(list(set([x[1] for x in checkins])))\n",
        "n_locations = len(locations)\n",
        "\n",
        "loc_to_ind = {x:i for i,x in enumerate(locations)}"
      ],
      "execution_count": 0,
      "outputs": []
    },
    {
      "cell_type": "markdown",
      "metadata": {
        "id": "Ep4MRjaxcZrc",
        "colab_type": "text"
      },
      "source": [
        "### Baseline classifier"
      ]
    },
    {
      "cell_type": "code",
      "metadata": {
        "id": "whtAqn1oHIZr",
        "colab_type": "code",
        "colab": {
          "base_uri": "https://localhost:8080/",
          "height": 54
        },
        "outputId": "204c593e-1081-4165-bf55-d295c974df66"
      },
      "source": [
        "k = 10\n",
        "\n",
        "# Train\n",
        "checkin_count = np.zeros_like(locations)\n",
        "for user in users_train:\n",
        "    for loc in checkins_by_user[user]:\n",
        "        checkin_count[loc_to_ind[loc]] += 1\n",
        "\n",
        "topk_ind = np.argpartition(checkin_count, -k)[-k:]\n",
        "topk_ind = topk_ind[np.argsort(checkin_count[topk_ind])]\n",
        "\n",
        "topk_recommended_locations = locations[topk_ind[::-1]]\n",
        "print(\"Top-10 locations: \", topk_recommended_locations)\n",
        "print(\"Check-ins count: \", checkin_count[topk_ind[::-1]])"
      ],
      "execution_count": 266,
      "outputs": [
        {
          "output_type": "stream",
          "text": [
            "Top-10 locations:  [55033 19542  9410 10259 58725 14470 10190  9246 23256  9241]\n",
            "Check-ins count:  [5154 5003 4234 3775 3146 3093 3076 3045 3025 2992]\n"
          ],
          "name": "stdout"
        }
      ]
    },
    {
      "cell_type": "code",
      "metadata": {
        "id": "XryQq7-MKCq6",
        "colab_type": "code",
        "colab": {
          "base_uri": "https://localhost:8080/",
          "height": 36
        },
        "outputId": "b2d96106-dc4d-4c77-f6cd-df16b9e1f52e"
      },
      "source": [
        "# Test\n",
        "precision_at_k = 0\n",
        "\n",
        "for user in users_test:\n",
        "    relevant = 0\n",
        "    for loc in topk_recommended_locations:\n",
        "        if loc in checkins_by_user[user]:\n",
        "            relevant += 1\n",
        "    precision_at_k += relevant/k\n",
        "\n",
        "precision_at_k /= len(users_test)\n",
        "print(\"Mean precision@10 = \", precision_at_k)"
      ],
      "execution_count": 175,
      "outputs": [
        {
          "output_type": "stream",
          "text": [
            "Mean precision@10 =  0.01757400317489932\n"
          ],
          "name": "stdout"
        }
      ]
    },
    {
      "cell_type": "markdown",
      "metadata": {
        "id": "V5gp6cyrcf-c",
        "colab_type": "text"
      },
      "source": [
        "### Top-k classifier for each cluster"
      ]
    },
    {
      "cell_type": "code",
      "metadata": {
        "id": "0YFadrZzMK-9",
        "colab_type": "code",
        "colab": {}
      },
      "source": [
        "# Train\n",
        "n_clusters = len(exemplars)\n",
        "topk_by_cluster = np.zeros((n_clusters, 10))\n",
        "\n",
        "users_by_cluster = defaultdict(list)\n",
        "for user in users_train:\n",
        "    cluster = labels[user]\n",
        "    users_by_cluster[cluster].append(user)\n",
        "\n",
        "clust_to_ind = {x:i for i,x in enumerate(exemplars)}"
      ],
      "execution_count": 0,
      "outputs": []
    },
    {
      "cell_type": "code",
      "metadata": {
        "id": "L0HTt3hHNo-q",
        "colab_type": "code",
        "colab": {}
      },
      "source": [
        "# For each cluster find top-10 locations\n",
        "for cluster, users_in_cluster in users_by_cluster.items():\n",
        "    checkin_count = np.zeros_like(locations)\n",
        "\n",
        "    for user in users_in_cluster:\n",
        "        for loc in checkins_by_user[user]:\n",
        "            checkin_count[loc_to_ind[loc]] += 1\n",
        "\n",
        "    topk_ind = np.argpartition(checkin_count, -k)[-k:]\n",
        "    topk_ind = topk_ind[np.argsort(checkin_count[topk_ind])]\n",
        "    topk_locations = locations[topk_ind[::-1]]\n",
        "\n",
        "    if len(topk_locations)<k:\n",
        "        empty_topk = np.full(k,-1)\n",
        "        empty_topk[:len(topk_locations)] = topk_locations\n",
        "        topk_locations = empty_topk\n",
        "    \n",
        "    topk_by_cluster[clust_to_ind[cluster]] = topk_locations"
      ],
      "execution_count": 0,
      "outputs": []
    },
    {
      "cell_type": "code",
      "metadata": {
        "id": "_GMoNoaXNJRN",
        "colab_type": "code",
        "colab": {
          "base_uri": "https://localhost:8080/",
          "height": 36
        },
        "outputId": "84ba9797-a564-4e0d-ba15-c3784cec1c48"
      },
      "source": [
        "#Test\n",
        "precision_at_k = 0\n",
        "\n",
        "for user in users_test:\n",
        "    relevant = 0\n",
        "\n",
        "    label = labels[user]\n",
        "    cluster_ind = clust_to_ind[label]\n",
        "\n",
        "    for loc in topk_by_cluster[cluster_ind]:\n",
        "        if loc in checkins_by_user[user]:\n",
        "            relevant += 1\n",
        "    precision_at_k += relevant/k\n",
        "\n",
        "precision_at_k /= len(users_test)\n",
        "print(\"Mean precision@10 = \", precision_at_k)"
      ],
      "execution_count": 239,
      "outputs": [
        {
          "output_type": "stream",
          "text": [
            "Mean precision@10 =  0.03437295732561423\n"
          ],
          "name": "stdout"
        }
      ]
    }
  ]
}