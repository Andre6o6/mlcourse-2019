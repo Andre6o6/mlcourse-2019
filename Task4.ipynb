{
  "nbformat": 4,
  "nbformat_minor": 0,
  "metadata": {
    "colab": {
      "name": "Task4.ipynb",
      "provenance": [],
      "collapsed_sections": [],
      "toc_visible": true,
      "machine_shape": "hm",
      "include_colab_link": true
    },
    "kernelspec": {
      "name": "python3",
      "display_name": "Python 3"
    }
  },
  "cells": [
    {
      "cell_type": "markdown",
      "metadata": {
        "id": "view-in-github",
        "colab_type": "text"
      },
      "source": [
        "<a href=\"https://colab.research.google.com/github/Andre6o6/mlcourse-2019/blob/master/Task4.ipynb\" target=\"_parent\"><img src=\"https://colab.research.google.com/assets/colab-badge.svg\" alt=\"Open In Colab\"/></a>"
      ]
    },
    {
      "cell_type": "markdown",
      "metadata": {
        "id": "mcF9SOUwETee",
        "colab_type": "text"
      },
      "source": [
        "https://snap.stanford.edu/data/loc-gowalla.html"
      ]
    },
    {
      "cell_type": "code",
      "metadata": {
        "id": "9wCEin9NEJMl",
        "colab_type": "code",
        "outputId": "ba9af678-80b5-42c6-efca-d50ab88851a4",
        "colab": {
          "base_uri": "https://localhost:8080/",
          "height": 217
        }
      },
      "source": [
        "!wget https://snap.stanford.edu/data/loc-gowalla_edges.txt.gz\n",
        "!gunzip loc-gowalla_edges.txt.gz"
      ],
      "execution_count": 1,
      "outputs": [
        {
          "output_type": "stream",
          "text": [
            "--2020-01-06 08:55:09--  https://snap.stanford.edu/data/loc-gowalla_edges.txt.gz\n",
            "Resolving snap.stanford.edu (snap.stanford.edu)... 171.64.75.80\n",
            "Connecting to snap.stanford.edu (snap.stanford.edu)|171.64.75.80|:443... connected.\n",
            "HTTP request sent, awaiting response... 200 OK\n",
            "Length: 6351523 (6.1M) [application/x-gzip]\n",
            "Saving to: ‘loc-gowalla_edges.txt.gz’\n",
            "\n",
            "loc-gowalla_edges.t 100%[===================>]   6.06M  1.21MB/s    in 5.0s    \n",
            "\n",
            "2020-01-06 08:55:20 (1.21 MB/s) - ‘loc-gowalla_edges.txt.gz’ saved [6351523/6351523]\n",
            "\n"
          ],
          "name": "stdout"
        }
      ]
    },
    {
      "cell_type": "code",
      "metadata": {
        "id": "5aJZf_kJF_tS",
        "colab_type": "code",
        "colab": {}
      },
      "source": [
        "#Preprocess\n",
        "import numpy as np\n",
        "from collections import defaultdict\n",
        "\n",
        "edges = []\n",
        "neighbours = defaultdict(list)\n",
        "\n",
        "with open('loc-gowalla_edges.txt', 'r') as f:\n",
        "    for line in f.readlines():\n",
        "        line = line[:-1]\n",
        "        a,b = map(int, line.split('\\t'))\n",
        "        \n",
        "        edges.append((a,b))\n",
        "        neighbours[a].append(b)\n",
        "\n",
        "for a in neighbours.keys():\n",
        "    edges.append((a,a))"
      ],
      "execution_count": 0,
      "outputs": []
    },
    {
      "cell_type": "markdown",
      "metadata": {
        "id": "bKDmSr0HbpEX",
        "colab_type": "text"
      },
      "source": [
        "# Affinity propagation"
      ]
    },
    {
      "cell_type": "code",
      "metadata": {
        "id": "SolR9PYO-mci",
        "colab_type": "code",
        "colab": {}
      },
      "source": [
        "# Define Similarity, Availability, Responsibility matrices\n",
        "\n",
        "n = 196591\n",
        "e = 950327*2\n",
        "\n",
        "S = np.ones(n + e, dtype=float)   #0..e - similarity \n",
        "S[e:] = -100           #e..n+e - self-similarity"
      ],
      "execution_count": 0,
      "outputs": []
    },
    {
      "cell_type": "code",
      "metadata": {
        "id": "p1mkxL_KcalM",
        "colab_type": "code",
        "colab": {}
      },
      "source": [
        "def update_responsibility(S, A):\n",
        "    tmp = A + S\n",
        "\n",
        "    # max_{k'!=k} (a(i,k') + s(i,k'))\n",
        "    M1 = np.full(n, -np.inf)  #max tmp\n",
        "    M2 = np.full(n, -np.inf)  #second max (for k==argmax)\n",
        "    I = np.full(n, -1)        #argmax tmp\n",
        "    for i, (a,b) in enumerate(edges):   #Diag?\n",
        "        if M1[a] < tmp[i]:\n",
        "            M2[a] = M1[a]\n",
        "            M1[a] = tmp[i]\n",
        "            I[a] = b\n",
        "        elif M2[a] < tmp[i]:\n",
        "            M2[a] = tmp[i]\n",
        "\n",
        "    # R = S - max{...}\n",
        "    R_new = S.copy()\n",
        "    for i, (a,b) in enumerate(edges):\n",
        "        if b != I[a]:\n",
        "            R_new[i] -= M1[a]\n",
        "        else:\n",
        "            R_new[i] -= M2[a]\n",
        "    \n",
        "    return R_new\n",
        "\n",
        "def update_availability(R):\n",
        "    e = 950327*2\n",
        "    \n",
        "    tmp = R.copy()\n",
        "    tmp[:e] = np.maximum(0, tmp[:e])    #... max(0, r(i',k)) for non-diag\n",
        "                                            # r(k,k) are untouched\n",
        "    sum_tmp = np.zeros(n) \n",
        "    for i, (a,b) in enumerate(edges):\n",
        "        sum_tmp[b] += tmp[i]\n",
        "    \n",
        "    A_new = np.zeros_like(A)\n",
        "    for i, (a,b) in enumerate(edges):\n",
        "        A_new[i] = sum_tmp[b] - tmp[i]\n",
        "    A_new[:e] = np.minimum(0, A_new[:e])    # min(0, ...) for non-diag\n",
        "\n",
        "    return A_new\n"
      ],
      "execution_count": 0,
      "outputs": []
    },
    {
      "cell_type": "code",
      "metadata": {
        "id": "WyptAkXeLTSa",
        "colab_type": "code",
        "outputId": "db536e2f-20e2-4853-c515-bf1851cefb8e",
        "colab": {
          "base_uri": "https://localhost:8080/",
          "height": 35
        }
      },
      "source": [
        "from tqdm import trange\n",
        "\n",
        "def affinity_propagation(S, smoothing=0.5, iters=50):\n",
        "    n = 196591\n",
        "    e = 950327*2\n",
        "\n",
        "    A = np.zeros_like(S)\n",
        "    R = np.zeros_like(S)\n",
        "\n",
        "    exemplars = np.array([0])\n",
        "\n",
        "    with trange(iters) as t:\n",
        "        for i in t:\n",
        "            R_new = update_responsibility(S, A)        \n",
        "            R = smoothing * R + (1 - smoothing) * R_new\n",
        "\n",
        "            A_new = update_availability(R)\n",
        "            A = smoothing * A + (1 - smoothing) * A_new\n",
        "            \n",
        "            old_exemplars = exemplars\n",
        "            exemplars = np.where(A[e:] + R[e:] > 0)[0]\n",
        "            t.set_postfix(exemplars=len(exemplars), inter=len(np.intersect1d(old_exemplars, exemplars)))\n",
        "\n",
        "    exemplars = np.where(A[e:] + R[e:] > 0)[0]\n",
        "    return exemplars, A+R\n",
        "    \n",
        "exemplars, Cr = affinity_propagation(S, iters=1000)"
      ],
      "execution_count": 57,
      "outputs": [
        {
          "output_type": "stream",
          "text": [
            "100%|██████████| 1000/1000 [1:56:03<00:00,  6.94s/it, exemplars=21119, inter=21097]\n"
          ],
          "name": "stderr"
        }
      ]
    },
    {
      "cell_type": "markdown",
      "metadata": {
        "id": "viPXPoCOb7eU",
        "colab_type": "text"
      },
      "source": [
        "### Find corresponding exemplar for each node"
      ]
    },
    {
      "cell_type": "code",
      "metadata": {
        "id": "SrPxKWd4xIqH",
        "colab_type": "code",
        "colab": {}
      },
      "source": [
        "def find_labels(S, exemplars, Cr):\n",
        "\n",
        "    #Assign immediate neightbours to exemplars\n",
        "    M = np.full(n, -np.inf)\n",
        "    I = np.full(n, -1)\n",
        "    for i, (a,b) in enumerate(edges):\n",
        "        if b in exemplars and M[a] <= S[i]:\n",
        "            M[a] = S[i]\n",
        "            I[a] = b\n",
        "\n",
        "    #Set identity exemplars\n",
        "    for i in exemplars:\n",
        "        I[i] = i\n",
        "        M[i] = 1\n",
        "\n",
        "    #For unassigned nodes, set label(i)=argmax_j(A_ij+R_ij) \n",
        "    for i, (a,b) in enumerate(edges):\n",
        "        if I[a] == -1 and M[a] < Cr[i]:\n",
        "            M[a] = Cr[i]\n",
        "            I[a] = b\n",
        "\n",
        "    #Transitive closure\n",
        "    while True:\n",
        "        new_I = I.copy()\n",
        "        for i, label in enumerate(new_I):\n",
        "            if label not in exemplars:\n",
        "                new_I[i] = new_I[label]\n",
        "\n",
        "        if (I == new_I).all():\n",
        "            break\n",
        "\n",
        "        I = new_I\n",
        "    return new_I"
      ],
      "execution_count": 0,
      "outputs": []
    },
    {
      "cell_type": "code",
      "metadata": {
        "id": "gYkFuZVtH8Uu",
        "colab_type": "code",
        "outputId": "b8221a1e-4369-4b96-b540-0f305dce5133",
        "colab": {
          "base_uri": "https://localhost:8080/",
          "height": 53
        }
      },
      "source": [
        "print(\"Found %d exemplars\" % len(exemplars))\n",
        "labels = find_labels(S, exemplars, Cr)\n",
        "len(np.unique(labels))"
      ],
      "execution_count": 60,
      "outputs": [
        {
          "output_type": "stream",
          "text": [
            "Found 21119 exemplars\n"
          ],
          "name": "stdout"
        },
        {
          "output_type": "execute_result",
          "data": {
            "text/plain": [
              "21119"
            ]
          },
          "metadata": {
            "tags": []
          },
          "execution_count": 60
        }
      ]
    },
    {
      "cell_type": "markdown",
      "metadata": {
        "id": "9mvQKjvebEg_",
        "colab_type": "text"
      },
      "source": [
        "# Analize clusters"
      ]
    },
    {
      "cell_type": "code",
      "metadata": {
        "id": "NnGyhQVUfkrO",
        "colab_type": "code",
        "outputId": "75fff8c7-08c2-4ce7-f093-1c62c91c3f7e",
        "colab": {
          "base_uri": "https://localhost:8080/",
          "height": 392
        }
      },
      "source": [
        "import matplotlib.pyplot as plt\n",
        "import seaborn as sns\n",
        "%pylab inline\n",
        "\n",
        "cluster_sizes = defaultdict(int)\n",
        "\n",
        "for label in labels:\n",
        "    cluster_sizes[label] += 1\n",
        "\n",
        "sizes = sorted(cluster_sizes.values(), reverse=True)\n",
        "\n",
        "plt.title(\"Cluster size distribution\")\n",
        "sns.distplot(sizes)"
      ],
      "execution_count": 61,
      "outputs": [
        {
          "output_type": "stream",
          "text": [
            "Populating the interactive namespace from numpy and matplotlib\n"
          ],
          "name": "stdout"
        },
        {
          "output_type": "stream",
          "text": [
            "/usr/local/lib/python3.6/dist-packages/IPython/core/magics/pylab.py:161: UserWarning: pylab import has clobbered these variables: ['e', 'f']\n",
            "`%matplotlib` prevents importing * from pylab and numpy\n",
            "  \"\\n`%matplotlib` prevents importing * from pylab and numpy\"\n"
          ],
          "name": "stderr"
        },
        {
          "output_type": "execute_result",
          "data": {
            "text/plain": [
              "<matplotlib.axes._subplots.AxesSubplot at 0x7f0b0f0dd2e8>"
            ]
          },
          "metadata": {
            "tags": []
          },
          "execution_count": 61
        },
        {
          "output_type": "display_data",
          "data": {
            "image/png": "[encoded data removed]",
            "text/plain": [
              "<Figure size 432x288 with 1 Axes>"
            ]
          },
          "metadata": {
            "tags": []
          }
        }
      ]
    },
    {
      "cell_type": "code",
      "metadata": {
        "id": "zwOJg9xjWldo",
        "colab_type": "code",
        "outputId": "3b7969e6-fcf6-41c0-b076-f2c8c04da788",
        "colab": {
          "base_uri": "https://localhost:8080/",
          "height": 408
        }
      },
      "source": [
        "plt.figure(figsize=(16,6))\n",
        "\n",
        "ax = plt.subplot(1, 2, 1)\n",
        "ax.set_title(\"10 biggest clusters\")\n",
        "sns.distplot(sizes[:10])\n",
        "\n",
        "ax = plt.subplot(1, 2, 2)\n",
        "ax.set_title(\"The rest of clusters\")\n",
        "sns.distplot(sizes[10:])\n",
        "plt.show()\n",
        "print(\"Max cluster size: %d, min cluster size: %d\" % (sizes[0], sizes[-1]))"
      ],
      "execution_count": 62,
      "outputs": [
        {
          "output_type": "display_data",
          "data": {
            "image/png": "[encoded data removed]",
            "text/plain": [
              "<Figure size 1152x432 with 2 Axes>"
            ]
          },
          "metadata": {
            "tags": []
          }
        },
        {
          "output_type": "stream",
          "text": [
            "Max cluster size: 4087, min cluster size: 1\n"
          ],
          "name": "stdout"
        }
      ]
    },
    {
      "cell_type": "markdown",
      "metadata": {
        "id": "Bv1wnQI-cJ6n",
        "colab_type": "text"
      },
      "source": [
        "# Train top-k classifier"
      ]
    },
    {
      "cell_type": "code",
      "metadata": {
        "id": "HMFSc7IU6Mll",
        "colab_type": "code",
        "outputId": "13a3ebfc-4896-4219-dbc0-f849fc784f6e",
        "colab": {
          "base_uri": "https://localhost:8080/",
          "height": 217
        }
      },
      "source": [
        "!wget https://snap.stanford.edu/data/loc-gowalla_totalCheckins.txt.gz\n",
        "!gunzip loc-gowalla_totalCheckins.txt.gz"
      ],
      "execution_count": 63,
      "outputs": [
        {
          "output_type": "stream",
          "text": [
            "--2020-01-06 11:32:38--  https://snap.stanford.edu/data/loc-gowalla_totalCheckins.txt.gz\n",
            "Resolving snap.stanford.edu (snap.stanford.edu)... 171.64.75.80\n",
            "Connecting to snap.stanford.edu (snap.stanford.edu)|171.64.75.80|:443... connected.\n",
            "HTTP request sent, awaiting response... 200 OK\n",
            "Length: 105470044 (101M) [application/x-gzip]\n",
            "Saving to: ‘loc-gowalla_totalCheckins.txt.gz’\n",
            "\n",
            "loc-gowalla_totalCh 100%[===================>] 100.58M  20.1MB/s    in 11s     \n",
            "\n",
            "2020-01-06 11:32:49 (9.24 MB/s) - ‘loc-gowalla_totalCheckins.txt.gz’ saved [105470044/105470044]\n",
            "\n"
          ],
          "name": "stdout"
        }
      ]
    },
    {
      "cell_type": "code",
      "metadata": {
        "id": "3ho4pvOo6NHQ",
        "colab_type": "code",
        "colab": {}
      },
      "source": [
        "checkins = []\n",
        "\n",
        "with open('loc-gowalla_totalCheckins.txt', 'r') as f:\n",
        "    for line in f.readlines():\n",
        "        line = line[:-1]\n",
        "        line = line.split('\\t')\n",
        "        user, loc = int(line[0]), int(line[-1])\n",
        "        checkins.append((user, loc))"
      ],
      "execution_count": 0,
      "outputs": []
    },
    {
      "cell_type": "code",
      "metadata": {
        "id": "NSp7i-MHtbsO",
        "colab_type": "code",
        "colab": {}
      },
      "source": [
        "checkins_by_user = defaultdict(list)\n",
        "\n",
        "for (user, loc) in checkins:\n",
        "    checkins_by_user[user].append(loc)"
      ],
      "execution_count": 0,
      "outputs": []
    },
    {
      "cell_type": "code",
      "metadata": {
        "id": "X_TP6uwDZS4-",
        "colab_type": "code",
        "outputId": "dd9de487-f755-4445-cf4d-3649c7aadb49",
        "colab": {
          "base_uri": "https://localhost:8080/",
          "height": 35
        }
      },
      "source": [
        "# Train test split\n",
        "\n",
        "np.random.seed(0)\n",
        "\n",
        "users = list(set(checkins_by_user.keys()))\n",
        "users = np.array(users)\n",
        "np.random.shuffle(users)\n",
        "\n",
        "train_test_split = 0.1\n",
        "split_ind = int(train_test_split*len(users))\n",
        "\n",
        "users_train, users_test = users[split_ind:], users[:split_ind]\n",
        "print(\"Users in train set: %d, users in test set: %d\" % (len(users_train), len(users_test)))"
      ],
      "execution_count": 66,
      "outputs": [
        {
          "output_type": "stream",
          "text": [
            "Users in train set: 96383, users in test set: 10709\n"
          ],
          "name": "stdout"
        }
      ]
    },
    {
      "cell_type": "code",
      "metadata": {
        "id": "-KXhGvXiDcbU",
        "colab_type": "code",
        "colab": {}
      },
      "source": [
        "locations = np.array(list(set([x[1] for x in checkins])))\n",
        "n_locations = len(locations)\n",
        "\n",
        "loc_to_ind = {x:i for i,x in enumerate(locations)}"
      ],
      "execution_count": 0,
      "outputs": []
    },
    {
      "cell_type": "markdown",
      "metadata": {
        "id": "Ep4MRjaxcZrc",
        "colab_type": "text"
      },
      "source": [
        "### Baseline classifier"
      ]
    },
    {
      "cell_type": "code",
      "metadata": {
        "id": "whtAqn1oHIZr",
        "colab_type": "code",
        "outputId": "263b0105-b138-4552-f8c1-1cb29debce32",
        "colab": {
          "base_uri": "https://localhost:8080/",
          "height": 53
        }
      },
      "source": [
        "k = 10\n",
        "\n",
        "# Train\n",
        "checkin_count = np.zeros_like(locations)\n",
        "for user in users_train:\n",
        "    for loc in checkins_by_user[user]:\n",
        "        checkin_count[loc_to_ind[loc]] += 1\n",
        "\n",
        "topk_ind = np.argpartition(checkin_count, -k)[-k:]\n",
        "topk_ind = topk_ind[np.argsort(checkin_count[topk_ind])]\n",
        "\n",
        "topk_recommended_locations = locations[topk_ind[::-1]]\n",
        "print(\"Top-10 locations: \", topk_recommended_locations)\n",
        "print(\"Check-ins count: \", checkin_count[topk_ind[::-1]])"
      ],
      "execution_count": 68,
      "outputs": [
        {
          "output_type": "stream",
          "text": [
            "Top-10 locations:  [55033 19542  9410 10259 58725 14470 10190  9246 23256  9241]\n",
            "Check-ins count:  [5154 5003 4234 3775 3146 3093 3076 3045 3025 2992]\n"
          ],
          "name": "stdout"
        }
      ]
    },
    {
      "cell_type": "code",
      "metadata": {
        "id": "XryQq7-MKCq6",
        "colab_type": "code",
        "outputId": "ffb86943-349d-4d2a-bdfb-9c04eda26eb7",
        "colab": {
          "base_uri": "https://localhost:8080/",
          "height": 35
        }
      },
      "source": [
        "# Test\n",
        "precision_at_k = 0\n",
        "\n",
        "for user in users_test:\n",
        "    relevant = 0\n",
        "    for loc in topk_recommended_locations:\n",
        "        if loc in checkins_by_user[user]:\n",
        "            relevant += 1\n",
        "    precision_at_k += relevant/k\n",
        "\n",
        "precision_at_k /= len(users_test)\n",
        "print(\"Mean precision@10 = \", precision_at_k)"
      ],
      "execution_count": 69,
      "outputs": [
        {
          "output_type": "stream",
          "text": [
            "Mean precision@10 =  0.01757400317489932\n"
          ],
          "name": "stdout"
        }
      ]
    },
    {
      "cell_type": "markdown",
      "metadata": {
        "id": "V5gp6cyrcf-c",
        "colab_type": "text"
      },
      "source": [
        "### Top-k classifier for each cluster"
      ]
    },
    {
      "cell_type": "code",
      "metadata": {
        "id": "0YFadrZzMK-9",
        "colab_type": "code",
        "colab": {}
      },
      "source": [
        "# Train\n",
        "def train_clf(exemplars, labels, k=10):\n",
        "    n_clusters = len(exemplars)\n",
        "    topk_by_cluster = np.zeros((n_clusters, k))\n",
        "\n",
        "    users_by_cluster = defaultdict(list)\n",
        "    for user in users_train:\n",
        "        cluster = labels[user]\n",
        "        users_by_cluster[cluster].append(user)\n",
        "\n",
        "    clust_to_ind = {x:i for i,x in enumerate(exemplars)}\n",
        "\n",
        "    # For each cluster find top-10 locations\n",
        "    for cluster, users_in_cluster in users_by_cluster.items():\n",
        "        checkin_count = np.zeros_like(locations)\n",
        "\n",
        "        for user in users_in_cluster:\n",
        "            for loc in checkins_by_user[user]:\n",
        "                checkin_count[loc_to_ind[loc]] += 1\n",
        "\n",
        "        topk_ind = np.argpartition(checkin_count, -k)[-k:]\n",
        "        topk_ind = topk_ind[np.argsort(checkin_count[topk_ind])]\n",
        "        topk_locations = locations[topk_ind[::-1]]\n",
        "\n",
        "        if len(topk_locations)<k:\n",
        "            empty_topk = np.full(k,-1)\n",
        "            empty_topk[:len(topk_locations)] = topk_locations\n",
        "            topk_locations = empty_topk\n",
        "        \n",
        "        topk_by_cluster[clust_to_ind[cluster]] = topk_locations\n",
        "    return topk_by_cluster, clust_to_ind"
      ],
      "execution_count": 0,
      "outputs": []
    },
    {
      "cell_type": "code",
      "metadata": {
        "id": "_GMoNoaXNJRN",
        "colab_type": "code",
        "colab": {}
      },
      "source": [
        "#Test\n",
        "def test_clf(topk_by_cluster, clust_to_ind, k=10):\n",
        "    precision_at_k = 0\n",
        "\n",
        "    for user in users_test:\n",
        "        relevant = 0\n",
        "\n",
        "        label = labels[user]\n",
        "        cluster_ind = clust_to_ind[label]\n",
        "\n",
        "        for loc in topk_by_cluster[cluster_ind]:\n",
        "            if loc in checkins_by_user[user]:\n",
        "                relevant += 1\n",
        "        precision_at_k += relevant/k\n",
        "\n",
        "    precision_at_k /= len(users_test)\n",
        "    return precision_at_k"
      ],
      "execution_count": 0,
      "outputs": []
    },
    {
      "cell_type": "code",
      "metadata": {
        "id": "AQ2T-pnKJZO1",
        "colab_type": "code",
        "outputId": "aad61595-cee8-4636-e5b1-7fa3ef515005",
        "colab": {
          "base_uri": "https://localhost:8080/",
          "height": 35
        }
      },
      "source": [
        "topk_by_cluster, clust_to_ind = train_clf(exemplars, labels)\n",
        "precision = test_clf(topk_by_cluster, clust_to_ind)\n",
        "print(\"Mean precision@10 = \", precision)"
      ],
      "execution_count": 72,
      "outputs": [
        {
          "output_type": "stream",
          "text": [
            "Mean precision@10 =  0.050014006910076826\n"
          ],
          "name": "stdout"
        }
      ]
    },
    {
      "cell_type": "markdown",
      "metadata": {
        "id": "ffQ611_EM6UH",
        "colab_type": "text"
      },
      "source": [
        "# The effect of the number of iterations on accuracy"
      ]
    },
    {
      "cell_type": "code",
      "metadata": {
        "id": "FynduX6Qg-TI",
        "colab_type": "code",
        "colab": {}
      },
      "source": [
        "def affinity_propagation_gen(S, smoothing=0.5, iters=50):\n",
        "    n = 196591\n",
        "    e = 950327*2\n",
        "\n",
        "    A = np.zeros_like(S)\n",
        "    R = np.zeros_like(S)\n",
        "\n",
        "    for i in range(iters):\n",
        "        R_new = update_responsibility(S, A)        \n",
        "        R = smoothing * R + (1 - smoothing) * R_new\n",
        "\n",
        "        A_new = update_availability(R)\n",
        "        A = smoothing * A + (1 - smoothing) * A_new\n",
        "\n",
        "        exemplars = np.where(A[e:] + R[e:] > 0)[0]\n",
        "        yield exemplars, A+R\n"
      ],
      "execution_count": 0,
      "outputs": []
    },
    {
      "cell_type": "code",
      "metadata": {
        "id": "kCHZC-q9JZRO",
        "colab_type": "code",
        "outputId": "0447a26c-f16a-48c3-8778-fb763cc3c1ba",
        "colab": {
          "base_uri": "https://localhost:8080/",
          "height": 380
        }
      },
      "source": [
        "i = 0\n",
        "for (exemplars, Cr) in affinity_propagation_gen(S, iters=20):\n",
        "    i+=1\n",
        "\n",
        "    labels = find_labels(S, exemplars, Cr)\n",
        "    topk_by_cluster, clust_to_ind = train_clf(exemplars, labels)\n",
        "    precision = test_clf(topk_by_cluster, clust_to_ind)\n",
        "\n",
        "    print(\"[%d] %d clusters - precision@10 = %f\" %(i, len(exemplars), precision))"
      ],
      "execution_count": 79,
      "outputs": [
        {
          "output_type": "stream",
          "text": [
            "[1] 2375 clusters - precision@10 = 0.022897\n",
            "[2] 8661 clusters - precision@10 = 0.038239\n",
            "[3] 16377 clusters - precision@10 = 0.048557\n",
            "[4] 21414 clusters - precision@10 = 0.052871\n",
            "[5] 22533 clusters - precision@10 = 0.053945\n",
            "[6] 23939 clusters - precision@10 = 0.054580\n",
            "[7] 24238 clusters - precision@10 = 0.054692\n",
            "[8] 24563 clusters - precision@10 = 0.054356\n",
            "[9] 24479 clusters - precision@10 = 0.054375\n",
            "[10] 24377 clusters - precision@10 = 0.054319\n",
            "[11] 24367 clusters - precision@10 = 0.054403\n",
            "[12] 24220 clusters - precision@10 = 0.054281\n",
            "[13] 24227 clusters - precision@10 = 0.054309\n",
            "[14] 24229 clusters - precision@10 = 0.054253\n",
            "[15] 24494 clusters - precision@10 = 0.054272\n",
            "[16] 24541 clusters - precision@10 = 0.054412\n",
            "[17] 24543 clusters - precision@10 = 0.054571\n",
            "[18] 24545 clusters - precision@10 = 0.054571\n",
            "[19] 24411 clusters - precision@10 = 0.054608\n",
            "[20] 24412 clusters - precision@10 = 0.054562\n"
          ],
          "name": "stdout"
        }
      ]
    }
  ]
}