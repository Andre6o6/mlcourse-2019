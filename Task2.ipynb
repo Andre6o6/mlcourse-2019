{
  "nbformat": 4,
  "nbformat_minor": 0,
  "metadata": {
    "colab": {
      "name": "Task2.ipynb",
      "provenance": [],
      "collapsed_sections": [],
      "include_colab_link": true
    },
    "kernelspec": {
      "name": "python3",
      "display_name": "Python 3"
    },
    "accelerator": "GPU"
  },
  "cells": [
    {
      "cell_type": "markdown",
      "metadata": {
        "id": "view-in-github",
        "colab_type": "text"
      },
      "source": [
        "<a href=\"https://colab.research.google.com/github/Andre6o6/mlcourse-2019/blob/master/Task2.ipynb\" target=\"_parent\"><img src=\"https://colab.research.google.com/assets/colab-badge.svg\" alt=\"Open In Colab\"/></a>"
      ]
    },
    {
      "cell_type": "code",
      "metadata": {
        "id": "XY6GA3gnG9mi",
        "colab_type": "code",
        "outputId": "3ae0b9c3-aae3-49d6-dc8b-d808fb034ad2",
        "colab": {
          "base_uri": "https://localhost:8080/",
          "height": 312
        }
      },
      "source": [
        "!wget https://archive.org/download/nf_prize_dataset.tar/nf_prize_dataset.tar.gz"
      ],
      "execution_count": 0,
      "outputs": [
        {
          "output_type": "stream",
          "text": [
            "--2019-10-22 11:23:00--  https://archive.org/download/nf_prize_dataset.tar/nf_prize_dataset.tar.gz\n",
            "Resolving archive.org (archive.org)... 207.241.224.2\n",
            "Connecting to archive.org (archive.org)|207.241.224.2|:443... connected.\n",
            "HTTP request sent, awaiting response... 302 Found\n",
            "Location: https://ia800205.us.archive.org/7/items/nf_prize_dataset.tar/nf_prize_dataset.tar.gz [following]\n",
            "--2019-10-22 11:23:01--  https://ia800205.us.archive.org/7/items/nf_prize_dataset.tar/nf_prize_dataset.tar.gz\n",
            "Resolving ia800205.us.archive.org (ia800205.us.archive.org)... 207.241.230.25\n",
            "Connecting to ia800205.us.archive.org (ia800205.us.archive.org)|207.241.230.25|:443... connected.\n",
            "HTTP request sent, awaiting response... 200 OK\n",
            "Length: 697552028 (665M) [application/octet-stream]\n",
            "Saving to: ‘nf_prize_dataset.tar.gz’\n",
            "\n",
            "nf_prize_dataset.ta 100%[===================>] 665.24M  2.06MB/s    in 11m 8s  \n",
            "\n",
            "2019-10-22 11:34:10 (1019 KB/s) - ‘nf_prize_dataset.tar.gz’ saved [697552028/697552028]\n",
            "\n"
          ],
          "name": "stdout"
        }
      ]
    },
    {
      "cell_type": "code",
      "metadata": {
        "id": "dBTHWLCHOXdT",
        "colab_type": "code",
        "outputId": "affdd084-70d2-4e63-cc72-b0734befe0e9",
        "colab": {
          "base_uri": "https://localhost:8080/",
          "height": 129
        }
      },
      "source": [
        "from google.colab import drive\n",
        "drive.mount('/gdrive')"
      ],
      "execution_count": 1,
      "outputs": [
        {
          "output_type": "stream",
          "text": [
            "Go to this URL in a browser: https://accounts.google.com/o/oauth2/auth?client_id=947318989803-6bn6qk8qdgf4n4g3pfee6491hc0brc4i.apps.googleusercontent.com&redirect_uri=urn%3Aietf%3Awg%3Aoauth%3A2.0%3Aoob&scope=email%20https%3A%2F%2Fwww.googleapis.com%2Fauth%2Fdocs.test%20https%3A%2F%2Fwww.googleapis.com%2Fauth%2Fdrive%20https%3A%2F%2Fwww.googleapis.com%2Fauth%2Fdrive.photos.readonly%20https%3A%2F%2Fwww.googleapis.com%2Fauth%2Fpeopleapi.readonly&response_type=code\n",
            "\n",
            "Enter your authorization code:\n",
            "··········\n",
            "Mounted at /gdrive\n"
          ],
          "name": "stdout"
        }
      ]
    },
    {
      "cell_type": "code",
      "metadata": {
        "id": "Z7rxCmzyQKL1",
        "colab_type": "code",
        "colab": {}
      },
      "source": [
        "#!cp nf_prize_dataset.tar.gz '/gdrive/My Drive/data/'\n",
        "!cp '/gdrive/My Drive/data/nf_prize_dataset.tar.gz' ."
      ],
      "execution_count": 0,
      "outputs": []
    },
    {
      "cell_type": "code",
      "metadata": {
        "id": "3VITLCngHQku",
        "colab_type": "code",
        "colab": {}
      },
      "source": [
        "!tar -xzf nf_prize_dataset.tar.gz\n",
        "!tar -xf download/training_set.tar"
      ],
      "execution_count": 0,
      "outputs": []
    },
    {
      "cell_type": "code",
      "metadata": {
        "id": "Kqo7uucdIisG",
        "colab_type": "code",
        "colab": {}
      },
      "source": [
        ""
      ],
      "execution_count": 0,
      "outputs": []
    },
    {
      "cell_type": "markdown",
      "metadata": {
        "id": "ooKVQF4VmnqB",
        "colab_type": "text"
      },
      "source": [
        "Factorization machine from this paper: \n",
        "https://www.csie.ntu.edu.tw/~b97053/paper/Rendle2010FM.pdf"
      ]
    },
    {
      "cell_type": "code",
      "metadata": {
        "id": "-3r9U2FPZbQ4",
        "colab_type": "code",
        "colab": {}
      },
      "source": [
        "class FactorizationMachine:\n",
        "    def __init__(self, n, k):\n",
        "        self.w0 = 0\n",
        "        self.w = np.zeros(n)\n",
        "        self.v = np.zeros((n,k))\n",
        "\n",
        "        self.lr = 1e-2\n",
        "\n",
        "        self.x_batch = None\n",
        "\n",
        "    def step_lr(self, alpha=0.1):\n",
        "        self.lr = self.lr * alpha\n",
        "    \n",
        "    def forward(self, x):\n",
        "        #Cache\n",
        "        self.x_batch = x\n",
        "        \n",
        "        # Linear\n",
        "        first = x @ self.w\n",
        "        # Pairwise interactions\n",
        "        second = 0.5 * np.sum(np.square(x @ self.v) - x.power(2) @ np.square(self.v), axis=-1)\n",
        "\n",
        "        y = self.w0 + first + second\n",
        "        return y\n",
        "\n",
        "    def backward(self, dLdy):\n",
        "        if self.x_batch is None:\n",
        "            assert 0, 'Call forward first'\n",
        "\n",
        "        # Bias grad, dy/dw0 = 1\n",
        "        dLdw0 = np.mean(dLdy)\n",
        "        \n",
        "        # Np mean of sparse matrix gives matrix, so we cast to np array\n",
        "        # and take 0'th element for correct shapes - (n,)\n",
        "        dLdw = np.array(np.mean(self.x_batch.multiply(dLdy.reshape(-1,1)), axis=0))[0]\n",
        "\n",
        "        \n",
        "        # Could precompute this in forward pass\n",
        "        v_dot_x = scipy.sparse.csr_matrix(self.x_batch @ self.v)\n",
        "        \n",
        "        # For every batch sample, calculate dL/dv = dL/dy * dy/dw \n",
        "        dLdv = [(x.reshape(-1,1).multiply(v_dot_x.getrow(i)) -    \\\n",
        "                 x.power(2).reshape(-1,1).multiply(self.v)) * dLdy[i] \n",
        "                for i,x in enumerate(self.x_batch)]\n",
        "        \n",
        "        # Mean gradients over all batch samples\n",
        "        batch_size = self.x_batch.shape[0]\n",
        "        dLdv = scipy.sum(dLdv, axis=0).toarray() / batch_size\n",
        "\n",
        "        # Update weights\n",
        "        self.w0 -= self.lr * dLdw0\n",
        "        self.w -= self.lr * dLdw\n",
        "        self.v -= self.lr * dLdv\n",
        "        \n",
        "        #Clear cache\n",
        "        self.x_batch = None"
      ],
      "execution_count": 0,
      "outputs": []
    },
    {
      "cell_type": "code",
      "metadata": {
        "id": "bNfsvmL5S0Ld",
        "colab_type": "code",
        "colab": {}
      },
      "source": [
        "class MSE:\n",
        "    def __init__(self):\n",
        "        self.err = None\n",
        "    def forward(self, y_true, y_pred):\n",
        "        self.err = y_true - y_pred\n",
        "        return np.mean(np.square(self.err))\n",
        "    def backward(self):\n",
        "        if self.err is None:\n",
        "            assert 0, 'Call forward first'\n",
        "        return -2 * self.err"
      ],
      "execution_count": 0,
      "outputs": []
    },
    {
      "cell_type": "code",
      "metadata": {
        "id": "I1FAJnsajTHU",
        "colab_type": "code",
        "colab": {}
      },
      "source": [
        ""
      ],
      "execution_count": 0,
      "outputs": []
    },
    {
      "cell_type": "code",
      "metadata": {
        "id": "DAwOKrV4Iiwh",
        "colab_type": "code",
        "colab": {}
      },
      "source": [
        "import os\n",
        "import numpy as np\n",
        "\n",
        "#print(len(os.listdir('training_set/')))\n",
        "\n",
        "#with open('training_set/mv_0010218.txt') as f:\n",
        "#  print(f.readlines())"
      ],
      "execution_count": 0,
      "outputs": []
    },
    {
      "cell_type": "code",
      "metadata": {
        "id": "jEbtoaYBUkM1",
        "colab_type": "code",
        "colab": {}
      },
      "source": [
        "transactions = np.zeros((100480507, 3), dtype=int)\n",
        "i = 0\n",
        "\n",
        "root = 'training_set/'\n",
        "for filename in os.listdir(root):\n",
        "    file = root + filename\n",
        "    with open(file) as f:\n",
        "        lines = f.readlines()\n",
        "        movie_idx = int(lines[0].split(':')[0])\n",
        "        for line in lines[1:]:\n",
        "            user_idx, score, _ = line.split(',')\n",
        "            user_idx, score = int(user_idx), int(score)\n",
        "            transactions[i] = movie_idx, user_idx, score\n",
        "            i+=1\n"
      ],
      "execution_count": 0,
      "outputs": []
    },
    {
      "cell_type": "code",
      "metadata": {
        "id": "-RJCAH2S0AYu",
        "colab_type": "code",
        "colab": {}
      },
      "source": [
        "import random\n",
        "random.shuffle(transactions)"
      ],
      "execution_count": 0,
      "outputs": []
    },
    {
      "cell_type": "code",
      "metadata": {
        "id": "QV-AZimeREyy",
        "colab_type": "code",
        "colab": {}
      },
      "source": [
        "np.save('transactions.npy', transactions)\n",
        "#!cp transactions.npy '/gdrive/My Drive/data/'"
      ],
      "execution_count": 0,
      "outputs": []
    },
    {
      "cell_type": "code",
      "metadata": {
        "id": "dfeH2wNoQRAD",
        "colab_type": "code",
        "outputId": "a146b96a-0abe-48e5-a36d-df922e3bae0a",
        "colab": {
          "base_uri": "https://localhost:8080/",
          "height": 35
        }
      },
      "source": [
        "import gc\n",
        "gc.collect()"
      ],
      "execution_count": 126,
      "outputs": [
        {
          "output_type": "execute_result",
          "data": {
            "text/plain": [
              "1113"
            ]
          },
          "metadata": {
            "tags": []
          },
          "execution_count": 126
        }
      ]
    },
    {
      "cell_type": "code",
      "metadata": {
        "id": "Y3UvZIwYFQaM",
        "colab_type": "code",
        "colab": {}
      },
      "source": [
        "#transactions = np.load('transactions.npy')"
      ],
      "execution_count": 0,
      "outputs": []
    },
    {
      "cell_type": "code",
      "metadata": {
        "id": "-4VZ4kl6uNp1",
        "colab_type": "code",
        "outputId": "64e143e0-1259-4626-bf28-8c5e76d3191c",
        "colab": {
          "base_uri": "https://localhost:8080/",
          "height": 35
        }
      },
      "source": [
        "transactions.shape"
      ],
      "execution_count": 0,
      "outputs": [
        {
          "output_type": "execute_result",
          "data": {
            "text/plain": [
              "(100480507, 3)"
            ]
          },
          "metadata": {
            "tags": []
          },
          "execution_count": 5
        }
      ]
    },
    {
      "cell_type": "code",
      "metadata": {
        "id": "pf7QPfatyCkj",
        "colab_type": "code",
        "colab": {}
      },
      "source": [
        "n_movies = 17770    #1..17770\n",
        "\n",
        "n_users = 480189\n",
        "user_idxs = {x:i for i,x in enumerate(set(transactions[:, 1]))}\n",
        "\n",
        "#scores = {1, 2, 3, 4, 5}"
      ],
      "execution_count": 0,
      "outputs": []
    },
    {
      "cell_type": "code",
      "metadata": {
        "id": "rTOXvKu2I6a-",
        "colab_type": "code",
        "colab": {}
      },
      "source": [
        "transactions = transactions[:1000000]"
      ],
      "execution_count": 0,
      "outputs": []
    },
    {
      "cell_type": "code",
      "metadata": {
        "id": "qOR7uhUB0Qbw",
        "colab_type": "code",
        "colab": {}
      },
      "source": [
        "import scipy\n",
        "from scipy.sparse import csc_matrix\n",
        "\n",
        "def onehot(X):\n",
        "    dtype = np.uint8\n",
        "    rows = np.arange(X.size)\n",
        "    cols = X\n",
        "    data = np.ones(X.size, dtype=dtype)\n",
        "    return csc_matrix((data, (rows,cols)))  #coo?\n",
        "\n",
        "#Subtract 1 so that indexes are from 0 to 17770\n",
        "oh_movies = onehot(transactions[:, 0] - 1)\n",
        "#Map users to 0..480189 using user_idxs dict\n",
        "oh_users = onehot(np.vectorize(user_idxs.get)(transactions[:, 1]))\n",
        "\n",
        "y = transactions[:, 2]\n",
        "X = scipy.sparse.hstack((oh_movies, oh_users)).tocsr()"
      ],
      "execution_count": 0,
      "outputs": []
    },
    {
      "cell_type": "code",
      "metadata": {
        "id": "t_y0kJfe7tvg",
        "colab_type": "code",
        "colab": {}
      },
      "source": [
        "n = X.shape[1]\n",
        "k = 10\n",
        "model = FactorizationMachine(n,k)"
      ],
      "execution_count": 0,
      "outputs": []
    },
    {
      "cell_type": "code",
      "metadata": {
        "id": "tYYsr4VmDvVL",
        "colab_type": "code",
        "colab": {}
      },
      "source": [
        "criterion = MSE()"
      ],
      "execution_count": 0,
      "outputs": []
    },
    {
      "cell_type": "code",
      "metadata": {
        "id": "i4VoYbXd-C1X",
        "colab_type": "code",
        "colab": {}
      },
      "source": [
        "test_ratio = 0.05\n",
        "test_split = int(X.shape[0] * test_ratio)\n",
        "X_train, X_test, y_train, y_test = X[test_split:], X[:test_split], y[test_split:], y[:test_split]"
      ],
      "execution_count": 0,
      "outputs": []
    },
    {
      "cell_type": "code",
      "metadata": {
        "id": "qfW3noFi-9Lr",
        "colab_type": "code",
        "colab": {}
      },
      "source": [
        "batch_size = 1000\n",
        "\n",
        "iters = X_train.shape[0] // batch_size\n",
        "if (X_train.shape[0] % batch_size > 0):\n",
        "    iters += 1\n",
        "\n",
        "def get_batch_numpy(i):\n",
        "    return X_train[i*batch_size:(i+1)*batch_size], \\\n",
        "           y_train[i*batch_size:(i+1)*batch_size]"
      ],
      "execution_count": 0,
      "outputs": []
    },
    {
      "cell_type": "code",
      "metadata": {
        "id": "LMAQCU4fGPtt",
        "colab_type": "code",
        "colab": {}
      },
      "source": [
        "def r2_score(y, y_pred):\n",
        "    y_avg = y.mean()\n",
        "    ss_total = np.sum(np.square(y - y_avg))\n",
        "    ss_err = np.sum(np.square(y - y_pred))\n",
        "    return 1 - ss_err/ss_total"
      ],
      "execution_count": 0,
      "outputs": []
    },
    {
      "cell_type": "code",
      "metadata": {
        "id": "f-cvgqtZ8XLP",
        "colab_type": "code",
        "colab": {}
      },
      "source": [
        "epochs = 1\n",
        "for epoch in range(epochs):\n",
        "    for i in range(iters):\n",
        "        X_batch, y_batch = get_batch_numpy(i)\n",
        "\n",
        "        y_pred = model.forward(X_batch)\n",
        "        loss = criterion.forward(y_batch, y_pred)\n",
        "\n",
        "        dLdy = criterion.backward()\n",
        "        model.backward(dLdy)\n",
        "\n",
        "        print(\"[{}]({}) l = {}\".format(epoch, i, loss))\n",
        "        print(\"\\t r2 = {}\".format(r2_score(y_batch, y_pred)))"
      ],
      "execution_count": 0,
      "outputs": []
    },
    {
      "cell_type": "code",
      "metadata": {
        "id": "5IW2O9HjUq-O",
        "colab_type": "code",
        "outputId": "a2b98cc1-f102-420a-d44d-1371a4a51bd1",
        "colab": {
          "base_uri": "https://localhost:8080/",
          "height": 54
        }
      },
      "source": [
        "y_pred = model.forward(X_test)\n",
        "mse = criterion.forward(y_test, y_pred)\n",
        "print(\"RMSE =\", mse**0.5)\n",
        "print(\"R2 =\", r2_score(y_test, y_pred))"
      ],
      "execution_count": 0,
      "outputs": [
        {
          "output_type": "stream",
          "text": [
            "RMSE = 1.133851551679614\n",
            "R2 = 0.05384853860236494\n"
          ],
          "name": "stdout"
        }
      ]
    },
    {
      "cell_type": "code",
      "metadata": {
        "id": "ie93olA6_NvI",
        "colab_type": "code",
        "outputId": "5ad09a3a-4d88-4c22-ac55-b834d4c10486",
        "colab": {
          "base_uri": "https://localhost:8080/",
          "height": 35
        }
      },
      "source": [
        ""
      ],
      "execution_count": 0,
      "outputs": [
        {
          "output_type": "execute_result",
          "data": {
            "text/plain": [
              "0.3340234605620474"
            ]
          },
          "metadata": {
            "tags": []
          },
          "execution_count": 82
        }
      ]
    },
    {
      "cell_type": "code",
      "metadata": {
        "id": "DRw2bDFK5IzZ",
        "colab_type": "code",
        "colab": {}
      },
      "source": [
        ""
      ],
      "execution_count": 0,
      "outputs": []
    },
    {
      "cell_type": "code",
      "metadata": {
        "id": "hdfweGyqUyyv",
        "colab_type": "code",
        "colab": {}
      },
      "source": [
        "class FactorizationMachineDense:\n",
        "    def __init__(self, n, k):\n",
        "        self.w0 = 0\n",
        "        self.w = np.zeros(n)\n",
        "        self.v = np.zeros((n,k))\n",
        "\n",
        "        self.lr = 0.001\n",
        "\n",
        "        #cache\n",
        "        self.x_batch = None\n",
        "        self.v_dot_x = None\n",
        "\n",
        "    def forward(self, x):\n",
        "        #Cache\n",
        "        self.x_batch = x\n",
        "        self.v_dot_x = x @ self.v\n",
        "        \n",
        "        first = x @ self.w\n",
        "        second = 0.5 * np.sum(np.square(v_dot_x) - np.square(x) @ np.square(self.v), axis=-1)\n",
        "        y = self.w0 + first + second\n",
        "        return y\n",
        "\n",
        "    def backward(self, dLdy):\n",
        "        if self.x_batch is None:\n",
        "            assert 0, 'Call forward first'\n",
        "\n",
        "        dLdw0 = np.mean(dLdy)\n",
        "        dLdw = np.mean(self.x_batch * dLdy, axis=0)\n",
        "\n",
        "        b = self.x_batch.shape[0]\n",
        "        n, k = self.v.shape\n",
        "        dLdv = np.zeros((b,n,k))\n",
        "        for i,x in enumerate(self.x_batch):\n",
        "            dLdv[i] = (x[:, None] * (self.v_dot_x[i]) - self.v * np.square(x)[:, None]) * dLdy[i]\n",
        "        dLdv = np.mean(dLdv, axis=0)\n",
        "\n",
        "\n",
        "        self.w0 -= self.lr * dLdw0\n",
        "        self.w -= self.lr * dLdw\n",
        "        self.v -= self.lr * dLdv\n",
        "        \n",
        "        #Clear cache\n",
        "        self.x_batch = None\n",
        "        self.v_dot_x = None"
      ],
      "execution_count": 0,
      "outputs": []
    },
    {
      "cell_type": "code",
      "metadata": {
        "id": "I7acdPuwZjWY",
        "colab_type": "code",
        "colab": {}
      },
      "source": [
        "import torch\n",
        "\n",
        "device = torch.device('cuda' if torch.cuda.is_available() else 'cpu')\n",
        "\n",
        "class FactorizationMachineTorch:\n",
        "    def __init__(self, n, k):\n",
        "        self.w0 = torch.tensor(2.5)\n",
        "        self.w = 0.01*torch.randn(n)\n",
        "        self.v = 0.01*torch.randn(n,k)\n",
        "\n",
        "        self.lr = 0.01\n",
        "\n",
        "        #cache\n",
        "        self.x_batch = None\n",
        "        self.v_dot_x = None\n",
        "\n",
        "    def to(self, device):\n",
        "        self.w0 = self.w0.to(device)\n",
        "        self.w = self.w.to(device)\n",
        "        self.v = self.v.to(device)\n",
        "\n",
        "    def forward(self, x):\n",
        "        #Cache\n",
        "        self.x_batch = x\n",
        "        self.v_dot_x = torch.matmul(x, self.v)\n",
        "        \n",
        "        first = torch.matmul(x, self.w)\n",
        "        second = 0.5 * torch.sum(self.v_dot_x.pow(2) - torch.matmul(x.pow(2), self.v.pow(2)), dim=-1)\n",
        "        y = self.w0 + first + second\n",
        "        return y\n",
        "\n",
        "    def backward(self, dLdy):\n",
        "        if self.x_batch is None:\n",
        "            assert 0, 'Call forward first'\n",
        "\n",
        "        dLdw0 = torch.mean(dLdy)\n",
        "        dLdw = torch.mean(self.x_batch * dLdy.view(-1,1), dim=0)\n",
        "\n",
        "        b = self.x_batch.shape[0]\n",
        "        n, k = self.v.shape\n",
        "        dLdv = torch.zeros(b,n,k, device=device)\n",
        "        for i,x in enumerate(self.x_batch):\n",
        "            dLdv[i] = (x.view(-1,1) * self.v_dot_x[i] - self.v * x.pow(2).view(-1,1)) * dLdy[i]\n",
        "        dLdv = torch.mean(dLdv, dim=0)\n",
        "\n",
        "        self.w0 -= self.lr * dLdw0\n",
        "        self.w -= self.lr * dLdw\n",
        "        self.v -= self.lr * dLdv\n",
        "        \n",
        "        #Clear cache\n",
        "        self.x_batch = None\n",
        "        self.v_dot_x = None"
      ],
      "execution_count": 0,
      "outputs": []
    },
    {
      "cell_type": "code",
      "metadata": {
        "id": "yPsQC62641f0",
        "colab_type": "code",
        "colab": {}
      },
      "source": [
        "class MSE_torch:\n",
        "    def __init__(self):\n",
        "        self.err = None\n",
        "    def forward(self, y_true, y_pred):\n",
        "        self.err = y_true - y_pred\n",
        "        return torch.mean((self.err).pow(2))\n",
        "    def backward(self):\n",
        "        if self.err is None:\n",
        "            assert 0, 'Call forward first'\n",
        "        return -2 * self.err"
      ],
      "execution_count": 0,
      "outputs": []
    },
    {
      "cell_type": "code",
      "metadata": {
        "id": "QHLAPqbS5z4L",
        "colab_type": "code",
        "colab": {}
      },
      "source": [
        "'''def r2_score(y, y_pred):\n",
        "    y_avg = torch.mean(y)\n",
        "    ss_total = torch.sum((y - y_avg).pow(2))\n",
        "    ss_err = torch.sum((y - y_pred).pow(2))\n",
        "    return 1 - ss_err/ss_total'''"
      ],
      "execution_count": 0,
      "outputs": []
    },
    {
      "cell_type": "code",
      "metadata": {
        "id": "WhdIlvqW5r8J",
        "colab_type": "code",
        "colab": {}
      },
      "source": [
        "n = X.shape[1]\n",
        "k = 10\n",
        "model = FactorizationMachineTorch(n,k)\n",
        "model.to(device)\n",
        "\n",
        "criterion = MSE_torch()"
      ],
      "execution_count": 0,
      "outputs": []
    },
    {
      "cell_type": "code",
      "metadata": {
        "id": "xiIHt9j8dRbk",
        "colab_type": "code",
        "colab": {}
      },
      "source": [
        "batch_size = 250\n",
        "\n",
        "iters = X_train.shape[0] // batch_size\n",
        "if (X_train.shape[0] % batch_size > 0):\n",
        "    iters += 1\n",
        "\n",
        "def get_batch_torch(i):\n",
        "    return torch.tensor(X_train[i*batch_size:(i+1)*batch_size].toarray(), dtype=torch.float32), \\\n",
        "           torch.tensor(y_train[i*batch_size:(i+1)*batch_size], dtype=torch.float32)"
      ],
      "execution_count": 0,
      "outputs": []
    },
    {
      "cell_type": "code",
      "metadata": {
        "id": "NI3ri2Ec5r5i",
        "colab_type": "code",
        "colab": {
          "base_uri": "https://localhost:8080/",
          "height": 1000
        },
        "outputId": "0276fe8f-0495-4e10-c483-cff23d55f576"
      },
      "source": [
        "epochs = 1\n",
        "for epoch in range(epochs):\n",
        "    for i in range(iters):\n",
        "        X_batch, y_batch = get_batch_torch(i)\n",
        "\n",
        "        y_pred = model.forward(X_batch.to(device))\n",
        "        loss = criterion.forward(y_batch.to(device), y_pred)\n",
        "\n",
        "        dLdy = criterion.backward()\n",
        "        model.backward(dLdy)\n",
        "\n",
        "        print(\"[{}]({}) l = {}\".format(epoch, i, loss))\n",
        "        print(\"\\t r2 = {}\".format(r2_score(y_batch.cpu().numpy(), y_pred.cpu().numpy())))"
      ],
      "execution_count": 132,
      "outputs": [
        {
          "output_type": "stream",
          "text": [
            "[0](0) l = 2.180405855178833\n",
            "\t r2 = -1.3607685565948486\n",
            "[0](1) l = 2.255073308944702\n",
            "\t r2 = -1.8528475761413574\n",
            "[0](2) l = 2.0207278728485107\n",
            "\t r2 = -0.8709331750869751\n",
            "[0](3) l = 1.8806592226028442\n",
            "\t r2 = -0.8644311428070068\n",
            "[0](4) l = 1.9203916788101196\n",
            "\t r2 = -0.9891031980514526\n",
            "[0](5) l = 1.9273643493652344\n",
            "\t r2 = -0.6864335536956787\n",
            "[0](6) l = 1.643903374671936\n",
            "\t r2 = -0.6406220197677612\n",
            "[0](7) l = 1.8654861450195312\n",
            "\t r2 = -0.8647401332855225\n",
            "[0](8) l = 1.7583526372909546\n",
            "\t r2 = -0.6357618570327759\n",
            "[0](9) l = 1.6859344244003296\n",
            "\t r2 = -0.5640856027603149\n",
            "[0](10) l = 1.5486397743225098\n",
            "\t r2 = -0.6185345649719238\n",
            "[0](11) l = 1.7055796384811401\n",
            "\t r2 = -0.8780276775360107\n",
            "[0](12) l = 1.530409574508667\n",
            "\t r2 = -0.5579288005828857\n",
            "[0](13) l = 1.5527570247650146\n",
            "\t r2 = -0.431355357170105\n",
            "[0](14) l = 1.3764561414718628\n",
            "\t r2 = -0.3312159776687622\n",
            "[0](15) l = 1.299973964691162\n",
            "\t r2 = -0.2503403425216675\n",
            "[0](16) l = 1.4910309314727783\n",
            "\t r2 = -0.2487863302230835\n",
            "[0](17) l = 1.2752997875213623\n",
            "\t r2 = -0.2340526580810547\n",
            "[0](18) l = 1.4512534141540527\n",
            "\t r2 = -0.3241363763809204\n",
            "[0](19) l = 1.201505184173584\n",
            "\t r2 = -0.2718324661254883\n",
            "[0](20) l = 1.3349699974060059\n",
            "\t r2 = -0.2898958921432495\n",
            "[0](21) l = 1.2785786390304565\n",
            "\t r2 = -0.3122563362121582\n",
            "[0](22) l = 1.2913035154342651\n",
            "\t r2 = -0.1268075704574585\n",
            "[0](23) l = 1.1880491971969604\n",
            "\t r2 = -0.14900147914886475\n",
            "[0](24) l = 1.060343623161316\n",
            "\t r2 = -0.20438849925994873\n",
            "[0](25) l = 1.0739039182662964\n",
            "\t r2 = -0.1989600658416748\n",
            "[0](26) l = 1.0897226333618164\n",
            "\t r2 = -0.07533860206604004\n",
            "[0](27) l = 1.1489053964614868\n",
            "\t r2 = -0.05801749229431152\n",
            "[0](28) l = 1.1782852411270142\n",
            "\t r2 = -0.13850140571594238\n",
            "[0](29) l = 1.140424370765686\n",
            "\t r2 = -0.14760375022888184\n",
            "[0](30) l = 1.2128137350082397\n",
            "\t r2 = -0.17710518836975098\n",
            "[0](31) l = 1.0643128156661987\n",
            "\t r2 = -0.1523524522781372\n",
            "[0](32) l = 1.2199653387069702\n",
            "\t r2 = -0.028638482093811035\n",
            "[0](33) l = 1.1021008491516113\n",
            "\t r2 = -0.0185774564743042\n",
            "[0](34) l = 1.0918874740600586\n",
            "\t r2 = -0.08217382431030273\n",
            "[0](35) l = 1.0382378101348877\n",
            "\t r2 = -0.038553476333618164\n",
            "[0](36) l = 1.0044069290161133\n",
            "\t r2 = -0.03553938865661621\n",
            "[0](37) l = 1.0535717010498047\n",
            "\t r2 = 0.026504099369049072\n",
            "[0](38) l = 0.986254096031189\n",
            "\t r2 = -0.05151534080505371\n",
            "[0](39) l = 0.9242092370986938\n",
            "\t r2 = 0.014685511589050293\n",
            "[0](40) l = 1.0795323848724365\n",
            "\t r2 = -0.06253182888031006\n",
            "[0](41) l = 0.9899770021438599\n",
            "\t r2 = -0.047834157943725586\n",
            "[0](42) l = 1.1584725379943848\n",
            "\t r2 = 0.047859907150268555\n",
            "[0](43) l = 1.0902827978134155\n",
            "\t r2 = -0.048848867416381836\n",
            "[0](44) l = 0.9746062755584717\n",
            "\t r2 = 0.061854004859924316\n",
            "[0](45) l = 0.9539930820465088\n",
            "\t r2 = 0.054238855838775635\n",
            "[0](46) l = 0.9857531785964966\n",
            "\t r2 = 0.014940381050109863\n",
            "[0](47) l = 1.0660059452056885\n",
            "\t r2 = 0.04141688346862793\n",
            "[0](48) l = 0.9288036227226257\n",
            "\t r2 = 0.005461454391479492\n",
            "[0](49) l = 1.015303373336792\n",
            "\t r2 = 0.0399930477142334\n",
            "[0](50) l = 0.9798453450202942\n",
            "\t r2 = 0.06668603420257568\n",
            "[0](51) l = 0.9891521334648132\n",
            "\t r2 = -0.0015715360641479492\n",
            "[0](52) l = 0.9060220122337341\n",
            "\t r2 = 0.022739648818969727\n",
            "[0](53) l = 0.8099187612533569\n",
            "\t r2 = 0.09761983156204224\n",
            "[0](54) l = 0.8751820921897888\n",
            "\t r2 = 0.023234188556671143\n",
            "[0](55) l = 0.8505582809448242\n",
            "\t r2 = 0.07690900564193726\n",
            "[0](56) l = 1.0228981971740723\n",
            "\t r2 = 0.019836902618408203\n",
            "[0](57) l = 0.9020350575447083\n",
            "\t r2 = 0.0996360182762146\n",
            "[0](58) l = 1.030232310295105\n",
            "\t r2 = 0.11328750848770142\n",
            "[0](59) l = 0.9507265090942383\n",
            "\t r2 = 0.035774409770965576\n",
            "[0](60) l = 0.9515917897224426\n",
            "\t r2 = 0.11385530233383179\n",
            "[0](61) l = 1.002941608428955\n",
            "\t r2 = 0.01018744707107544\n",
            "[0](62) l = 0.8941357135772705\n",
            "\t r2 = 0.14152199029922485\n",
            "[0](63) l = 1.0672346353530884\n",
            "\t r2 = 0.039994239807128906\n",
            "[0](64) l = 0.9467661380767822\n",
            "\t r2 = 0.036209702491760254\n",
            "[0](65) l = 0.9741108417510986\n",
            "\t r2 = 0.1123659610748291\n",
            "[0](66) l = 1.042110800743103\n",
            "\t r2 = 0.05281937122344971\n",
            "[0](67) l = 0.9436549544334412\n",
            "\t r2 = 0.06473994255065918\n",
            "[0](68) l = 1.0040147304534912\n",
            "\t r2 = 0.042613863945007324\n",
            "[0](69) l = 1.0172103643417358\n",
            "\t r2 = 0.04599809646606445\n",
            "[0](70) l = 0.979030966758728\n",
            "\t r2 = 0.05132657289505005\n",
            "[0](71) l = 1.030393123626709\n",
            "\t r2 = 0.04953688383102417\n",
            "[0](72) l = 0.8931287527084351\n",
            "\t r2 = 0.08672064542770386\n",
            "[0](73) l = 0.9277204871177673\n",
            "\t r2 = 0.05786865949630737\n",
            "[0](74) l = 0.9900288581848145\n",
            "\t r2 = 0.09749257564544678\n",
            "[0](75) l = 1.1303225755691528\n",
            "\t r2 = 0.0338594913482666\n",
            "[0](76) l = 1.0052509307861328\n",
            "\t r2 = 0.05070441961288452\n",
            "[0](77) l = 0.8967860341072083\n",
            "\t r2 = 0.026739001274108887\n",
            "[0](78) l = 0.9968113303184509\n",
            "\t r2 = 0.03447180986404419\n",
            "[0](79) l = 0.977516233921051\n",
            "\t r2 = 0.06867742538452148\n",
            "[0](80) l = 0.9571396112442017\n",
            "\t r2 = 0.05941462516784668\n",
            "[0](81) l = 1.0928303003311157\n",
            "\t r2 = 0.05267834663391113\n",
            "[0](82) l = 0.9210899472236633\n",
            "\t r2 = 0.06558912992477417\n",
            "[0](83) l = 0.960861325263977\n",
            "\t r2 = 0.08938980102539062\n",
            "[0](84) l = 0.7914555072784424\n",
            "\t r2 = 0.06859540939331055\n",
            "[0](85) l = 0.9499857425689697\n",
            "\t r2 = 0.030848324298858643\n",
            "[0](86) l = 0.844048023223877\n",
            "\t r2 = 0.0848008394241333\n",
            "[0](87) l = 0.8027461767196655\n",
            "\t r2 = 0.0494915246963501\n",
            "[0](88) l = 0.9468609690666199\n",
            "\t r2 = 0.08376336097717285\n",
            "[0](89) l = 1.0246469974517822\n",
            "\t r2 = 0.03146606683731079\n",
            "[0](90) l = 0.962336540222168\n",
            "\t r2 = 0.038048386573791504\n",
            "[0](91) l = 1.0130536556243896\n",
            "\t r2 = 0.033345699310302734\n",
            "[0](92) l = 0.9328532218933105\n",
            "\t r2 = 0.08936631679534912\n",
            "[0](93) l = 0.835968017578125\n",
            "\t r2 = 0.059628069400787354\n",
            "[0](94) l = 0.9719533324241638\n",
            "\t r2 = 0.06949514150619507\n",
            "[0](95) l = 0.9051592350006104\n",
            "\t r2 = 0.08726155757904053\n",
            "[0](96) l = 0.9283062219619751\n",
            "\t r2 = 0.012019872665405273\n",
            "[0](97) l = 0.8734052181243896\n",
            "\t r2 = 0.09171688556671143\n",
            "[0](98) l = 0.9297246336936951\n",
            "\t r2 = -0.008815646171569824\n",
            "[0](99) l = 0.9131754636764526\n",
            "\t r2 = 0.042536139488220215\n",
            "[0](100) l = 1.0228698253631592\n",
            "\t r2 = 0.017921745777130127\n",
            "[0](101) l = 0.9443198442459106\n",
            "\t r2 = 0.07439941167831421\n",
            "[0](102) l = 1.0075733661651611\n",
            "\t r2 = 0.0670616626739502\n",
            "[0](103) l = 1.0872753858566284\n",
            "\t r2 = 0.019992291927337646\n",
            "[0](104) l = 0.98293137550354\n",
            "\t r2 = 0.029245734214782715\n",
            "[0](105) l = 0.9048718810081482\n",
            "\t r2 = 0.03530144691467285\n",
            "[0](106) l = 1.0827394723892212\n",
            "\t r2 = 0.028005659580230713\n",
            "[0](107) l = 0.9823318719863892\n",
            "\t r2 = 0.032467424869537354\n",
            "[0](108) l = 0.9716138243675232\n",
            "\t r2 = 0.0760614275932312\n",
            "[0](109) l = 1.0213874578475952\n",
            "\t r2 = 6.705522537231445e-05\n",
            "[0](110) l = 1.0030157566070557\n",
            "\t r2 = 0.08549386262893677\n",
            "[0](111) l = 0.9908014535903931\n",
            "\t r2 = 0.06282037496566772\n",
            "[0](112) l = 1.0055550336837769\n",
            "\t r2 = 0.049440622329711914\n",
            "[0](113) l = 0.9419530630111694\n",
            "\t r2 = 0.02690786123275757\n",
            "[0](114) l = 0.9849966168403625\n",
            "\t r2 = 0.0662335753440857\n",
            "[0](115) l = 1.0200011730194092\n",
            "\t r2 = 0.04071760177612305\n",
            "[0](116) l = 0.9895188212394714\n",
            "\t r2 = 0.027427196502685547\n",
            "[0](117) l = 0.9398512244224548\n",
            "\t r2 = -0.04142773151397705\n",
            "[0](118) l = 1.0025172233581543\n",
            "\t r2 = 0.045207202434539795\n",
            "[0](119) l = 1.0637933015823364\n",
            "\t r2 = 0.02484452724456787\n",
            "[0](120) l = 0.9202424883842468\n",
            "\t r2 = 0.06553888320922852\n",
            "[0](121) l = 1.0246448516845703\n",
            "\t r2 = 0.06450426578521729\n",
            "[0](122) l = 1.054303765296936\n",
            "\t r2 = 0.03944629430770874\n",
            "[0](123) l = 0.9877821803092957\n",
            "\t r2 = -0.035845398902893066\n",
            "[0](124) l = 1.210956335067749\n",
            "\t r2 = 0.023472726345062256\n",
            "[0](125) l = 0.9407110214233398\n",
            "\t r2 = 0.017489135265350342\n",
            "[0](126) l = 0.9511555433273315\n",
            "\t r2 = 0.10429239273071289\n",
            "[0](127) l = 1.0786434412002563\n",
            "\t r2 = -0.0028443336486816406\n",
            "[0](128) l = 0.9091293215751648\n",
            "\t r2 = 0.02606099843978882\n",
            "[0](129) l = 0.9668527245521545\n",
            "\t r2 = 0.07120543718338013\n",
            "[0](130) l = 0.9977197051048279\n",
            "\t r2 = 0.06403863430023193\n",
            "[0](131) l = 0.8970597386360168\n",
            "\t r2 = 0.03340744972229004\n",
            "[0](132) l = 0.9353455305099487\n",
            "\t r2 = 0.03907078504562378\n",
            "[0](133) l = 0.988907516002655\n",
            "\t r2 = 0.009015321731567383\n",
            "[0](134) l = 1.0201380252838135\n",
            "\t r2 = 0.04651457071304321\n",
            "[0](135) l = 1.047760009765625\n",
            "\t r2 = 0.07171410322189331\n",
            "[0](136) l = 0.9490654468536377\n",
            "\t r2 = 0.07127732038497925\n",
            "[0](137) l = 0.9586100578308105\n",
            "\t r2 = 0.08842700719833374\n",
            "[0](138) l = 1.0554713010787964\n",
            "\t r2 = 0.038382649421691895\n",
            "[0](139) l = 1.1016663312911987\n",
            "\t r2 = 0.031055688858032227\n",
            "[0](140) l = 1.172034740447998\n",
            "\t r2 = 0.055980026721954346\n",
            "[0](141) l = 0.838521420955658\n",
            "\t r2 = 0.11211210489273071\n",
            "[0](142) l = 0.9144343137741089\n",
            "\t r2 = 0.058200836181640625\n",
            "[0](143) l = 0.9491974115371704\n",
            "\t r2 = 0.08131754398345947\n",
            "[0](144) l = 0.9934681057929993\n",
            "\t r2 = 0.06585389375686646\n",
            "[0](145) l = 0.770438551902771\n",
            "\t r2 = 0.05696302652359009\n",
            "[0](146) l = 0.9497080445289612\n",
            "\t r2 = 0.028149425983428955\n",
            "[0](147) l = 1.095139503479004\n",
            "\t r2 = 0.07209193706512451\n",
            "[0](148) l = 1.0094406604766846\n",
            "\t r2 = 0.059774935245513916\n",
            "[0](149) l = 0.9658066034317017\n",
            "\t r2 = 0.0543026328086853\n",
            "[0](150) l = 1.0334786176681519\n",
            "\t r2 = 0.07216143608093262\n",
            "[0](151) l = 1.175827980041504\n",
            "\t r2 = 0.007384955883026123\n",
            "[0](152) l = 0.988364577293396\n",
            "\t r2 = 0.05864298343658447\n",
            "[0](153) l = 0.9550088047981262\n",
            "\t r2 = 0.0466538667678833\n",
            "[0](154) l = 0.9204930663108826\n",
            "\t r2 = 0.02033519744873047\n",
            "[0](155) l = 1.1908403635025024\n",
            "\t r2 = 0.03417384624481201\n",
            "[0](156) l = 0.9935410618782043\n",
            "\t r2 = 0.02401125431060791\n",
            "[0](157) l = 0.9510443806648254\n",
            "\t r2 = 0.01947730779647827\n",
            "[0](158) l = 1.035010814666748\n",
            "\t r2 = 0.02777177095413208\n",
            "[0](159) l = 0.8510377407073975\n",
            "\t r2 = 0.06520462036132812\n",
            "[0](160) l = 0.9960616827011108\n",
            "\t r2 = 0.03905516862869263\n",
            "[0](161) l = 1.0277361869812012\n",
            "\t r2 = 0.012172162532806396\n",
            "[0](162) l = 0.8422272205352783\n",
            "\t r2 = 0.08013635873794556\n",
            "[0](163) l = 1.202136516571045\n",
            "\t r2 = 0.06228435039520264\n",
            "[0](164) l = 1.0138760805130005\n",
            "\t r2 = 0.0200536847114563\n",
            "[0](165) l = 0.8425597548484802\n",
            "\t r2 = -0.007191061973571777\n",
            "[0](166) l = 1.045506477355957\n",
            "\t r2 = 0.019209980964660645\n",
            "[0](167) l = 0.8904201984405518\n",
            "\t r2 = 0.06993687152862549\n",
            "[0](168) l = 1.0850539207458496\n",
            "\t r2 = 0.04619032144546509\n",
            "[0](169) l = 0.9799149632453918\n",
            "\t r2 = 0.004944324493408203\n",
            "[0](170) l = 1.104609727859497\n",
            "\t r2 = 0.07954102754592896\n",
            "[0](171) l = 1.0513461828231812\n",
            "\t r2 = -0.0031317472457885742\n",
            "[0](172) l = 0.8609349727630615\n",
            "\t r2 = 0.057579636573791504\n",
            "[0](173) l = 0.9129475951194763\n",
            "\t r2 = 0.008097052574157715\n",
            "[0](174) l = 1.0515620708465576\n",
            "\t r2 = 0.08055806159973145\n",
            "[0](175) l = 0.8758008480072021\n",
            "\t r2 = 0.08221608400344849\n",
            "[0](176) l = 1.062649130821228\n",
            "\t r2 = 0.03184306621551514\n",
            "[0](177) l = 1.03878915309906\n",
            "\t r2 = 0.055728793144226074\n",
            "[0](178) l = 1.19967520236969\n",
            "\t r2 = 0.020846009254455566\n",
            "[0](179) l = 0.9344080090522766\n",
            "\t r2 = 0.0632089376449585\n",
            "[0](180) l = 0.9809775352478027\n",
            "\t r2 = 0.007927179336547852\n",
            "[0](181) l = 0.9332464933395386\n",
            "\t r2 = 0.09004831314086914\n",
            "[0](182) l = 1.028586506843567\n",
            "\t r2 = 0.059325337409973145\n",
            "[0](183) l = 1.1045969724655151\n",
            "\t r2 = 0.007014572620391846\n",
            "[0](184) l = 1.0267142057418823\n",
            "\t r2 = 0.03672337532043457\n",
            "[0](185) l = 1.022494912147522\n",
            "\t r2 = 0.0018440485000610352\n",
            "[0](186) l = 0.9897311925888062\n",
            "\t r2 = 0.02862405776977539\n",
            "[0](187) l = 0.9095859527587891\n",
            "\t r2 = 0.03529459238052368\n",
            "[0](188) l = 0.8751858472824097\n",
            "\t r2 = 0.012098610401153564\n",
            "[0](189) l = 1.0106756687164307\n",
            "\t r2 = 0.044368743896484375\n",
            "[0](190) l = 1.0116698741912842\n",
            "\t r2 = 0.0742540955543518\n",
            "[0](191) l = 1.0833721160888672\n",
            "\t r2 = 0.048525094985961914\n",
            "[0](192) l = 0.8876307606697083\n",
            "\t r2 = 0.050849080085754395\n",
            "[0](193) l = 0.8180306553840637\n",
            "\t r2 = 0.07886075973510742\n",
            "[0](194) l = 1.029901146888733\n",
            "\t r2 = 0.09519374370574951\n"
          ],
          "name": "stdout"
        },
        {
          "output_type": "error",
          "ename": "KeyboardInterrupt",
          "evalue": "ignored",
          "traceback": [
            "\u001b[0;31m---------------------------------------------------------------------------\u001b[0m",
            "\u001b[0;31mKeyboardInterrupt\u001b[0m                         Traceback (most recent call last)",
            "\u001b[0;32m<ipython-input-132-5555e2e2a60a>\u001b[0m in \u001b[0;36m<module>\u001b[0;34m()\u001b[0m\n\u001b[1;32m     10\u001b[0m         \u001b[0mmodel\u001b[0m\u001b[0;34m.\u001b[0m\u001b[0mbackward\u001b[0m\u001b[0;34m(\u001b[0m\u001b[0mdLdy\u001b[0m\u001b[0;34m)\u001b[0m\u001b[0;34m\u001b[0m\u001b[0;34m\u001b[0m\u001b[0m\n\u001b[1;32m     11\u001b[0m \u001b[0;34m\u001b[0m\u001b[0m\n\u001b[0;32m---> 12\u001b[0;31m         \u001b[0mprint\u001b[0m\u001b[0;34m(\u001b[0m\u001b[0;34m\"[{}]({}) l = {}\"\u001b[0m\u001b[0;34m.\u001b[0m\u001b[0mformat\u001b[0m\u001b[0;34m(\u001b[0m\u001b[0mepoch\u001b[0m\u001b[0;34m,\u001b[0m \u001b[0mi\u001b[0m\u001b[0;34m,\u001b[0m \u001b[0mloss\u001b[0m\u001b[0;34m)\u001b[0m\u001b[0;34m)\u001b[0m\u001b[0;34m\u001b[0m\u001b[0;34m\u001b[0m\u001b[0m\n\u001b[0m\u001b[1;32m     13\u001b[0m         \u001b[0mprint\u001b[0m\u001b[0;34m(\u001b[0m\u001b[0;34m\"\\t r2 = {}\"\u001b[0m\u001b[0;34m.\u001b[0m\u001b[0mformat\u001b[0m\u001b[0;34m(\u001b[0m\u001b[0mr2_score\u001b[0m\u001b[0;34m(\u001b[0m\u001b[0my_batch\u001b[0m\u001b[0;34m.\u001b[0m\u001b[0mcpu\u001b[0m\u001b[0;34m(\u001b[0m\u001b[0;34m)\u001b[0m\u001b[0;34m.\u001b[0m\u001b[0mnumpy\u001b[0m\u001b[0;34m(\u001b[0m\u001b[0;34m)\u001b[0m\u001b[0;34m,\u001b[0m \u001b[0my_pred\u001b[0m\u001b[0;34m.\u001b[0m\u001b[0mcpu\u001b[0m\u001b[0;34m(\u001b[0m\u001b[0;34m)\u001b[0m\u001b[0;34m.\u001b[0m\u001b[0mnumpy\u001b[0m\u001b[0;34m(\u001b[0m\u001b[0;34m)\u001b[0m\u001b[0;34m)\u001b[0m\u001b[0;34m)\u001b[0m\u001b[0;34m)\u001b[0m\u001b[0;34m\u001b[0m\u001b[0;34m\u001b[0m\u001b[0m\n",
            "\u001b[0;32m/usr/local/lib/python3.6/dist-packages/torch/tensor.py\u001b[0m in \u001b[0;36m__format__\u001b[0;34m(self, format_spec)\u001b[0m\n\u001b[1;32m    359\u001b[0m     \u001b[0;32mdef\u001b[0m \u001b[0m__format__\u001b[0m\u001b[0;34m(\u001b[0m\u001b[0mself\u001b[0m\u001b[0;34m,\u001b[0m \u001b[0mformat_spec\u001b[0m\u001b[0;34m)\u001b[0m\u001b[0;34m:\u001b[0m\u001b[0;34m\u001b[0m\u001b[0;34m\u001b[0m\u001b[0m\n\u001b[1;32m    360\u001b[0m         \u001b[0;32mif\u001b[0m \u001b[0mself\u001b[0m\u001b[0;34m.\u001b[0m\u001b[0mdim\u001b[0m\u001b[0;34m(\u001b[0m\u001b[0;34m)\u001b[0m \u001b[0;34m==\u001b[0m \u001b[0;36m0\u001b[0m\u001b[0;34m:\u001b[0m\u001b[0;34m\u001b[0m\u001b[0;34m\u001b[0m\u001b[0m\n\u001b[0;32m--> 361\u001b[0;31m             \u001b[0;32mreturn\u001b[0m \u001b[0mself\u001b[0m\u001b[0;34m.\u001b[0m\u001b[0mitem\u001b[0m\u001b[0;34m(\u001b[0m\u001b[0;34m)\u001b[0m\u001b[0;34m.\u001b[0m\u001b[0m__format__\u001b[0m\u001b[0;34m(\u001b[0m\u001b[0mformat_spec\u001b[0m\u001b[0;34m)\u001b[0m\u001b[0;34m\u001b[0m\u001b[0;34m\u001b[0m\u001b[0m\n\u001b[0m\u001b[1;32m    362\u001b[0m         \u001b[0;32mreturn\u001b[0m \u001b[0mobject\u001b[0m\u001b[0;34m.\u001b[0m\u001b[0m__format__\u001b[0m\u001b[0;34m(\u001b[0m\u001b[0mself\u001b[0m\u001b[0;34m,\u001b[0m \u001b[0mformat_spec\u001b[0m\u001b[0;34m)\u001b[0m\u001b[0;34m\u001b[0m\u001b[0;34m\u001b[0m\u001b[0m\n\u001b[1;32m    363\u001b[0m \u001b[0;34m\u001b[0m\u001b[0m\n",
            "\u001b[0;31mKeyboardInterrupt\u001b[0m: "
          ]
        }
      ]
    },
    {
      "cell_type": "code",
      "metadata": {
        "id": "rZtOEsstJPbf",
        "colab_type": "code",
        "colab": {}
      },
      "source": [
        ""
      ],
      "execution_count": 0,
      "outputs": []
    },
    {
      "cell_type": "code",
      "metadata": {
        "id": "Ys9HooimIg8I",
        "colab_type": "code",
        "colab": {}
      },
      "source": [
        "!pip install tffm"
      ],
      "execution_count": 0,
      "outputs": []
    },
    {
      "cell_type": "code",
      "metadata": {
        "id": "O37dyEnoIrjN",
        "colab_type": "code",
        "outputId": "b3b6a9d0-995c-4a80-a126-41a68a8c4b27",
        "colab": {
          "base_uri": "https://localhost:8080/",
          "height": 35
        }
      },
      "source": [
        "import tensorflow as tf\n",
        "\n",
        "from tffm import TFFMRegressor\n",
        "model = TFFMRegressor(\n",
        "    order=2,\n",
        "    rank=10,\n",
        "    optimizer=tf.train.AdamOptimizer(learning_rate=0.01),\n",
        "    n_epochs=1,\n",
        "    batch_size=1000,\n",
        "    init_std=0.001,\n",
        "    input_type='sparse'\n",
        ")\n",
        "model.fit(X_train, y_train, show_progress=True)"
      ],
      "execution_count": 0,
      "outputs": [
        {
          "output_type": "stream",
          "text": [
            "100%|██████████| 1/1 [00:08<00:00,  8.22s/epoch]\n"
          ],
          "name": "stderr"
        }
      ]
    },
    {
      "cell_type": "code",
      "metadata": {
        "id": "PWjekOrDS9ik",
        "colab_type": "code",
        "outputId": "93aac818-21bd-4e59-e66f-54b55058adfe",
        "colab": {
          "base_uri": "https://localhost:8080/",
          "height": 54
        }
      },
      "source": [
        "y_pred = model.predict(X_test)\n",
        "print(MSE().forward(y_test, y_pred))\n",
        "print(r2_score(y_test, y_pred))"
      ],
      "execution_count": 0,
      "outputs": [
        {
          "output_type": "stream",
          "text": [
            "0.22071719146833352\n",
            "0.8090244021275935\n"
          ],
          "name": "stdout"
        }
      ]
    }
  ]
}