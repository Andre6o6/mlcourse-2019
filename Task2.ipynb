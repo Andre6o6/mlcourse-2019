{
  "nbformat": 4,
  "nbformat_minor": 0,
  "metadata": {
    "colab": {
      "name": "Task2.ipynb",
      "provenance": [],
      "collapsed_sections": [],
      "include_colab_link": true
    },
    "kernelspec": {
      "name": "python3",
      "display_name": "Python 3"
    },
    "accelerator": "GPU"
  },
  "cells": [
    {
      "cell_type": "markdown",
      "metadata": {
        "id": "view-in-github",
        "colab_type": "text"
      },
      "source": [
        "<a href=\"https://colab.research.google.com/github/Andre6o6/mlcourse-2019/blob/master/Task2.ipynb\" target=\"_parent\"><img src=\"https://colab.research.google.com/assets/colab-badge.svg\" alt=\"Open In Colab\"/></a>"
      ]
    },
    {
      "cell_type": "code",
      "metadata": {
        "id": "XY6GA3gnG9mi",
        "colab_type": "code",
        "outputId": "3ae0b9c3-aae3-49d6-dc8b-d808fb034ad2",
        "colab": {
          "base_uri": "https://localhost:8080/",
          "height": 312
        }
      },
      "source": [
        "!wget https://archive.org/download/nf_prize_dataset.tar/nf_prize_dataset.tar.gz"
      ],
      "execution_count": 0,
      "outputs": [
        {
          "output_type": "stream",
          "text": [
            "--2019-10-22 11:23:00--  https://archive.org/download/nf_prize_dataset.tar/nf_prize_dataset.tar.gz\n",
            "Resolving archive.org (archive.org)... 207.241.224.2\n",
            "Connecting to archive.org (archive.org)|207.241.224.2|:443... connected.\n",
            "HTTP request sent, awaiting response... 302 Found\n",
            "Location: https://ia800205.us.archive.org/7/items/nf_prize_dataset.tar/nf_prize_dataset.tar.gz [following]\n",
            "--2019-10-22 11:23:01--  https://ia800205.us.archive.org/7/items/nf_prize_dataset.tar/nf_prize_dataset.tar.gz\n",
            "Resolving ia800205.us.archive.org (ia800205.us.archive.org)... 207.241.230.25\n",
            "Connecting to ia800205.us.archive.org (ia800205.us.archive.org)|207.241.230.25|:443... connected.\n",
            "HTTP request sent, awaiting response... 200 OK\n",
            "Length: 697552028 (665M) [application/octet-stream]\n",
            "Saving to: ‘nf_prize_dataset.tar.gz’\n",
            "\n",
            "nf_prize_dataset.ta 100%[===================>] 665.24M  2.06MB/s    in 11m 8s  \n",
            "\n",
            "2019-10-22 11:34:10 (1019 KB/s) - ‘nf_prize_dataset.tar.gz’ saved [697552028/697552028]\n",
            "\n"
          ],
          "name": "stdout"
        }
      ]
    },
    {
      "cell_type": "code",
      "metadata": {
        "id": "3VITLCngHQku",
        "colab_type": "code",
        "colab": {}
      },
      "source": [
        "!tar -xzf nf_prize_dataset.tar.gz\n",
        "!tar -xf download/training_set.tar"
      ],
      "execution_count": 0,
      "outputs": []
    },
    {
      "cell_type": "code",
      "metadata": {
        "id": "jEbtoaYBUkM1",
        "colab_type": "code",
        "colab": {}
      },
      "source": [
        "import os\n",
        "import numpy as np\n",
        "\n",
        "transactions = np.zeros((100480507, 3), dtype=int)\n",
        "i = 0\n",
        "\n",
        "root = 'training_set/'\n",
        "for filename in os.listdir(root):\n",
        "    file = root + filename\n",
        "    with open(file) as f:\n",
        "        lines = f.readlines()\n",
        "        movie_idx = int(lines[0].split(':')[0])\n",
        "        for line in lines[1:]:\n",
        "            user_idx, score, _ = line.split(',')\n",
        "            user_idx, score = int(user_idx), int(score)\n",
        "            transactions[i] = movie_idx, user_idx, score\n",
        "            i+=1\n",
        "\n",
        "# Used for onehot\n",
        "user_idxs = {x:i for i,x in enumerate(set(transactions[:, 1]))}"
      ],
      "execution_count": 0,
      "outputs": []
    },
    {
      "cell_type": "code",
      "metadata": {
        "id": "-RJCAH2S0AYu",
        "colab_type": "code",
        "colab": {}
      },
      "source": [
        "import random\n",
        "random.shuffle(transactions)"
      ],
      "execution_count": 0,
      "outputs": []
    },
    {
      "cell_type": "code",
      "metadata": {
        "id": "rTOXvKu2I6a-",
        "colab_type": "code",
        "colab": {}
      },
      "source": [
        "transactions = transactions[:1000000]"
      ],
      "execution_count": 0,
      "outputs": []
    },
    {
      "cell_type": "code",
      "metadata": {
        "id": "qOR7uhUB0Qbw",
        "colab_type": "code",
        "colab": {}
      },
      "source": [
        "import scipy\n",
        "from scipy.sparse import csc_matrix\n",
        "\n",
        "def onehot(X):\n",
        "    dtype = np.uint8\n",
        "    rows = np.arange(X.size)\n",
        "    cols = X\n",
        "    data = np.ones(X.size, dtype=dtype)\n",
        "    return csc_matrix((data, (rows,cols)))  #coo?\n",
        "\n",
        "#Subtract 1 so that indexes are from 0 to 17770\n",
        "oh_movies = onehot(transactions[:, 0] - 1)\n",
        "#Map users to 0..480189 using user_idxs dict\n",
        "oh_users = onehot(np.vectorize(user_idxs.get)(transactions[:, 1]))\n",
        "\n",
        "y = transactions[:, 2]\n",
        "X = scipy.sparse.hstack((oh_movies, oh_users)).tocsr()"
      ],
      "execution_count": 0,
      "outputs": []
    },
    {
      "cell_type": "code",
      "metadata": {
        "id": "i4VoYbXd-C1X",
        "colab_type": "code",
        "colab": {}
      },
      "source": [
        "# Train: 95% | Test: 5%\n",
        "test_ratio = 0.05\n",
        "test_split = int(X.shape[0] * test_ratio)\n",
        "X_train, X_test, y_train, y_test = X[test_split:], X[:test_split], y[test_split:], y[:test_split]"
      ],
      "execution_count": 0,
      "outputs": []
    },
    {
      "cell_type": "markdown",
      "metadata": {
        "id": "ooKVQF4VmnqB",
        "colab_type": "text"
      },
      "source": [
        "Factorization machine from this paper: \n",
        "https://www.csie.ntu.edu.tw/~b97053/paper/Rendle2010FM.pdf"
      ]
    },
    {
      "cell_type": "code",
      "metadata": {
        "id": "I7acdPuwZjWY",
        "colab_type": "code",
        "colab": {}
      },
      "source": [
        "import torch\n",
        "import math\n",
        "\n",
        "device = torch.device('cuda' if torch.cuda.is_available() else 'cpu')\n",
        "\n",
        "class FactorizationMachineTorch:\n",
        "    def __init__(self, n, k):\n",
        "        self.w0 = torch.tensor(0.1)\n",
        "        self.w = 0.01*torch.randn(n)\n",
        "        self.v = 0.01*torch.randn(n,k)\n",
        "\n",
        "        self.lr = 0.01\n",
        "        # Adam hyperparams\n",
        "        self.beta1 = 0.9\n",
        "        self.beta2 = 0.999\n",
        "        # Adam moments\n",
        "        self.v_dw0 = torch.zeros_like(self.w0.data)\n",
        "        self.s_dw0 = torch.zeros_like(self.w0.data)\n",
        "        self.v_dw = torch.zeros_like(self.w.data)\n",
        "        self.s_dw = torch.zeros_like(self.w.data)\n",
        "        self.v_dv = torch.zeros_like(self.v.data)\n",
        "        self.s_dv = torch.zeros_like(self.v.data)\n",
        "        # \n",
        "        self.t = 0        \n",
        "        self.eps = 1e-8\n",
        "\n",
        "        #cache stuff to use in backward pass\n",
        "        self.x_batch = None\n",
        "        self.v_dot_x = None\n",
        "\n",
        "    def to(self, device):\n",
        "        # Send stuff to GPU\n",
        "        self.w0 = self.w0.to(device)\n",
        "        self.w = self.w.to(device)\n",
        "        self.v = self.v.to(device)\n",
        "        self.v_dw0 = self.v_dw0.to(device)\n",
        "        self.s_dw0 = self.s_dw0.to(device)\n",
        "        self.v_dw = self.v_dw.to(device)\n",
        "        self.s_dw = self.s_dw.to(device)\n",
        "        self.v_dv = self.v_dv.to(device)\n",
        "        self.s_dv = self.s_dv.to(device)\n",
        "\n",
        "    def forward(self, x):\n",
        "        #Cache\n",
        "        self.x_batch = x\n",
        "        self.v_dot_x = torch.mm(x, self.v)\n",
        "        \n",
        "        return self.w0   \\\n",
        "               + torch.matmul(x, self.w)   \\\n",
        "               + 0.5 * torch.sum(self.v_dot_x.pow(2) - torch.mm(x.pow(2), self.v.pow(2)), dim=-1)\n",
        "         \n",
        "    def backward(self, dLdy):\n",
        "        if self.x_batch is None:\n",
        "            assert 0, 'Call forward first'\n",
        "\n",
        "        # Gradient w.r.t. bias\n",
        "        dLdw0 = torch.mean(dLdy)\n",
        "        # Gradient w.r.t. linear weights\n",
        "        dLdw = torch.mean(self.x_batch * dLdy.view(-1,1), dim=0)\n",
        "        # Gradient w.r.t. pairwise weights\n",
        "        dLdv = torch.einsum('bn, bk -> bnk', (self.x_batch, self.v_dot_x))\n",
        "        dLdv.sub_(torch.einsum('bn, nk -> bnk', (self.x_batch.pow(2), self.v)))\n",
        "        dLdv.mul_(dLdy.view(-1,1,1))\n",
        "        dLdv = dLdv.mean(dim=0)        \n",
        "\n",
        "        #ADAM: estimate moments\n",
        "        self.v_dw0.mul_(self.beta1).add_(1 - self.beta1, dLdw0)\n",
        "        self.s_dw0.mul_(self.beta2).addcmul_(1 - self.beta2, dLdw0, dLdw0)\n",
        "        self.v_dw.mul_(self.beta1).add_(1 - self.beta1, dLdw)\n",
        "        self.s_dw.mul_(self.beta2).addcmul_(1 - self.beta2, dLdw, dLdw)\n",
        "        self.v_dv.mul_(self.beta1).add_(1 - self.beta1, dLdv)\n",
        "        self.s_dv.mul_(self.beta2).addcmul_(1 - self.beta2, dLdv, dLdv)\n",
        "        #ADAM: correct moments\n",
        "        self.t+=1\n",
        "        bias_correction1 = 1 - self.beta1**self.t\n",
        "        bias_correction2 = 1 - self.beta2**self.t\n",
        "\n",
        "        denom_w0 = (self.s_dw0.sqrt() / math.sqrt(bias_correction2)).add_(self.eps)        \n",
        "        denom_w = (self.s_dw.sqrt() / math.sqrt(bias_correction2)).add_(self.eps)      \n",
        "        denom_v = (self.s_dv.sqrt() / math.sqrt(bias_correction2)).add_(self.eps) \n",
        "\n",
        "        #ADAM: Update weights\n",
        "        step_size = self.lr / bias_correction1\n",
        "        self.w0.data.addcdiv_(-step_size, self.v_dw0, denom_w0)\n",
        "        self.w.data.addcdiv_(-step_size, self.v_dw, denom_w)\n",
        "        self.v.data.addcdiv_(-step_size, self.v_dv, denom_v)\n",
        "        \n",
        "        #Clear cache\n",
        "        self.x_batch = None\n",
        "        self.v_dot_x = None"
      ],
      "execution_count": 0,
      "outputs": []
    },
    {
      "cell_type": "code",
      "metadata": {
        "id": "yPsQC62641f0",
        "colab_type": "code",
        "colab": {}
      },
      "source": [
        "class MSE_torch:\n",
        "    def __init__(self):\n",
        "        self.err = None\n",
        "    def forward(self, y_true, y_pred):\n",
        "        self.err = y_true - y_pred\n",
        "        return torch.mean((self.err).pow(2))\n",
        "    def backward(self):\n",
        "        if self.err is None:\n",
        "            assert 0, 'Call forward first'\n",
        "        return -2 * self.err"
      ],
      "execution_count": 0,
      "outputs": []
    },
    {
      "cell_type": "code",
      "metadata": {
        "id": "QHLAPqbS5z4L",
        "colab_type": "code",
        "colab": {}
      },
      "source": [
        "def rmse_score(y_true, y_pred):\n",
        "    return np.mean(np.square(y_true - y_pred))**0.5\n",
        "\n",
        "def r2_score(y, y_pred):\n",
        "    y_avg = y.mean()\n",
        "    ss_total = np.sum(np.square(y - y_avg))\n",
        "    ss_err = np.sum(np.square(y - y_pred))\n",
        "    return 1 - ss_err/ss_total"
      ],
      "execution_count": 0,
      "outputs": []
    },
    {
      "cell_type": "code",
      "metadata": {
        "id": "WhdIlvqW5r8J",
        "colab_type": "code",
        "colab": {}
      },
      "source": [
        "n = X.shape[1]\n",
        "k = 10\n",
        "model = FactorizationMachineTorch(n,k)\n",
        "model.to(device)\n",
        "\n",
        "criterion = MSE_torch()"
      ],
      "execution_count": 0,
      "outputs": []
    },
    {
      "cell_type": "code",
      "metadata": {
        "id": "xiIHt9j8dRbk",
        "colab_type": "code",
        "colab": {}
      },
      "source": [
        "batch_size = 100\n",
        "\n",
        "iters = X_train.shape[0] // batch_size\n",
        "if (X_train.shape[0] % batch_size > 0):\n",
        "    iters += 1\n",
        "\n",
        "def get_batch_torch(i):\n",
        "    return torch.tensor(X_train[i*batch_size:(i+1)*batch_size].toarray(), dtype=torch.float32), \\\n",
        "           torch.tensor(y_train[i*batch_size:(i+1)*batch_size], dtype=torch.float32)"
      ],
      "execution_count": 0,
      "outputs": []
    },
    {
      "cell_type": "code",
      "metadata": {
        "id": "NI3ri2Ec5r5i",
        "colab_type": "code",
        "colab": {}
      },
      "source": [
        "# TRAIN\n",
        "import time\n",
        "history = []\n",
        "history_r2 = []\n",
        "epochs = 1\n",
        "for epoch in range(epochs):\n",
        "    for i in range(iters):\n",
        "        X_batch, y_batch = get_batch_torch(i)\n",
        "\n",
        "        y_pred = model.forward(X_batch.to(device))\n",
        "        loss = criterion.forward(y_batch.to(device), y_pred)\n",
        "\n",
        "        dLdy = criterion.backward()\n",
        "        model.backward(dLdy)\n",
        "\n",
        "        if (i + 1) % 10 == 0:\n",
        "            print(\"[{}]({}) l = {}\".format(epoch, i, loss))\n",
        "            r2 = r2_score(y_batch.cpu().numpy(), y_pred.cpu().numpy())\n",
        "            history_r2.append(loss)\n",
        "            print(\"\\t r2 = {}\".format(r2))\n",
        "\n",
        "        history.append(loss)"
      ],
      "execution_count": 0,
      "outputs": []
    },
    {
      "cell_type": "code",
      "metadata": {
        "id": "8X7nhCenphsp",
        "colab_type": "code",
        "colab": {
          "base_uri": "https://localhost:8080/",
          "height": 306
        },
        "outputId": "1322ab41-0f6f-484c-9a20-44ba471e3aff"
      },
      "source": [
        "%pylab inline\n",
        "plt.plot(history)\n",
        "plt.ylabel(\"MSE\")"
      ],
      "execution_count": 73,
      "outputs": [
        {
          "output_type": "stream",
          "text": [
            "Populating the interactive namespace from numpy and matplotlib\n"
          ],
          "name": "stdout"
        },
        {
          "output_type": "execute_result",
          "data": {
            "text/plain": [
              "Text(0, 0.5, 'MSE')"
            ]
          },
          "metadata": {
            "tags": []
          },
          "execution_count": 73
        },
        {
          "output_type": "display_data",
          "data": {
            "image/png": "[encoded data removed]",
            "text/plain": [
              "<Figure size 432x288 with 1 Axes>"
            ]
          },
          "metadata": {
            "tags": []
          }
        }
      ]
    },
    {
      "cell_type": "code",
      "metadata": {
        "id": "CpoTOC3gXApD",
        "colab_type": "code",
        "colab": {
          "base_uri": "https://localhost:8080/",
          "height": 91
        },
        "outputId": "bf325986-6a06-43ae-ecf7-9ee59b0e9585"
      },
      "source": [
        "# TEST\n",
        "import tqdm\n",
        "\n",
        "batch_size = 1000\n",
        "iters = X_test.shape[0] // batch_size\n",
        "if (X_test.shape[0] % batch_size > 0):\n",
        "    iters += 1\n",
        "\n",
        "def get_test(i):\n",
        "    return torch.tensor(X_test[i*batch_size:(i+1)*batch_size].toarray(), dtype=torch.float32)\n",
        "\n",
        "y_pred = np.zeros(y_test.shape)\n",
        "\n",
        "for i in tqdm.tqdm(range(iters)):\n",
        "    X_batch = get_test(i)\n",
        "    y_pred[i*batch_size:(i+1)*batch_size] = model.forward(X_batch.to(device)).cpu().numpy()\n",
        "\n",
        "print()\n",
        "print(\"RMSE =\", rmse_score(y_test, y_pred))\n",
        "print(\"R2 =\", r2_score(y_test, y_pred))"
      ],
      "execution_count": 83,
      "outputs": [
        {
          "output_type": "stream",
          "text": [
            "100%|██████████| 50/50 [01:04<00:00,  1.29s/it]"
          ],
          "name": "stderr"
        },
        {
          "output_type": "stream",
          "text": [
            "\n",
            "RMSE = 0.6286911402617071\n",
            "R2 = 0.6567962289234461\n"
          ],
          "name": "stdout"
        },
        {
          "output_type": "stream",
          "text": [
            "\n"
          ],
          "name": "stderr"
        }
      ]
    }
  ]
}