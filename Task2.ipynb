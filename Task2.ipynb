{
  "nbformat": 4,
  "nbformat_minor": 0,
  "metadata": {
    "colab": {
      "name": "Task2.ipynb",
      "provenance": [],
      "collapsed_sections": [],
      "include_colab_link": true
    },
    "kernelspec": {
      "name": "python3",
      "display_name": "Python 3"
    },
    "accelerator": "GPU"
  },
  "cells": [
    {
      "cell_type": "markdown",
      "metadata": {
        "id": "view-in-github",
        "colab_type": "text"
      },
      "source": [
        "<a href=\"https://colab.research.google.com/github/Andre6o6/mlcourse-2019/blob/master/Task2.ipynb\" target=\"_parent\"><img src=\"https://colab.research.google.com/assets/colab-badge.svg\" alt=\"Open In Colab\"/></a>"
      ]
    },
    {
      "cell_type": "markdown",
      "metadata": {
        "id": "ooKVQF4VmnqB",
        "colab_type": "text"
      },
      "source": [
        "Factorization machine from this paper: \n",
        "https://www.csie.ntu.edu.tw/~b97053/paper/Rendle2010FM.pdf"
      ]
    },
    {
      "cell_type": "code",
      "metadata": {
        "id": "XY6GA3gnG9mi",
        "colab_type": "code",
        "outputId": "3ae0b9c3-aae3-49d6-dc8b-d808fb034ad2",
        "colab": {
          "base_uri": "https://localhost:8080/",
          "height": 312
        }
      },
      "source": [
        "!wget https://archive.org/download/nf_prize_dataset.tar/nf_prize_dataset.tar.gz"
      ],
      "execution_count": 0,
      "outputs": [
        {
          "output_type": "stream",
          "text": [
            "--2019-10-22 11:23:00--  https://archive.org/download/nf_prize_dataset.tar/nf_prize_dataset.tar.gz\n",
            "Resolving archive.org (archive.org)... 207.241.224.2\n",
            "Connecting to archive.org (archive.org)|207.241.224.2|:443... connected.\n",
            "HTTP request sent, awaiting response... 302 Found\n",
            "Location: https://ia800205.us.archive.org/7/items/nf_prize_dataset.tar/nf_prize_dataset.tar.gz [following]\n",
            "--2019-10-22 11:23:01--  https://ia800205.us.archive.org/7/items/nf_prize_dataset.tar/nf_prize_dataset.tar.gz\n",
            "Resolving ia800205.us.archive.org (ia800205.us.archive.org)... 207.241.230.25\n",
            "Connecting to ia800205.us.archive.org (ia800205.us.archive.org)|207.241.230.25|:443... connected.\n",
            "HTTP request sent, awaiting response... 200 OK\n",
            "Length: 697552028 (665M) [application/octet-stream]\n",
            "Saving to: ‘nf_prize_dataset.tar.gz’\n",
            "\n",
            "nf_prize_dataset.ta 100%[===================>] 665.24M  2.06MB/s    in 11m 8s  \n",
            "\n",
            "2019-10-22 11:34:10 (1019 KB/s) - ‘nf_prize_dataset.tar.gz’ saved [697552028/697552028]\n",
            "\n"
          ],
          "name": "stdout"
        }
      ]
    },
    {
      "cell_type": "code",
      "metadata": {
        "colab_type": "code",
        "outputId": "75cbe68e-fac8-4cf0-9966-e31aaedd2900",
        "id": "OKWrdFlewBcI",
        "colab": {
          "base_uri": "https://localhost:8080/",
          "height": 129
        }
      },
      "source": [
        "from google.colab import drive\n",
        "drive.mount('/gdrive')"
      ],
      "execution_count": 1,
      "outputs": [
        {
          "output_type": "stream",
          "text": [
            "Go to this URL in a browser: https://accounts.google.com/o/oauth2/auth?client_id=947318989803-6bn6qk8qdgf4n4g3pfee6491hc0brc4i.apps.googleusercontent.com&redirect_uri=urn%3Aietf%3Awg%3Aoauth%3A2.0%3Aoob&scope=email%20https%3A%2F%2Fwww.googleapis.com%2Fauth%2Fdocs.test%20https%3A%2F%2Fwww.googleapis.com%2Fauth%2Fdrive%20https%3A%2F%2Fwww.googleapis.com%2Fauth%2Fdrive.photos.readonly%20https%3A%2F%2Fwww.googleapis.com%2Fauth%2Fpeopleapi.readonly&response_type=code\n",
            "\n",
            "Enter your authorization code:\n",
            "··········\n",
            "Mounted at /gdrive\n"
          ],
          "name": "stdout"
        }
      ]
    },
    {
      "cell_type": "code",
      "metadata": {
        "colab_type": "code",
        "id": "h4PYmRpwwA_B",
        "colab": {}
      },
      "source": [
        "#!cp nf_prize_dataset.tar.gz '/gdrive/My Drive/data/'\n",
        "!cp '/gdrive/My Drive/data/nf_prize_dataset.tar.gz' ."
      ],
      "execution_count": 0,
      "outputs": []
    },
    {
      "cell_type": "code",
      "metadata": {
        "id": "3VITLCngHQku",
        "colab_type": "code",
        "colab": {}
      },
      "source": [
        "!tar -xzf nf_prize_dataset.tar.gz\n",
        "!tar -xf download/training_set.tar"
      ],
      "execution_count": 0,
      "outputs": []
    },
    {
      "cell_type": "code",
      "metadata": {
        "id": "jEbtoaYBUkM1",
        "colab_type": "code",
        "colab": {}
      },
      "source": [
        "import os\n",
        "import numpy as np\n",
        "\n",
        "transactions = np.zeros((100480507, 3), dtype=int)\n",
        "i = 0\n",
        "\n",
        "root = 'training_set/'\n",
        "for filename in os.listdir(root):\n",
        "    file = root + filename\n",
        "    with open(file) as f:\n",
        "        lines = f.readlines()\n",
        "        movie_idx = int(lines[0].split(':')[0])\n",
        "        for line in lines[1:]:\n",
        "            user_idx, score, _ = line.split(',')\n",
        "            user_idx, score = int(user_idx), int(score)\n",
        "            transactions[i] = movie_idx, user_idx, score\n",
        "            i+=1\n",
        "\n",
        "# Used for onehot\n",
        "user_idxs = {x:i for i,x in enumerate(set(transactions[:, 1]))}"
      ],
      "execution_count": 0,
      "outputs": []
    },
    {
      "cell_type": "code",
      "metadata": {
        "colab_type": "code",
        "id": "AFWDxmSjwAVZ",
        "colab": {}
      },
      "source": [
        "np.save('transactions.npy', transactions)"
      ],
      "execution_count": 0,
      "outputs": []
    },
    {
      "cell_type": "code",
      "metadata": {
        "colab_type": "code",
        "id": "UhaMk9pKv_E6",
        "colab": {}
      },
      "source": [
        "import os\n",
        "import numpy as np\n",
        "transactions = np.load('transactions.npy')"
      ],
      "execution_count": 0,
      "outputs": []
    },
    {
      "cell_type": "code",
      "metadata": {
        "id": "1603IYmm0ZsM",
        "colab_type": "code",
        "colab": {}
      },
      "source": [
        "p = np.random.permutation(len(transactions))\n",
        "transactions = transactions[p]"
      ],
      "execution_count": 0,
      "outputs": []
    },
    {
      "cell_type": "code",
      "metadata": {
        "id": "FX2yPXQQ0kWE",
        "colab_type": "code",
        "outputId": "c7a36e4e-8ed2-4b05-aad4-7dab69b8d897",
        "colab": {
          "base_uri": "https://localhost:8080/",
          "height": 202
        }
      },
      "source": [
        "transactions[:10]"
      ],
      "execution_count": 40,
      "outputs": [
        {
          "output_type": "execute_result",
          "data": {
            "text/plain": [
              "array([[  17513, 1505912,       4],\n",
              "       [   9125, 2011196,       5],\n",
              "       [  13949,  576329,       5],\n",
              "       [  17482,  337129,       2],\n",
              "       [   2585, 2622076,       4],\n",
              "       [   3017, 1981427,       5],\n",
              "       [  16203, 1419139,       3],\n",
              "       [   6408, 1398903,       3],\n",
              "       [  10123,  429876,       3],\n",
              "       [   3782, 1423440,       3]])"
            ]
          },
          "metadata": {
            "tags": []
          },
          "execution_count": 40
        }
      ]
    },
    {
      "cell_type": "code",
      "metadata": {
        "id": "gFlqjNI9FpAf",
        "colab_type": "code",
        "colab": {}
      },
      "source": [
        "#PREPROCESS\n",
        "user_idxs = {x:i for i,x in enumerate(set(transactions[:, 1]))}\n",
        "\n",
        "X = np.zeros((transactions.shape[0], 2))\n",
        "X[:, 0] = transactions[:, 0] - 1    #Movie id\n",
        "X[:, 1] = 17770 + np.vectorize(user_idxs.get)(transactions[:, 1])   #User id, offset by n_movies=17770\n",
        "X = X.astype(int)\n",
        "y = (transactions[:, 2] - 3) / 2    #Rating, centered and scaled to [-1, 1]"
      ],
      "execution_count": 0,
      "outputs": []
    },
    {
      "cell_type": "code",
      "metadata": {
        "colab_type": "code",
        "outputId": "10aea2ec-8894-4c20-d191-8a863e01ed31",
        "id": "OnWcCvQJv_25",
        "colab": {
          "base_uri": "https://localhost:8080/",
          "height": 35
        }
      },
      "source": [
        "import gc\n",
        "gc.collect()"
      ],
      "execution_count": 66,
      "outputs": [
        {
          "output_type": "execute_result",
          "data": {
            "text/plain": [
              "1334"
            ]
          },
          "metadata": {
            "tags": []
          },
          "execution_count": 66
        }
      ]
    },
    {
      "cell_type": "code",
      "metadata": {
        "id": "QHLAPqbS5z4L",
        "colab_type": "code",
        "colab": {}
      },
      "source": [
        "def rmse_score(y_true, y_pred):\n",
        "    return np.mean(np.square(y_true - y_pred))**0.5\n",
        "\n",
        "def r2_score(y, y_pred):\n",
        "    y_avg = y.mean()\n",
        "    ss_total = np.sum(np.square(y - y_avg))\n",
        "    ss_err = np.sum(np.square(y - y_pred))\n",
        "    return 1 - ss_err/ss_total"
      ],
      "execution_count": 0,
      "outputs": []
    },
    {
      "cell_type": "code",
      "metadata": {
        "id": "1cIJqDsMSYCk",
        "colab_type": "code",
        "colab": {}
      },
      "source": [
        "class KFolds:\n",
        "    def __init__(self, X, y, k=5):\n",
        "        self.k = k\n",
        "        self.X_folds = [X[i::k] for i in range(k)]\n",
        "        self.y_folds = [y[i::k] for i in range(k)]\n",
        "        \n",
        "    def get_fold(self, fold_i):\n",
        "        \n",
        "        X_cv = self.X_folds[fold_i]\n",
        "        y_cv = self.y_folds[fold_i]\n",
        "        \n",
        "        X_train = np.concatenate([self.X_folds[i] for i in range(self.k) if i != fold_i])\n",
        "        y_train = np.concatenate([self.y_folds[i] for i in range(self.k) if i != fold_i])\n",
        "        \n",
        "        return X_train, y_train, X_cv, y_cv\n"
      ],
      "execution_count": 0,
      "outputs": []
    },
    {
      "cell_type": "code",
      "metadata": {
        "id": "wZGbCEJJUUfz",
        "colab_type": "code",
        "colab": {}
      },
      "source": [
        ""
      ],
      "execution_count": 0,
      "outputs": []
    },
    {
      "cell_type": "code",
      "metadata": {
        "id": "B68-fAKHPw2X",
        "colab_type": "code",
        "colab": {}
      },
      "source": [
        "import math\n",
        "\n",
        "class FactorizationMachineSparse:\n",
        "    def __init__(self, n, k):\n",
        "        self.w0 = 0\n",
        "        self.w = 0.01*np.random.randn(n)\n",
        "        self.v = 0.01*np.random.randn(n,k)\n",
        "\n",
        "        self.lr = 0.01\n",
        "        # Adam hyperparams\n",
        "        self.beta1 = 0.9\n",
        "        self.beta2 = 0.999\n",
        "        # Adam moments\n",
        "        self.v_dw0 = np.zeros_like(self.w0)\n",
        "        self.s_dw0 = np.zeros_like(self.w0)\n",
        "        self.v_dw = np.zeros_like(self.w)\n",
        "        self.s_dw = np.zeros_like(self.w)\n",
        "        self.v_dv = np.zeros_like(self.v)\n",
        "        self.s_dv = np.zeros_like(self.v)\n",
        "        # \n",
        "        self.t = 0\n",
        "        self.eps = 1e-8\n",
        "\n",
        "        #cache stuff to use in backward pass\n",
        "        self.x_batch = None\n",
        "        self.v_dot_x = None\n",
        "\n",
        "    def forward(self, x):\n",
        "        '''\n",
        "        x - tensor [b x 2], where x_i = (movie_id, user_id)\n",
        "        '''\n",
        "        \n",
        "        self.x_batch = x\n",
        "        self.v_dot_x = np.sum(self.v[x], axis=1)\n",
        "        \n",
        "        return self.w0   \\\n",
        "               + np.sum(self.w[x], axis=1)   \\\n",
        "               + 0.5 * np.sum(np.square(self.v_dot_x) - np.sum(np.square(self.v[x]), axis=1), axis=1)\n",
        "         \n",
        "    def backward(self, dLdy):\n",
        "        # TODO vstack x_batch[:,0 and 1] and dldy x2 (if torch can't iterate w/ tuples)\n",
        "        if self.x_batch is None:\n",
        "            assert 0, 'Call forward first'\n",
        "\n",
        "        dLdw0 = np.mean(dLdy)\n",
        "\n",
        "        dLdw = np.zeros(n)\n",
        "        for x, dLdyi in zip(self.x_batch, dLdy):\n",
        "            dLdw[x] +=  dLdyi\n",
        "        dLdw /= dLdy.shape[0]\n",
        "\n",
        "        dLdv = np.zeros((n,k))\n",
        "        for x, v_dot_xi, dLdyi in zip(self.x_batch, self.v_dot_x, dLdy):\n",
        "            dLdv[x] += dLdyi * (v_dot_xi - self.v[x])\n",
        "        dLdv /= dLdy.shape[0]\n",
        "\n",
        "        #ADAM\n",
        "        self.v_dw0 = self.beta1 * self.v_dw0 + (1 - self.beta1) * dLdw0\n",
        "        self.s_dw0 = self.beta2 * self.s_dw0 + (1 - self.beta2) * dLdw0 * dLdw0\n",
        "        self.v_dw = self.beta1 * self.v_dw + (1 - self.beta1) * dLdw\n",
        "        self.s_dw = self.beta2 * self.s_dw + (1 - self.beta2) * dLdw * dLdw\n",
        "        self.v_dv = self.beta1 * self.v_dv + (1 - self.beta1) * dLdv\n",
        "        self.s_dv = self.beta2 * self.s_dv + (1 - self.beta2) * dLdv * dLdv\n",
        "        #ADAM: correct moments\n",
        "        self.t+=1\n",
        "        bias_correction1 = 1 - self.beta1**self.t\n",
        "        bias_correction2 = 1 - self.beta2**self.t\n",
        "\n",
        "        step_size = self.lr / bias_correction1\n",
        "\n",
        "        denom_dw0 = np.sqrt(self.s_dw0) / math.sqrt(bias_correction2) + self.eps\n",
        "        denom_dw = np.sqrt(self.s_dw) / math.sqrt(bias_correction2) + self.eps\n",
        "        denom_dv = np.sqrt(self.s_dv) / math.sqrt(bias_correction2) + self.eps\n",
        "\n",
        "        self.w0 -= step_size * self.v_dw0/denom_dw0\n",
        "        self.w -= step_size * self.v_dw/denom_dw\n",
        "        self.v -= step_size * self.v_dv/denom_dv\n",
        "\n",
        "        '''self.w0 -= self.lr * dLdw0\n",
        "        self.w -= self.lr * dLdw\n",
        "        self.v -= self.lr * dLdv'''\n",
        "        \n",
        "        #Clear cache\n",
        "        self.x_batch = None\n",
        "        self.v_dot_x = None"
      ],
      "execution_count": 0,
      "outputs": []
    },
    {
      "cell_type": "code",
      "metadata": {
        "id": "KTAY87PVZrPh",
        "colab_type": "code",
        "colab": {}
      },
      "source": [
        "class MSE:\n",
        "    def __init__(self):\n",
        "        self.err = None\n",
        "    def forward(self, y_true, y_pred):\n",
        "        self.err = y_true - y_pred\n",
        "        return np.mean(np.square(self.err))\n",
        "    def backward(self):\n",
        "        if self.err is None:\n",
        "            assert 0, 'Call forward first'\n",
        "        return -2 * self.err\t"
      ],
      "execution_count": 0,
      "outputs": []
    },
    {
      "cell_type": "code",
      "metadata": {
        "id": "SMoe18AXYAdy",
        "colab_type": "code",
        "colab": {}
      },
      "source": [
        "def get_batch(X,y, i):\n",
        "  return X[i*batch_size:(i+1)*batch_size], \\\n",
        "         y[i*batch_size:(i+1)*batch_size]"
      ],
      "execution_count": 0,
      "outputs": []
    },
    {
      "cell_type": "code",
      "metadata": {
        "id": "-gg8EOwyYQpJ",
        "colab_type": "code",
        "colab": {}
      },
      "source": [
        "n_movies = 17770\n",
        "n_users = len(user_idxs)\n",
        "\n",
        "n = n_movies + n_users\n",
        "k = 3\n",
        "\n",
        "criterion = MSE()\n",
        "kfold = KFolds(X, y)"
      ],
      "execution_count": 0,
      "outputs": []
    },
    {
      "cell_type": "code",
      "metadata": {
        "id": "6oknK0gJZ9pi",
        "colab_type": "code",
        "colab": {}
      },
      "source": [
        "from tqdm import tqdm\n",
        "\n",
        "rmses = []\n",
        "r2s = []\n",
        "\n",
        "epochs = 1\n",
        "for fold_i in range(kfold.k):\n",
        "    model = FactorizationMachineSparse(n,k)\n",
        "\n",
        "    print(\" Train on fold {}\".format(fold_i+1))\n",
        "    X_train, y_train, X_test, y_test = kfold.get_fold(fold_i)\n",
        "\n",
        "    batch_size = 100000\n",
        "    iters = X_train.shape[0] // batch_size\n",
        "    if (X_train.shape[0] % batch_size > 0):\n",
        "        iters += 1\n",
        "\n",
        "    for epoch in range(epochs):\n",
        "        print(\"Epoch\", epoch+1)\n",
        "        running_loss = 0\n",
        "        running_r2 = 0\n",
        "        for i in range(iters):\n",
        "            X_batch, y_batch = get_batch(X_train,y_train, i)\n",
        "\n",
        "            y_pred = model.forward(X_batch)\n",
        "            loss = criterion.forward(y_batch, y_pred)\n",
        "            dLdy = criterion.backward()\n",
        "            model.backward(dLdy)\n",
        "\n",
        "            running_loss += loss\n",
        "            r2 = r2_score(y_batch, y_pred)\n",
        "            running_r2 += r2\n",
        "\n",
        "            if (i+1) % 10 == 0:\n",
        "                print(\"[{}]({}) l = {} | r2 = {}\".format(epoch, i*batch_size, loss, r2))\n",
        "        \n",
        "        running_loss /= X_train.shape[0]/batch_size\n",
        "        running_r2 /= X_train.shape[0]/batch_size\n",
        "        print()\n",
        "        print(\"MSE = {}, R2 = {}\".format(running_loss, running_r2))\n",
        "\n",
        "    #TEST\n",
        "    print(\" Test on {} fold\".format(fold_i+1))\n",
        "\n",
        "    y_pred = np.zeros(y_test.shape)\n",
        "    for i in range(iters):\n",
        "        X_batch, _ = get_batch(X_test,y_test, i)\n",
        "        y_pred[i*batch_size:(i+1)*batch_size] = model.forward(X_batch)\n",
        "\n",
        "    print()\n",
        "    rmses.append(rmse_score(y_test, y_pred))\n",
        "    r2s.append(r2_score(y_test, y_pred))\n",
        "    print(\"RMSE = {}, R2 = {}\".format(rmses[-1], r2s[-1]))"
      ],
      "execution_count": 0,
      "outputs": []
    }
  ]
}