{
  "nbformat": 4,
  "nbformat_minor": 0,
  "metadata": {
    "colab": {
      "name": "Task2.ipynb",
      "provenance": [],
      "collapsed_sections": [],
      "include_colab_link": true
    },
    "kernelspec": {
      "name": "python3",
      "display_name": "Python 3"
    },
    "accelerator": "GPU"
  },
  "cells": [
    {
      "cell_type": "markdown",
      "metadata": {
        "id": "view-in-github",
        "colab_type": "text"
      },
      "source": [
        "<a href=\"https://colab.research.google.com/github/Andre6o6/mlcourse-2019/blob/master/Task2.ipynb\" target=\"_parent\"><img src=\"https://colab.research.google.com/assets/colab-badge.svg\" alt=\"Open In Colab\"/></a>"
      ]
    },
    {
      "cell_type": "markdown",
      "metadata": {
        "id": "ooKVQF4VmnqB",
        "colab_type": "text"
      },
      "source": [
        "Factorization machine from this paper: \n",
        "https://www.csie.ntu.edu.tw/~b97053/paper/Rendle2010FM.pdf"
      ]
    },
    {
      "cell_type": "code",
      "metadata": {
        "id": "XY6GA3gnG9mi",
        "colab_type": "code",
        "outputId": "3ae0b9c3-aae3-49d6-dc8b-d808fb034ad2",
        "colab": {
          "base_uri": "https://localhost:8080/",
          "height": 312
        }
      },
      "source": [
        "!wget https://archive.org/download/nf_prize_dataset.tar/nf_prize_dataset.tar.gz"
      ],
      "execution_count": 0,
      "outputs": [
        {
          "output_type": "stream",
          "text": [
            "--2019-10-22 11:23:00--  https://archive.org/download/nf_prize_dataset.tar/nf_prize_dataset.tar.gz\n",
            "Resolving archive.org (archive.org)... 207.241.224.2\n",
            "Connecting to archive.org (archive.org)|207.241.224.2|:443... connected.\n",
            "HTTP request sent, awaiting response... 302 Found\n",
            "Location: https://ia800205.us.archive.org/7/items/nf_prize_dataset.tar/nf_prize_dataset.tar.gz [following]\n",
            "--2019-10-22 11:23:01--  https://ia800205.us.archive.org/7/items/nf_prize_dataset.tar/nf_prize_dataset.tar.gz\n",
            "Resolving ia800205.us.archive.org (ia800205.us.archive.org)... 207.241.230.25\n",
            "Connecting to ia800205.us.archive.org (ia800205.us.archive.org)|207.241.230.25|:443... connected.\n",
            "HTTP request sent, awaiting response... 200 OK\n",
            "Length: 697552028 (665M) [application/octet-stream]\n",
            "Saving to: ‘nf_prize_dataset.tar.gz’\n",
            "\n",
            "nf_prize_dataset.ta 100%[===================>] 665.24M  2.06MB/s    in 11m 8s  \n",
            "\n",
            "2019-10-22 11:34:10 (1019 KB/s) - ‘nf_prize_dataset.tar.gz’ saved [697552028/697552028]\n",
            "\n"
          ],
          "name": "stdout"
        }
      ]
    },
    {
      "cell_type": "code",
      "metadata": {
        "id": "3VITLCngHQku",
        "colab_type": "code",
        "colab": {}
      },
      "source": [
        "!tar -xzf nf_prize_dataset.tar.gz\n",
        "!tar -xf download/training_set.tar"
      ],
      "execution_count": 0,
      "outputs": []
    },
    {
      "cell_type": "code",
      "metadata": {
        "id": "jEbtoaYBUkM1",
        "colab_type": "code",
        "colab": {}
      },
      "source": [
        "import os\n",
        "import numpy as np\n",
        "\n",
        "transactions = np.zeros((100480507, 3), dtype=int)\n",
        "i = 0\n",
        "\n",
        "root = 'training_set/'\n",
        "for filename in os.listdir(root):\n",
        "    file = root + filename\n",
        "    with open(file) as f:\n",
        "        lines = f.readlines()\n",
        "        movie_idx = int(lines[0].split(':')[0])\n",
        "        for line in lines[1:]:\n",
        "            user_idx, score, _ = line.split(',')\n",
        "            user_idx, score = int(user_idx), int(score)\n",
        "            transactions[i] = movie_idx, user_idx, score\n",
        "            i+=1\n",
        "\n",
        "# Used for onehot\n",
        "user_idxs = {x:i for i,x in enumerate(set(transactions[:, 1]))}"
      ],
      "execution_count": 0,
      "outputs": []
    },
    {
      "cell_type": "code",
      "metadata": {
        "id": "1603IYmm0ZsM",
        "colab_type": "code",
        "colab": {}
      },
      "source": [
        "p = np.random.permutation(len(transactions))\n",
        "transactions = transactions[p]"
      ],
      "execution_count": 0,
      "outputs": []
    },
    {
      "cell_type": "code",
      "metadata": {
        "id": "FX2yPXQQ0kWE",
        "colab_type": "code",
        "outputId": "4a12b7fc-6256-4f3e-a15c-a79c790d90ff",
        "colab": {
          "base_uri": "https://localhost:8080/",
          "height": 202
        }
      },
      "source": [
        "transactions[:10]"
      ],
      "execution_count": 7,
      "outputs": [
        {
          "output_type": "execute_result",
          "data": {
            "text/plain": [
              "array([[  13916, 1785807,       4],\n",
              "       [   5240, 1653637,       3],\n",
              "       [  10158,  516609,       4],\n",
              "       [  16150, 2161634,       5],\n",
              "       [   2575, 2479356,       4],\n",
              "       [   5926,  114529,       5],\n",
              "       [  17355,  841069,       4],\n",
              "       [   4429,  377613,       4],\n",
              "       [  14550, 1480867,       5],\n",
              "       [   1282,  318505,       3]])"
            ]
          },
          "metadata": {
            "tags": []
          },
          "execution_count": 7
        }
      ]
    },
    {
      "cell_type": "code",
      "metadata": {
        "id": "gFlqjNI9FpAf",
        "colab_type": "code",
        "colab": {}
      },
      "source": [
        "#PREPROCESS\n",
        "user_idxs = {x:i for i,x in enumerate(set(transactions[:, 1]))}\n",
        "\n",
        "X = np.zeros((transactions.shape[0], 2))\n",
        "X[:, 0] = transactions[:, 0] - 1    #Movie id\n",
        "X[:, 1] = 17770 + np.vectorize(user_idxs.get)(transactions[:, 1])   #User id, offset by n_movies=17770\n",
        "X = X.astype(int)\n",
        "y = (transactions[:, 2] - 3) / 2    #Rating, centered and scaled to [-1, 1]"
      ],
      "execution_count": 0,
      "outputs": []
    },
    {
      "cell_type": "code",
      "metadata": {
        "colab_type": "code",
        "outputId": "4b814184-2eac-4aa6-dcb7-62ed8cffd613",
        "id": "OnWcCvQJv_25",
        "colab": {
          "base_uri": "https://localhost:8080/",
          "height": 35
        }
      },
      "source": [
        "import gc\n",
        "gc.collect()"
      ],
      "execution_count": 9,
      "outputs": [
        {
          "output_type": "execute_result",
          "data": {
            "text/plain": [
              "0"
            ]
          },
          "metadata": {
            "tags": []
          },
          "execution_count": 9
        }
      ]
    },
    {
      "cell_type": "code",
      "metadata": {
        "id": "QHLAPqbS5z4L",
        "colab_type": "code",
        "colab": {}
      },
      "source": [
        "def rmse_score(y_true, y_pred):\n",
        "    return np.mean(np.square(y_true - y_pred))**0.5\n",
        "\n",
        "def r2_score(y, y_pred):\n",
        "    y_avg = y.mean()\n",
        "    ss_total = np.sum(np.square(y - y_avg))\n",
        "    ss_err = np.sum(np.square(y - y_pred))\n",
        "    return 1 - ss_err/ss_total"
      ],
      "execution_count": 0,
      "outputs": []
    },
    {
      "cell_type": "code",
      "metadata": {
        "id": "1cIJqDsMSYCk",
        "colab_type": "code",
        "colab": {}
      },
      "source": [
        "class KFolds:\n",
        "    def __init__(self, X, y, k=5):\n",
        "        self.k = k\n",
        "        self.X_folds = [X[i::k] for i in range(k)]\n",
        "        self.y_folds = [y[i::k] for i in range(k)]\n",
        "        \n",
        "    def get_fold(self, fold_i):\n",
        "        \n",
        "        X_cv = self.X_folds[fold_i]\n",
        "        y_cv = self.y_folds[fold_i]\n",
        "        \n",
        "        X_train = np.concatenate([self.X_folds[i] for i in range(self.k) if i != fold_i])\n",
        "        y_train = np.concatenate([self.y_folds[i] for i in range(self.k) if i != fold_i])\n",
        "        \n",
        "        return X_train, y_train, X_cv, y_cv\n"
      ],
      "execution_count": 0,
      "outputs": []
    },
    {
      "cell_type": "code",
      "metadata": {
        "id": "r9QfHIupoJ5T",
        "colab_type": "code",
        "colab": {}
      },
      "source": [
        "import math\n",
        "\n",
        "class FactorizationMachineSparse:\n",
        "    def __init__(self, n, k):\n",
        "        self.w0 = 0\n",
        "        self.w = 0.01*np.random.randn(n)\n",
        "        self.v = 0.01*np.random.randn(n,k)\n",
        "\n",
        "        self.lr = 0.01\n",
        "        # Adam hyperparams\n",
        "        self.beta1 = 0.9\n",
        "        self.beta2 = 0.999\n",
        "        # Adam moments\n",
        "        self.v_dw0 = np.zeros_like(self.w0)\n",
        "        self.s_dw0 = np.zeros_like(self.w0)\n",
        "        self.v_dw = np.zeros_like(self.w)\n",
        "        self.s_dw = np.zeros_like(self.w)\n",
        "        self.v_dv = np.zeros_like(self.v)\n",
        "        self.s_dv = np.zeros_like(self.v)\n",
        "        # \n",
        "        self.t = 0\n",
        "        self.eps = 1e-8\n",
        "\n",
        "        #cache stuff to use in backward pass\n",
        "        self.x_batch = None\n",
        "        self.v_dot_x = None\n",
        "\n",
        "    def forward(self, x):\n",
        "        #x - [b x 2], where x_i = (movie_id, user_id)\n",
        "\n",
        "        self.x_batch = x\n",
        "        self.v_dot_x = np.sum(self.v[x], axis=1)\n",
        "        \n",
        "        return self.w0   \\\n",
        "               + np.sum(self.w[x], axis=1)   \\\n",
        "               + 0.5 * np.sum(np.square(self.v_dot_x) - np.sum(np.square(self.v[x]), axis=1), axis=1)\n",
        "         \n",
        "    def backward(self, dLdy):\n",
        "        if self.x_batch is None:\n",
        "            assert 0, 'Call forward first'\n",
        "\n",
        "        #Gradient w.r.t. bias\n",
        "        dLdw0 = np.mean(dLdy)\n",
        "\n",
        "        #Gradient w.r.t. linear weights\n",
        "        dLdw = np.zeros(n)\n",
        "        for x, dLdyi in zip(self.x_batch, dLdy):\n",
        "            dLdw[x] +=  dLdyi\n",
        "        dLdw /= dLdy.shape[0]\n",
        "\n",
        "        #Gradient w.r.t. pairwise weights\n",
        "        dLdv = np.zeros((n,k))\n",
        "        for x, v_dot_xi, dLdyi in zip(self.x_batch, self.v_dot_x, dLdy):\n",
        "            dLdv[x] += dLdyi * (v_dot_xi - self.v[x])\n",
        "        dLdv /= dLdy.shape[0]\n",
        "\n",
        "        #ADAM: estimate moments\n",
        "        self.v_dw0 = self.beta1 * self.v_dw0 + (1 - self.beta1) * dLdw0\n",
        "        self.s_dw0 = self.beta2 * self.s_dw0 + (1 - self.beta2) * dLdw0 * dLdw0\n",
        "        self.v_dw = self.beta1 * self.v_dw + (1 - self.beta1) * dLdw\n",
        "        self.s_dw = self.beta2 * self.s_dw + (1 - self.beta2) * dLdw * dLdw\n",
        "        self.v_dv = self.beta1 * self.v_dv + (1 - self.beta1) * dLdv\n",
        "        self.s_dv = self.beta2 * self.s_dv + (1 - self.beta2) * dLdv * dLdv\n",
        "        #ADAM: correct moments\n",
        "        self.t+=1\n",
        "        bias_correction1 = 1 - self.beta1**self.t\n",
        "        bias_correction2 = 1 - self.beta2**self.t\n",
        "\n",
        "        step_size = self.lr / bias_correction1\n",
        "\n",
        "        denom_dw0 = np.sqrt(self.s_dw0) / math.sqrt(bias_correction2) + self.eps\n",
        "        denom_dw = np.sqrt(self.s_dw) / math.sqrt(bias_correction2) + self.eps\n",
        "        denom_dv = np.sqrt(self.s_dv) / math.sqrt(bias_correction2) + self.eps\n",
        "\n",
        "        #ADAM: Update weights\n",
        "        self.w0 -= step_size * self.v_dw0/denom_dw0\n",
        "        self.w -= step_size * self.v_dw/denom_dw\n",
        "        self.v -= step_size * self.v_dv/denom_dv\n",
        "\n",
        "        '''self.w0 -= self.lr * dLdw0\n",
        "        self.w -= self.lr * dLdw\n",
        "        self.v -= self.lr * dLdv'''\n",
        "        \n",
        "        #Clear cache\n",
        "        self.x_batch = None\n",
        "        self.v_dot_x = None"
      ],
      "execution_count": 0,
      "outputs": []
    },
    {
      "cell_type": "code",
      "metadata": {
        "id": "KTAY87PVZrPh",
        "colab_type": "code",
        "colab": {}
      },
      "source": [
        "class MSE:\n",
        "    def __init__(self):\n",
        "        self.err = None\n",
        "    def forward(self, y_true, y_pred):\n",
        "        self.err = y_true - y_pred\n",
        "        return np.mean(np.square(self.err))\n",
        "    def backward(self):\n",
        "        if self.err is None:\n",
        "            assert 0, 'Call forward first'\n",
        "        return -2 * self.err\t"
      ],
      "execution_count": 0,
      "outputs": []
    },
    {
      "cell_type": "code",
      "metadata": {
        "id": "SMoe18AXYAdy",
        "colab_type": "code",
        "colab": {}
      },
      "source": [
        "def get_batch(X,y, i):\n",
        "  return X[i*batch_size:(i+1)*batch_size], \\\n",
        "         y[i*batch_size:(i+1)*batch_size]"
      ],
      "execution_count": 0,
      "outputs": []
    },
    {
      "cell_type": "code",
      "metadata": {
        "id": "-gg8EOwyYQpJ",
        "colab_type": "code",
        "colab": {}
      },
      "source": [
        "n_movies = 17770\n",
        "n_users = len(user_idxs)\n",
        "\n",
        "n = n_movies + n_users\n",
        "k = 3\n",
        "\n",
        "criterion = MSE()\n",
        "kfold = KFolds(X, y)"
      ],
      "execution_count": 0,
      "outputs": []
    },
    {
      "cell_type": "code",
      "metadata": {
        "id": "6oknK0gJZ9pi",
        "colab_type": "code",
        "outputId": "ff96d6c8-ad34-49c2-825b-2f5e0639291a",
        "colab": {
          "base_uri": "https://localhost:8080/",
          "height": 811
        }
      },
      "source": [
        "from tqdm import trange\n",
        "\n",
        "rmses = []\n",
        "r2s = []\n",
        "\n",
        "epochs = 1\n",
        "for fold_i in range(kfold.k):\n",
        "    model = FactorizationMachineSparse(n,k)\n",
        "\n",
        "    print(\" Train on fold {}\".format(fold_i+1))\n",
        "    X_train, y_train, X_test, y_test = kfold.get_fold(fold_i)\n",
        "\n",
        "    batch_size = 10000\n",
        "    iters = X_train.shape[0] // batch_size\n",
        "    if (X_train.shape[0] % batch_size > 0):\n",
        "        iters += 1\n",
        "\n",
        "    for epoch in range(epochs):\n",
        "        print(\"Epoch\", epoch+1)\n",
        "        running_loss = 0\n",
        "        running_r2 = 0\n",
        "        with trange(iters) as t:\n",
        "            for i in t:\n",
        "                X_batch, y_batch = get_batch(X_train,y_train, i)\n",
        "\n",
        "                y_pred = model.forward(X_batch)\n",
        "                loss = criterion.forward(y_batch, y_pred)\n",
        "                dLdy = criterion.backward()\n",
        "                model.backward(dLdy)\n",
        "\n",
        "                running_loss += loss\n",
        "                r2 = r2_score(y_batch, y_pred)\n",
        "                running_r2 += r2\n",
        "\n",
        "                t.set_postfix(mse=loss, r2=r2)\n",
        "        \n",
        "        running_loss /= X_train.shape[0]/batch_size\n",
        "        running_r2 /= X_train.shape[0]/batch_size\n",
        "        print()\n",
        "        print(\"MSE = {}, R2 = {}\".format(running_loss, running_r2))\n",
        "\n",
        "    #TEST\n",
        "    print(\" Test on {} fold\".format(fold_i+1))\n",
        "\n",
        "    y_pred = np.zeros(y_test.shape)\n",
        "    for i in trange(iters):\n",
        "        X_batch, _ = get_batch(X_test,y_test, i)\n",
        "        y_pred[i*batch_size:(i+1)*batch_size] = model.forward(X_batch)\n",
        "\n",
        "    print()\n",
        "    rmses.append(rmse_score(y_test, y_pred))\n",
        "    r2s.append(r2_score(y_test, y_pred))\n",
        "    print(\"RMSE = {}, R2 = {}\".format(rmses[-1], r2s[-1]))\n",
        "    print()\n",
        "\n",
        "    gc.collect()"
      ],
      "execution_count": 16,
      "outputs": [
        {
          "output_type": "stream",
          "text": [
            " Train on fold 1\n"
          ],
          "name": "stdout"
        },
        {
          "output_type": "stream",
          "text": [
            "  0%|          | 1/8039 [00:00<25:27,  5.26it/s, mse=0.382, r2=-.319]"
          ],
          "name": "stderr"
        },
        {
          "output_type": "stream",
          "text": [
            "Epoch 1\n"
          ],
          "name": "stdout"
        },
        {
          "output_type": "stream",
          "text": [
            "100%|██████████| 8039/8039 [25:45<00:00,  6.00it/s, mse=0.212, r2=0.321]\n",
            "  0%|          | 16/8039 [00:00<00:50, 157.82it/s]"
          ],
          "name": "stderr"
        },
        {
          "output_type": "stream",
          "text": [
            "\n",
            "MSE = 0.2144113352142296, R2 = 0.27169015838027455\n",
            " Test on 1 fold\n"
          ],
          "name": "stdout"
        },
        {
          "output_type": "stream",
          "text": [
            "100%|██████████| 8039/8039 [00:13<00:00, 616.54it/s]\n"
          ],
          "name": "stderr"
        },
        {
          "output_type": "stream",
          "text": [
            "\n",
            "RMSE = 0.4564875058937186, R2 = 0.29240083503382\n",
            "\n",
            " Train on fold 2\n"
          ],
          "name": "stdout"
        },
        {
          "output_type": "stream",
          "text": [
            "  0%|          | 0/8039 [00:00<?, ?it/s, mse=0.379, r2=-.278]"
          ],
          "name": "stderr"
        },
        {
          "output_type": "stream",
          "text": [
            "Epoch 1\n"
          ],
          "name": "stdout"
        },
        {
          "output_type": "stream",
          "text": [
            "100%|██████████| 8039/8039 [25:52<00:00,  5.77it/s, mse=0.212, r2=0.322]\n",
            "  0%|          | 17/8039 [00:00<00:47, 167.26it/s]"
          ],
          "name": "stderr"
        },
        {
          "output_type": "stream",
          "text": [
            "\n",
            "MSE = 0.21407560770829406, R2 = 0.2728941089998591\n",
            " Test on 2 fold\n"
          ],
          "name": "stdout"
        },
        {
          "output_type": "stream",
          "text": [
            "100%|██████████| 8039/8039 [00:12<00:00, 641.69it/s]\n"
          ],
          "name": "stderr"
        },
        {
          "output_type": "stream",
          "text": [
            "\n",
            "RMSE = 0.4560792880312581, R2 = 0.29343414755427877\n",
            "\n",
            " Train on fold 3\n"
          ],
          "name": "stdout"
        },
        {
          "output_type": "stream",
          "text": [
            "\r  0%|          | 0/8039 [00:00<?, ?it/s]"
          ],
          "name": "stderr"
        },
        {
          "output_type": "stream",
          "text": [
            "Epoch 1\n"
          ],
          "name": "stdout"
        },
        {
          "output_type": "stream",
          "text": [
            "100%|██████████| 8039/8039 [25:55<00:00,  5.86it/s, mse=0.212, r2=0.321]\n",
            "  0%|          | 16/8039 [00:00<00:51, 156.76it/s]"
          ],
          "name": "stderr"
        },
        {
          "output_type": "stream",
          "text": [
            "\n",
            "MSE = 0.21387711504295318, R2 = 0.27363436168268324\n",
            " Test on 3 fold\n"
          ],
          "name": "stdout"
        },
        {
          "output_type": "stream",
          "text": [
            "100%|██████████| 8039/8039 [00:13<00:00, 611.88it/s]\n"
          ],
          "name": "stderr"
        },
        {
          "output_type": "stream",
          "text": [
            "\n",
            "RMSE = 0.45604806809176146, R2 = 0.29327664176081447\n",
            "\n",
            " Train on fold 4\n"
          ],
          "name": "stdout"
        },
        {
          "output_type": "stream",
          "text": [
            "\r  0%|          | 0/8039 [00:00<?, ?it/s]"
          ],
          "name": "stderr"
        },
        {
          "output_type": "stream",
          "text": [
            "Epoch 1\n"
          ],
          "name": "stdout"
        },
        {
          "output_type": "stream",
          "text": [
            "100%|██████████| 8039/8039 [26:39<00:00,  5.61it/s, mse=0.213, r2=0.319]\n",
            "  0%|          | 17/8039 [00:00<00:48, 164.83it/s]"
          ],
          "name": "stderr"
        },
        {
          "output_type": "stream",
          "text": [
            "\n",
            "MSE = 0.21384817927360683, R2 = 0.2735578859479196\n",
            " Test on 4 fold\n"
          ],
          "name": "stdout"
        },
        {
          "output_type": "stream",
          "text": [
            "100%|██████████| 8039/8039 [00:12<00:00, 645.94it/s]\n"
          ],
          "name": "stderr"
        },
        {
          "output_type": "stream",
          "text": [
            "\n",
            "RMSE = 0.4564726522606808, R2 = 0.2926503395036024\n",
            "\n",
            " Train on fold 5\n"
          ],
          "name": "stdout"
        },
        {
          "output_type": "stream",
          "text": [
            "  0%|          | 1/8039 [00:00<25:03,  5.35it/s, mse=0.379, r2=-.279]"
          ],
          "name": "stderr"
        },
        {
          "output_type": "stream",
          "text": [
            "Epoch 1\n"
          ],
          "name": "stdout"
        },
        {
          "output_type": "stream",
          "text": [
            " 44%|████▎     | 3502/8039 [11:13<14:18,  5.28it/s, mse=0.217, r2=0.273]"
          ],
          "name": "stderr"
        },
        {
          "output_type": "stream",
          "text": [
            "Buffered data was truncated after reaching the output size limit."
          ],
          "name": "stdout"
        }
      ]
    },
    {
      "cell_type": "code",
      "metadata": {
        "id": "75mq10Mwq94L",
        "colab_type": "code",
        "colab": {
          "base_uri": "https://localhost:8080/",
          "height": 91
        },
        "outputId": "e6f535ef-3220-44d6-cf6f-0d3e5c38c84f"
      },
      "source": [
        "print(\"Folds\\t│{}\\t\\t{}\\t\\t{}\\t\\t{}\\t\\t{}\\t\\t│mean\\t\\tstd\".format(*range(1,kfold.k+1)))\n",
        "print(\"────────┼───────────────────────────────────────────────────────────────────────────────┼───────────────────────\")\n",
        "print(\"RMSE\\t│{:.6f}\\t{:.6f}\\t{:.6f}\\t{:.6f}\\t{:.6f}\\t│{:.6f}\\t{:.6f}\".format(*rmses, np.array(rmses).mean(), np.array(rmses).std()))\n",
        "print(\"R2\\t│{:.6f}\\t{:.6f}\\t{:.6f}\\t{:.6f}\\t{:.6f}\\t│{:.6f}\\t{:.6f}\".format(*r2s, np.array(r2s).mean(), np.array(r2s).std()))"
      ],
      "execution_count": 25,
      "outputs": [
        {
          "output_type": "stream",
          "text": [
            "Folds\t│1\t\t2\t\t3\t\t4\t\t5\t\t│mean\t\tstd\n",
            "────────┼───────────────────────────────────────────────────────────────────────────────┼───────────────────────\n",
            "RMSE\t│0.456488\t0.456079\t0.456048\t0.456473\t0.456561\t│0.456330\t0.000220\n",
            "R2\t│0.292401\t0.293434\t0.293277\t0.292650\t0.291904\t│0.292733\t0.000564\n"
          ],
          "name": "stdout"
        }
      ]
    }
  ]
}