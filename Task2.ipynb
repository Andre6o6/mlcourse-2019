{
  "nbformat": 4,
  "nbformat_minor": 0,
  "metadata": {
    "colab": {
      "name": "Task2.ipynb",
      "provenance": [],
      "collapsed_sections": [],
      "include_colab_link": true
    },
    "kernelspec": {
      "name": "python3",
      "display_name": "Python 3"
    }
  },
  "cells": [
    {
      "cell_type": "markdown",
      "metadata": {
        "id": "view-in-github",
        "colab_type": "text"
      },
      "source": [
        "<a href=\"https://colab.research.google.com/github/Andre6o6/mlcourse-2019/blob/master/Task2.ipynb\" target=\"_parent\"><img src=\"https://colab.research.google.com/assets/colab-badge.svg\" alt=\"Open In Colab\"/></a>"
      ]
    },
    {
      "cell_type": "code",
      "metadata": {
        "id": "XY6GA3gnG9mi",
        "colab_type": "code",
        "outputId": "7338758e-8ff0-48ce-ac6d-2d38cd1a3bfc",
        "colab": {
          "base_uri": "https://localhost:8080/",
          "height": 336
        }
      },
      "source": [
        "!wget https://archive.org/download/nf_prize_dataset.tar/nf_prize_dataset.tar.gz"
      ],
      "execution_count": 0,
      "outputs": [
        {
          "output_type": "stream",
          "text": [
            "--2019-10-16 10:28:22--  https://archive.org/download/nf_prize_dataset.tar/nf_prize_dataset.tar.gz\n",
            "Resolving archive.org (archive.org)... 207.241.224.2\n",
            "Connecting to archive.org (archive.org)|207.241.224.2|:443... connected.\n",
            "HTTP request sent, awaiting response... 302 Found\n",
            "Location: https://ia800205.us.archive.org/7/items/nf_prize_dataset.tar/nf_prize_dataset.tar.gz [following]\n",
            "--2019-10-16 10:28:23--  https://ia800205.us.archive.org/7/items/nf_prize_dataset.tar/nf_prize_dataset.tar.gz\n",
            "Resolving ia800205.us.archive.org (ia800205.us.archive.org)... 207.241.230.25\n",
            "Connecting to ia800205.us.archive.org (ia800205.us.archive.org)|207.241.230.25|:443... connected.\n",
            "HTTP request sent, awaiting response... 200 OK\n",
            "Length: 697552028 (665M) [application/octet-stream]\n",
            "Saving to: ‘nf_prize_dataset.tar.gz’\n",
            "\n",
            "nf_prize_dataset.ta 100%[===================>] 665.24M  4.03MB/s    in 1m 41s  \n",
            "\n",
            "2019-10-16 10:30:05 (6.56 MB/s) - ‘nf_prize_dataset.tar.gz’ saved [697552028/697552028]\n",
            "\n"
          ],
          "name": "stdout"
        }
      ]
    },
    {
      "cell_type": "code",
      "metadata": {
        "id": "3VITLCngHQku",
        "colab_type": "code",
        "colab": {}
      },
      "source": [
        "!tar -xzf nf_prize_dataset.tar.gz\n",
        "!tar -xf download/training_set.tar"
      ],
      "execution_count": 0,
      "outputs": []
    },
    {
      "cell_type": "code",
      "metadata": {
        "id": "tUrLkUbjIizO",
        "colab_type": "code",
        "colab": {}
      },
      "source": [
        ""
      ],
      "execution_count": 0,
      "outputs": []
    },
    {
      "cell_type": "code",
      "metadata": {
        "id": "DAwOKrV4Iiwh",
        "colab_type": "code",
        "colab": {
          "base_uri": "https://localhost:8080/",
          "height": 74
        },
        "outputId": "679dba50-a036-49fd-eb39-71449668a26d"
      },
      "source": [
        "import os\n",
        "print(len(os.listdir('training_set/')))\n",
        "\n",
        "with open('training_set/mv_0010218.txt') as f:\n",
        "  print(f.readlines())"
      ],
      "execution_count": 11,
      "outputs": [
        {
          "output_type": "stream",
          "text": [
            "17770\n",
            "['10218:\\n', '899232,3,2004-07-31\\n', '1850680,1,2005-09-18\\n', '2609870,1,2005-10-18\\n', '2625420,2,2004-06-09\\n', '1508073,3,2004-12-02\\n', '345673,4,2005-08-10\\n', '1738910,4,2004-09-21\\n', '1826086,3,2004-10-12\\n', '2181840,3,2005-09-16\\n', '2094905,3,2005-01-29\\n', '1634682,4,2005-03-08\\n', '136918,5,2004-09-26\\n', '2507158,5,2004-11-03\\n', '1434636,2,2004-05-01\\n', '2192991,3,2004-07-04\\n', '410537,4,2005-11-03\\n', '774018,5,2004-12-14\\n', '1001129,3,2004-10-29\\n', '2536101,3,2005-05-25\\n', '56531,3,2004-09-17\\n', '1433951,4,2005-09-16\\n', '1566279,2,2005-10-21\\n', '1151116,1,2005-11-05\\n', '472483,4,2005-09-06\\n', '2637754,1,2004-06-03\\n', '49585,1,2003-03-03\\n', '883478,3,2005-10-27\\n', '727242,1,2005-11-22\\n', '40563,4,2005-08-14\\n', '1393057,5,2005-02-17\\n', '334803,4,2005-11-26\\n', '2100210,4,2005-07-14\\n', '1503932,2,2005-04-25\\n', '2551806,1,2003-04-11\\n', '296935,5,2005-08-19\\n', '2170930,1,2005-10-06\\n', '487240,5,2005-04-28\\n', '636262,1,2005-09-12\\n', '1685089,4,2003-08-02\\n', '406221,1,2005-12-22\\n', '1351036,4,2004-08-17\\n', '2439493,1,2003-02-18\\n', '1153822,3,2005-08-15\\n', '1386457,4,2004-07-06\\n', '357481,4,2005-12-13\\n', '457527,1,2004-12-05\\n', '2199267,4,2005-05-18\\n', '2315879,3,2005-11-01\\n', '2424399,5,2005-11-06\\n', '2455340,2,2005-09-05\\n', '1646880,5,2005-10-19\\n', '775803,4,2003-08-06\\n', '1059216,4,2005-02-06\\n', '1473980,1,2005-09-04\\n', '2040859,1,2004-11-23\\n', '1960208,5,2005-09-30\\n', '919869,5,2005-11-08\\n', '1244842,2,2005-12-07\\n', '1976875,3,2005-05-25\\n', '539955,4,2001-01-09\\n', '910262,5,2005-10-22\\n', '2640999,1,2005-10-24\\n', '2590631,4,2003-12-10\\n', '914958,4,2003-07-28\\n', '2457095,1,2004-10-18\\n', '596255,1,2005-09-06\\n', '1374216,1,2005-09-25\\n', '1228624,5,2005-09-03\\n', '1070154,4,2005-03-03\\n', '2616210,2,2005-12-06\\n', '99847,4,2004-11-04\\n', '542851,5,2005-05-23\\n', '1143382,2,2005-11-07\\n', '1707723,4,2004-11-26\\n', '588285,1,2005-10-31\\n', '1960339,3,2005-04-29\\n', '128410,3,2005-08-26\\n', '1480539,2,2005-02-11\\n', '934684,2,2005-11-09\\n', '2047532,5,2004-02-11\\n', '2608404,5,2002-07-24\\n', '1684416,4,2004-11-15\\n', '1664010,4,2005-10-12\\n', '2497157,4,2005-08-11\\n', '572481,1,2004-03-24\\n', '1394037,5,2005-08-27\\n', '1713472,4,2004-09-03\\n', '1941388,5,2005-10-11\\n', '1790184,4,2004-06-01\\n', '777787,4,2005-09-02\\n', '1299157,5,2005-11-17\\n', '1901682,3,2005-08-16\\n', '2184488,4,2005-02-01\\n', '2589294,5,2005-11-23\\n', '1344624,1,2005-10-04\\n', '1946049,3,2005-11-07\\n', '1761845,3,2003-11-20\\n', '1935793,1,2005-04-10\\n', '2195326,4,2004-03-23\\n', '142492,3,2004-06-01\\n', '542580,5,2004-04-10\\n', '677888,5,2004-04-09\\n', '2503369,4,2004-11-02\\n', '185185,4,2005-08-11\\n', '1802028,4,2005-03-22\\n', '2500097,5,2005-09-15\\n', '2299298,5,2004-05-23\\n', '1753820,2,2004-05-30\\n', '2606799,2,2005-07-10\\n', '930946,4,2005-09-24\\n', '2256485,1,2004-11-09\\n', '414976,3,2005-11-10\\n', '759737,2,2005-12-13\\n', '1299887,5,2005-02-06\\n', '798296,1,2003-02-21\\n', '2286677,4,2005-09-17\\n', '1127148,4,2005-10-28\\n', '797227,1,2005-11-21\\n', '419465,5,2005-10-14\\n', '1404837,2,2005-12-07\\n', '1854660,1,2005-10-17\\n', '305344,2,2003-03-23\\n', '1403217,2,2005-08-04\\n', '2251677,1,2005-08-17\\n', '2276790,5,2004-01-28\\n', '2596265,1,2003-12-06\\n', '2147527,1,2005-11-18\\n', '841243,3,2005-11-25\\n', '2058365,4,2004-06-03\\n', '205417,3,2003-06-08\\n', '773664,3,2004-11-24\\n', '565301,3,2005-12-23\\n', '2167896,3,2001-08-17\\n', '1976973,3,2005-01-27\\n', '2074078,4,2001-01-26\\n', '2640109,3,2004-01-01\\n', '846404,5,2004-06-30\\n', '998628,2,2004-12-05\\n', '1876416,3,2004-10-18\\n', '1123981,4,2003-09-07\\n', '247241,4,2003-08-25\\n', '133993,2,2005-10-04\\n', '185424,3,2005-10-21\\n', '1878143,4,2004-04-04\\n', '1191417,5,2005-09-06\\n', '875344,4,2004-06-24\\n', '614711,2,2005-12-11\\n', '1881260,3,2005-08-29\\n', '1569629,5,2005-11-17\\n', '1209423,4,2005-03-08\\n', '16412,3,2005-04-26\\n', '1157548,2,2005-06-19\\n', '2506964,2,2004-02-10\\n', '1229435,4,2005-02-10\\n', '1726547,4,2005-09-21\\n', '1974130,4,2003-04-30\\n', '1724929,4,2005-02-21\\n', '1319107,4,2005-05-25\\n', '1806515,2,2005-09-16\\n', '2118461,4,2005-10-22\\n', '2620163,3,2005-10-17\\n', '703585,2,2005-12-12\\n', '2183894,4,2004-12-22\\n', '387418,2,2003-12-09\\n', '1338345,4,2005-10-06\\n', '319529,4,2005-01-11\\n', '1932594,1,2004-08-22\\n', '1486829,1,2004-10-18\\n', '2153656,4,2005-02-03\\n', '1343181,2,2005-09-22\\n', '1447743,3,2003-08-14\\n', '1966687,3,2005-11-06\\n', '1461435,1,2002-02-10\\n', '976310,4,2001-11-05\\n', '1010920,3,2005-03-07\\n', '1821889,3,2005-10-09\\n', '2496405,4,2005-12-23\\n', '1639792,1,2003-02-18\\n', '380292,5,2004-07-02\\n', '2512448,3,2004-05-11\\n', '1342020,4,2004-12-27\\n', '1963140,4,2005-06-06\\n', '779867,4,2005-12-08\\n', '2118319,5,2005-06-03\\n', '247120,3,2005-08-19\\n', '517335,3,2004-06-23\\n', '1777165,3,2005-11-07\\n', '304146,4,2005-03-17\\n', '2634967,1,2004-04-10\\n', '190478,4,2005-12-18\\n', '2012149,5,2005-10-05\\n']\n"
          ],
          "name": "stdout"
        }
      ]
    },
    {
      "cell_type": "code",
      "metadata": {
        "id": "Kqo7uucdIisG",
        "colab_type": "code",
        "colab": {}
      },
      "source": [
        ""
      ],
      "execution_count": 0,
      "outputs": []
    },
    {
      "cell_type": "code",
      "metadata": {
        "id": "-3r9U2FPZbQ4",
        "colab_type": "code",
        "colab": {}
      },
      "source": [
        "import numpy as np\n",
        "\n",
        "class FactorizationMachine:\n",
        "    def __init__(self, n, k):\n",
        "        self.w0 = 0\n",
        "        self.w = np.zeros(n)\n",
        "        self.v = np.zeros((n,k))\n",
        "\n",
        "        #TODO: cache v dot x\n",
        "        self.x_batch = None\n",
        "        self.v_dot_x = None\n",
        "    \n",
        "    def forward(self, x):\n",
        "        #Cache\n",
        "        self.x_batch = x\n",
        "        self.v_dot_x = x @ self.v\n",
        "        \n",
        "        first = x @ self.w\n",
        "        second = 0.5 * np.sum(np.square(v_dot_x) - np.square(x) @ np.square(self.v), axis=-1)\n",
        "        y = self.w0 + first + second\n",
        "\n",
        "    def backward(self, dLdy):\n",
        "        if self.x_batch is None:\n",
        "            assert 0, 'Call forward first'\n",
        "\n",
        "        dydw0 = 1   #FIXME\n",
        "        dydw = self.x_batch   #FIXME\n",
        "\n",
        "        dydv = np.array([x.reshape(-1,1) * (self.v_dot_x) - self.v * np.square(x).reshape(-1,1) \n",
        "                         for x in self.x_batch])\n",
        "\n",
        "        #TODO\n",
        "        \n",
        "        #Clear cache\n",
        "        self.x_batch = None\n",
        "        self.v_dot_x = None"
      ],
      "execution_count": 0,
      "outputs": []
    },
    {
      "cell_type": "code",
      "metadata": {
        "id": "I1FAJnsajTHU",
        "colab_type": "code",
        "colab": {}
      },
      "source": [
        ""
      ],
      "execution_count": 0,
      "outputs": []
    },
    {
      "cell_type": "code",
      "metadata": {
        "id": "jNoZMbDLBANg",
        "colab_type": "code",
        "colab": {
          "base_uri": "https://localhost:8080/",
          "height": 92
        },
        "outputId": "d608cc1e-db08-4475-a4df-6f73ae9a277d"
      },
      "source": [
        "n=3\n",
        "k=2\n",
        "x = np.array([[2,1,0], [1,1,1]])\n",
        "v = np.array([[1,3],\n",
        "             [0,2],\n",
        "             [-1,1]])\n",
        "\n",
        "v0_dot_x = 0\n",
        "dydv0 = np.zeros(n)\n",
        "for j in range(n):\n",
        "    v0_dot_x += x[0,j]*v[j, 0]\n",
        "\n",
        "for i in range(n):\n",
        "    dydv0[i] = x[0,i]*v0_dot_x - v[i, 0]*x[0,i]**2\n",
        "\n",
        "v1_dot_x = 0\n",
        "dydv1 = np.zeros(n)\n",
        "for j in range(n):\n",
        "    v1_dot_x += x[0,j]*v[j, 1]\n",
        "\n",
        "for i in range(n):\n",
        "    dydv1[i] = x[0,i]*v1_dot_x - v[i, 1]*x[0,i]**2\n",
        "\n",
        "\n",
        "v0_dot_x1 = 0\n",
        "dy1dv0 = np.zeros(n)\n",
        "for j in range(n):\n",
        "    v0_dot_x1 += x[1,j]*v[j, 0]\n",
        "\n",
        "for i in range(n):\n",
        "    dy1dv0[i] = x[1,i]*v0_dot_x1 - v[i, 0]*x[1,i]**2\n",
        "\n",
        "v1_dot_x1 = 0\n",
        "dy1dv1 = np.zeros(n)\n",
        "for j in range(n):\n",
        "    v1_dot_x1 += x[1,j]*v[j, 1]\n",
        "\n",
        "for i in range(n):\n",
        "    dy1dv1[i] = x[1,i]*v1_dot_x1 - v[i, 1]*x[1,i]**2\n",
        "\n",
        "print(dydv0)\n",
        "print(dydv1)\n",
        "print(dy1dv0)\n",
        "print(dy1dv1)"
      ],
      "execution_count": 32,
      "outputs": [
        {
          "output_type": "stream",
          "text": [
            "[0. 2. 0.]\n",
            "[4. 6. 0.]\n",
            "[-1.  0.  1.]\n",
            "[3. 4. 5.]\n"
          ],
          "name": "stdout"
        }
      ]
    },
    {
      "cell_type": "code",
      "metadata": {
        "id": "4Y25hcIlP2CG",
        "colab_type": "code",
        "colab": {}
      },
      "source": [
        "x * (x @ v) - v * np.square(x)"
      ],
      "execution_count": 0,
      "outputs": []
    },
    {
      "cell_type": "code",
      "metadata": {
        "id": "OhRF7ZhmQB6A",
        "colab_type": "code",
        "colab": {
          "base_uri": "https://localhost:8080/",
          "height": 260
        },
        "outputId": "355d5601-1355-4441-fbfe-c08fc8f2e094"
      },
      "source": [
        "for _x in x:\n",
        "  print(_x.reshape(-1,1) * (_x @ v) - v * np.square(_x).reshape(-1,1))\n",
        "\n",
        "np.array([_x.reshape(-1,1) * (_x @ v) - v * np.square(_x).reshape(-1,1) \n",
        "          for _x in x])"
      ],
      "execution_count": 87,
      "outputs": [
        {
          "output_type": "stream",
          "text": [
            "[[0 4]\n",
            " [2 6]\n",
            " [0 0]]\n",
            "[[-1  3]\n",
            " [ 0  4]\n",
            " [ 1  5]]\n"
          ],
          "name": "stdout"
        },
        {
          "output_type": "execute_result",
          "data": {
            "text/plain": [
              "array([[[ 0,  4],\n",
              "        [ 2,  6],\n",
              "        [ 0,  0]],\n",
              "\n",
              "       [[-1,  3],\n",
              "        [ 0,  4],\n",
              "        [ 1,  5]]])"
            ]
          },
          "metadata": {
            "tags": []
          },
          "execution_count": 87
        }
      ]
    }
  ]
}