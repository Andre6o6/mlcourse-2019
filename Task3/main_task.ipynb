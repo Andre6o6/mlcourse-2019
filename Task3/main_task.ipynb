{
  "nbformat": 4,
  "nbformat_minor": 0,
  "metadata": {
    "colab": {
      "name": "main_task.ipynb",
      "provenance": [],
      "include_colab_link": true
    },
    "kernelspec": {
      "name": "python3",
      "display_name": "Python 3"
    }
  },
  "cells": [
    {
      "cell_type": "markdown",
      "metadata": {
        "id": "view-in-github",
        "colab_type": "text"
      },
      "source": [
        "<a href=\"https://colab.research.google.com/github/Andre6o6/mlcourse-2019/blob/master/Task3/main_task.ipynb\" target=\"_parent\"><img src=\"https://colab.research.google.com/assets/colab-badge.svg\" alt=\"Open In Colab\"/></a>"
      ]
    },
    {
      "cell_type": "code",
      "metadata": {
        "colab_type": "code",
        "id": "rTM8kFalVb5b",
        "colab": {}
      },
      "source": [
        "%run nn_modules.ipynb"
      ],
      "execution_count": 0,
      "outputs": []
    },
    {
      "cell_type": "code",
      "metadata": {
        "id": "0ZWcyxFnaDk8",
        "colab_type": "code",
        "outputId": "24d07dd2-b7df-4c45-fba5-de1ca8901509",
        "colab": {
          "base_uri": "https://localhost:8080/",
          "height": 428
        }
      },
      "source": [
        "!wget https://www.python-course.eu/data/mnist/mnist_train.csv\n",
        "!wget https://www.python-course.eu/data/mnist/mnist_test.csv"
      ],
      "execution_count": 0,
      "outputs": [
        {
          "output_type": "stream",
          "text": [
            "--2019-11-28 16:25:07--  https://www.python-course.eu/data/mnist/mnist_train.csv\n",
            "Resolving www.python-course.eu (www.python-course.eu)... 138.201.17.115, 2a01:4f8:171:286f::4\n",
            "Connecting to www.python-course.eu (www.python-course.eu)|138.201.17.115|:443... connected.\n",
            "HTTP request sent, awaiting response... 200 OK\n",
            "Length: 109575994 (104M) [text/csv]\n",
            "Saving to: ‘mnist_train.csv’\n",
            "\n",
            "mnist_train.csv     100%[===================>] 104.50M  87.2MB/s    in 1.2s    \n",
            "\n",
            "2019-11-28 16:25:08 (87.2 MB/s) - ‘mnist_train.csv’ saved [109575994/109575994]\n",
            "\n",
            "--2019-11-28 16:25:10--  https://www.python-course.eu/data/mnist/mnist_test.csv\n",
            "Resolving www.python-course.eu (www.python-course.eu)... 138.201.17.115, 2a01:4f8:171:286f::4\n",
            "Connecting to www.python-course.eu (www.python-course.eu)|138.201.17.115|:443... connected.\n",
            "HTTP request sent, awaiting response... 200 OK\n",
            "Length: 18289443 (17M) [text/csv]\n",
            "Saving to: ‘mnist_test.csv’\n",
            "\n",
            "mnist_test.csv      100%[===================>]  17.44M  64.8MB/s    in 0.3s    \n",
            "\n",
            "2019-11-28 16:25:10 (64.8 MB/s) - ‘mnist_test.csv’ saved [18289443/18289443]\n",
            "\n"
          ],
          "name": "stdout"
        }
      ]
    },
    {
      "cell_type": "code",
      "metadata": {
        "id": "f6oJyuVsa38P",
        "colab_type": "code",
        "outputId": "86ff3fc0-3849-4fdd-87a6-c77343cfb75b",
        "colab": {
          "base_uri": "https://localhost:8080/",
          "height": 148
        }
      },
      "source": [
        "%matplotlib inline\n",
        "import numpy as np\n",
        "import matplotlib.pyplot as plt\n",
        "image_size = 28\n",
        "image_pixels = image_size * image_size\n",
        "data_path = \"\"\n",
        "train_data = np.loadtxt(data_path + \"mnist_train.csv\", \n",
        "                        delimiter=\",\")\n",
        "test_data = np.loadtxt(data_path + \"mnist_test.csv\", \n",
        "                        delimiter=\",\")\n",
        "train_data[:10]"
      ],
      "execution_count": 0,
      "outputs": [
        {
          "output_type": "execute_result",
          "data": {
            "text/plain": [
              "array([[5., 0., 0., ..., 0., 0., 0.],\n",
              "       [0., 0., 0., ..., 0., 0., 0.],\n",
              "       [4., 0., 0., ..., 0., 0., 0.],\n",
              "       ...,\n",
              "       [3., 0., 0., ..., 0., 0., 0.],\n",
              "       [1., 0., 0., ..., 0., 0., 0.],\n",
              "       [4., 0., 0., ..., 0., 0., 0.]])"
            ]
          },
          "metadata": {
            "tags": []
          },
          "execution_count": 24
        }
      ]
    },
    {
      "cell_type": "code",
      "metadata": {
        "id": "_NHauKeVbfTc",
        "colab_type": "code",
        "colab": {}
      },
      "source": [
        "X_train = 2 * np.asfarray(train_data[:, 1:])/255 - 1\n",
        "y_train = np.asarray(train_data[:, :1], dtype=int)\n",
        "\n",
        "X_test = 2 * np.asfarray(test_data[:, 1:])/255 - 1\n",
        "y_test = np.asarray(test_data[:, :1], dtype=int)"
      ],
      "execution_count": 0,
      "outputs": []
    },
    {
      "cell_type": "code",
      "metadata": {
        "id": "r8My1eTobL3A",
        "colab_type": "code",
        "outputId": "d6964ed6-5f2a-4347-f5af-60275cbf7903",
        "colab": {
          "base_uri": "https://localhost:8080/",
          "height": 303
        }
      },
      "source": [
        "fig, axes = plt.subplots(1, 5, figsize=(20,15))\n",
        "axes = axes.flatten()\n",
        "for img, ax in zip(X_train[:5].reshape((-1,28,28)), axes):\n",
        "    ax.imshow(img, cmap=\"Greys\")\n",
        "plt.tight_layout()\n",
        "plt.show()"
      ],
      "execution_count": 0,
      "outputs": [
        {
          "output_type": "display_data",
          "data": {
            "image/png": "[encoded data removed]",
            "text/plain": [
              "<Figure size 1440x1080 with 5 Axes>"
            ]
          },
          "metadata": {
            "tags": []
          }
        }
      ]
    },
    {
      "cell_type": "code",
      "metadata": {
        "id": "EsI6ldbGctfX",
        "colab_type": "code",
        "colab": {}
      },
      "source": [
        "def train_test_split(X,y,ratio=0.1):\n",
        "    n_samples = X.shape[0]\n",
        "    indices = np.arange(n_samples)\n",
        "    np.random.shuffle(indices)\n",
        "\n",
        "    n = int(n_samples*ratio)\n",
        "    test_indices = indices[:n]\n",
        "    train_indices = indices[n:]\n",
        "\n",
        "    return X[train_indices], y[train_indices], X[test_indices], y[test_indices]\n",
        "\n",
        "X_train, y_train, X_val, y_val = train_test_split(X_train, y_train)"
      ],
      "execution_count": 0,
      "outputs": []
    },
    {
      "cell_type": "code",
      "metadata": {
        "id": "hYD3Xl2wYdaM",
        "colab_type": "code",
        "colab": {}
      },
      "source": [
        "# batch generator\n",
        "def get_batches(dataset, batch_size):\n",
        "    X, Y = dataset\n",
        "    n_samples = X.shape[0]\n",
        "        \n",
        "    # Shuffle at the start of epoch\n",
        "    indices = np.arange(n_samples)\n",
        "    np.random.shuffle(indices)\n",
        "    \n",
        "    for start in range(0, n_samples, batch_size):\n",
        "        end = min(start + batch_size, n_samples)\n",
        "        \n",
        "        batch_idx = indices[start:end]\n",
        "    \n",
        "        yield X[batch_idx], Y[batch_idx]"
      ],
      "execution_count": 0,
      "outputs": []
    },
    {
      "cell_type": "code",
      "metadata": {
        "id": "9aUpoDryXKXP",
        "colab_type": "code",
        "colab": {}
      },
      "source": [
        "def sgd_momentum(x, dx, config, state):\n",
        "    \"\"\"\n",
        "        This is a very ugly implementation of sgd with momentum \n",
        "        just to show an example how to store old grad in state.\n",
        "        \n",
        "        config:\n",
        "            - momentum\n",
        "            - learning_rate\n",
        "        state:\n",
        "            - old_grad\n",
        "    \"\"\"\n",
        "    \n",
        "    # x and dx have complex structure, old dx will be stored in a simpler one\n",
        "    state.setdefault('old_grad', {})\n",
        "    \n",
        "    i = 0 \n",
        "    for cur_layer_x, cur_layer_dx in zip(x,dx): \n",
        "        for cur_x, cur_dx in zip(cur_layer_x,cur_layer_dx):\n",
        "            \n",
        "            cur_old_grad = state['old_grad'].setdefault(i, np.zeros_like(cur_dx))\n",
        "            np.add(config['momentum'] * cur_old_grad, config['learning_rate'] * cur_dx, out = cur_old_grad)\n",
        "            \n",
        "            cur_x -= cur_old_grad\n",
        "            i += 1"
      ],
      "execution_count": 0,
      "outputs": []
    },
    {
      "cell_type": "code",
      "metadata": {
        "id": "vINJC2f-1ReD",
        "colab_type": "code",
        "colab": {}
      },
      "source": [
        "def count_iterations(X, batch_size):\n",
        "    n_iters = X.shape[0] // batch_size\n",
        "    if X.shape[0] % batch_size > 0:\n",
        "        n_iters += 1\n",
        "    return n_iters\n",
        "\n",
        "batch_size = 512\n",
        "n_iters = count_iterations(X_train, batch_size)\n",
        "n_val_iters = count_iterations(X_val, batch_size)"
      ],
      "execution_count": 0,
      "outputs": []
    },
    {
      "cell_type": "code",
      "metadata": {
        "id": "wFjjH6U12kxr",
        "colab_type": "code",
        "colab": {}
      },
      "source": [
        "def accuracy(y_pred, y_true):\n",
        "    return sum(y_pred == y_true) / len(y_true)"
      ],
      "execution_count": 0,
      "outputs": []
    },
    {
      "cell_type": "code",
      "metadata": {
        "id": "5svbtAYu1BJT",
        "colab_type": "code",
        "outputId": "17094389-7c42-48be-b703-85cf0b76b40e",
        "colab": {
          "base_uri": "https://localhost:8080/",
          "height": 185
        }
      },
      "source": [
        "#Network with sigmoid and dropout\n",
        "\n",
        "net = Sequential()\n",
        "net.add(Linear(784, 128))\n",
        "net.add(Dropout())\n",
        "net.add(Sigmoid())\n",
        "net.add(Linear(128, 128))\n",
        "net.add(Dropout())\n",
        "net.add(Sigmoid())\n",
        "net.add(Linear(128, 10))\n",
        "net.add(LogSoftMax())\n",
        "\n",
        "criterion = NLLCriterion()\n",
        "\n",
        "print(net)"
      ],
      "execution_count": 0,
      "outputs": [
        {
          "output_type": "stream",
          "text": [
            "Linear 784 -> 128\n",
            "Dropout\n",
            "Sigmoid\n",
            "Linear 128 -> 128\n",
            "Dropout\n",
            "Sigmoid\n",
            "Linear 128 -> 10\n",
            "LogSoftMax\n",
            "\n"
          ],
          "name": "stdout"
        }
      ]
    },
    {
      "cell_type": "code",
      "metadata": {
        "id": "R7-KvrcA1NPC",
        "colab_type": "code",
        "colab": {}
      },
      "source": [
        "# Optimizer params\n",
        "optimizer_config = {'learning_rate' : 0.5, 'momentum': 0.9}\n",
        "optimizer_state = {}"
      ],
      "execution_count": 0,
      "outputs": []
    },
    {
      "cell_type": "code",
      "metadata": {
        "id": "cGAoAuO_1vFa",
        "colab_type": "code",
        "outputId": "8ea3816b-08ac-4941-e193-fbb535a8d78c",
        "colab": {
          "base_uri": "https://localhost:8080/",
          "height": 423
        }
      },
      "source": [
        "from IPython import display\n",
        "\n",
        "n_epoch = 6\n",
        "\n",
        "history = []\n",
        "val_losses = []\n",
        "for i in range(n_epoch):\n",
        "    net.train()\n",
        "    \n",
        "    # LR schedule\n",
        "    if i>=2:\n",
        "        optimizer_config['learning_rate'] = 0.05\n",
        "\n",
        "    train_loss = 0\n",
        "    for x_batch, y_batch in get_batches((X_train, y_train), batch_size):\n",
        "        y_batch = y_batch.reshape(-1)\n",
        "        \n",
        "        net.zeroGradParameters()\n",
        "        \n",
        "        # Forward\n",
        "        predictions = net.forward(x_batch)\n",
        "        loss = criterion.forward(predictions, y_batch)\n",
        "    \n",
        "        # Backward\n",
        "        dp = criterion.backward(predictions, y_batch)\n",
        "        net.backward(x_batch, dp)\n",
        "        \n",
        "        # Update weights\n",
        "        sgd_momentum(net.getParameters(), \n",
        "                     net.getGradParameters(), \n",
        "                     optimizer_config,\n",
        "                     optimizer_state)      \n",
        "        \n",
        "        train_loss += loss\n",
        "        history.append(loss)\n",
        "    train_loss /= n_iters\n",
        "\n",
        "\n",
        "    net.evaluate()\n",
        "    val_loss = 0\n",
        "    for x_batch, y_batch in get_batches((X_val, y_val), batch_size):\n",
        "        y_batch = y_batch.reshape(-1)\n",
        "        \n",
        "        # Forward\n",
        "        predictions = net.forward(x_batch)\n",
        "        val_loss += criterion.forward(predictions, y_batch)  \n",
        "\n",
        "    val_loss /= n_val_iters\n",
        "    val_losses.append(val_loss)\n",
        "        \n",
        "\n",
        "    # Visualize    \n",
        "    display.clear_output(wait=True)\n",
        "    fig, (ax1, ax2) = plt.subplots(1, 2, figsize=(16, 6))\n",
        "        \n",
        "    ax1.set_title(\"Training loss\")\n",
        "    ax1.set(xlabel=\"#Iteration\", ylabel=\"loss\")\n",
        "    ax1.plot(history, 'b')\n",
        "\n",
        "    ax2.set_title(\"Val loss\")\n",
        "    ax2.set(xlabel=\"#Epoch\", ylabel=\"loss\")\n",
        "    ax2.plot(val_losses, 'r')\n",
        "\n",
        "    plt.show()\n",
        "    print('[{}] train loss: {}\\tval loss: {}'.format(i, train_loss, val_loss))"
      ],
      "execution_count": 0,
      "outputs": [
        {
          "output_type": "display_data",
          "data": {
            "image/png": "[encoded data removed]",
            "text/plain": [
              "<Figure size 1152x432 with 2 Axes>"
            ]
          },
          "metadata": {
            "tags": []
          }
        },
        {
          "output_type": "stream",
          "text": [
            "[5] train loss: 0.3594182223932443\tval loss: 0.39740323537160926\n"
          ],
          "name": "stdout"
        }
      ]
    },
    {
      "cell_type": "code",
      "metadata": {
        "id": "7FwkMPvk1yV9",
        "colab_type": "code",
        "outputId": "571d18d5-cf3d-4b30-b986-00fe50e55a02",
        "colab": {
          "base_uri": "https://localhost:8080/",
          "height": 36
        }
      },
      "source": [
        "y_pred = np.argmax(net.forward(X_test), axis=1)\n",
        "acc = accuracy(y_pred, y_test.reshape(-1))\n",
        "print(\"Accuracy on test: {}%\".format(acc*100))"
      ],
      "execution_count": 0,
      "outputs": [
        {
          "output_type": "stream",
          "text": [
            "Accuracy on test: 91.9%\n"
          ],
          "name": "stdout"
        }
      ]
    },
    {
      "cell_type": "code",
      "metadata": {
        "id": "sN2rW2gS1yYS",
        "colab_type": "code",
        "colab": {}
      },
      "source": [
        ""
      ],
      "execution_count": 0,
      "outputs": []
    },
    {
      "cell_type": "code",
      "metadata": {
        "id": "7LZKwfaHXvQ-",
        "colab_type": "code",
        "outputId": "b4b3fcfa-21e3-48fc-ba46-32c17ba43f17",
        "colab": {
          "base_uri": "https://localhost:8080/",
          "height": 223
        }
      },
      "source": [
        "#Network with ReLU and BatchNorm\n",
        "\n",
        "net = Sequential()\n",
        "net.add(Linear(784, 128))\n",
        "net.add(BatchNormalization())\n",
        "net.add(ChannelwiseScaling(128))\n",
        "net.add(ReLU())\n",
        "net.add(Linear(128, 128))\n",
        "net.add(BatchNormalization())\n",
        "net.add(ChannelwiseScaling(128))\n",
        "net.add(ReLU())\n",
        "net.add(Linear(128, 10))\n",
        "net.add(LogSoftMax())\n",
        "\n",
        "criterion = NLLCriterion()\n",
        "\n",
        "print(net)"
      ],
      "execution_count": 0,
      "outputs": [
        {
          "output_type": "stream",
          "text": [
            "Linear 784 -> 128\n",
            "BatchNormalization\n",
            "ChannelwiseScaling\n",
            "ReLU\n",
            "Linear 128 -> 128\n",
            "BatchNormalization\n",
            "ChannelwiseScaling\n",
            "ReLU\n",
            "Linear 128 -> 10\n",
            "LogSoftMax\n",
            "\n"
          ],
          "name": "stdout"
        }
      ]
    },
    {
      "cell_type": "code",
      "metadata": {
        "id": "7o7NKthZYb62",
        "colab_type": "code",
        "colab": {}
      },
      "source": [
        "# Optimizer params\n",
        "optimizer_config = {'learning_rate' : 0.5, 'momentum': 0.9}\n",
        "optimizer_state = {}"
      ],
      "execution_count": 0,
      "outputs": []
    },
    {
      "cell_type": "code",
      "metadata": {
        "id": "spLBPcXpc4ss",
        "colab_type": "code",
        "outputId": "febb706e-a57b-4d39-b887-f269f8b7cbd5",
        "colab": {
          "base_uri": "https://localhost:8080/",
          "height": 423
        }
      },
      "source": [
        "from IPython import display\n",
        "\n",
        "n_epoch = 6\n",
        "\n",
        "history = []\n",
        "val_losses = []\n",
        "for i in range(n_epoch):\n",
        "    net.train()\n",
        "    \n",
        "    # LR schedule\n",
        "    if i>=2:\n",
        "        optimizer_config['learning_rate'] = 0.05\n",
        "\n",
        "    train_loss = 0\n",
        "    for x_batch, y_batch in get_batches((X_train, y_train), batch_size):\n",
        "        y_batch = y_batch.reshape(-1)\n",
        "        \n",
        "        net.zeroGradParameters()\n",
        "        \n",
        "        # Forward\n",
        "        predictions = net.forward(x_batch)\n",
        "        loss = criterion.forward(predictions, y_batch)\n",
        "    \n",
        "        # Backward\n",
        "        dp = criterion.backward(predictions, y_batch)\n",
        "        net.backward(x_batch, dp)\n",
        "        \n",
        "        # Update weights\n",
        "        sgd_momentum(net.getParameters(), \n",
        "                     net.getGradParameters(), \n",
        "                     optimizer_config,\n",
        "                     optimizer_state)      \n",
        "        \n",
        "        train_loss += loss\n",
        "        history.append(loss)\n",
        "    train_loss /= n_iters\n",
        "\n",
        "\n",
        "    net.evaluate()\n",
        "    val_loss = 0\n",
        "    for x_batch, y_batch in get_batches((X_val, y_val), batch_size):\n",
        "        y_batch = y_batch.reshape(-1)\n",
        "        \n",
        "        # Forward\n",
        "        predictions = net.forward(x_batch)\n",
        "        val_loss += criterion.forward(predictions, y_batch)  \n",
        "\n",
        "    val_loss /= n_val_iters\n",
        "    val_losses.append(val_loss)\n",
        "        \n",
        "\n",
        "    # Visualize    \n",
        "    display.clear_output(wait=True)\n",
        "    fig, (ax1, ax2) = plt.subplots(1, 2, figsize=(16, 6))\n",
        "        \n",
        "    ax1.set_title(\"Training loss\")\n",
        "    ax1.set(xlabel=\"#Iteration\", ylabel=\"loss\")\n",
        "    ax1.plot(history, 'b')\n",
        "\n",
        "    ax2.set_title(\"Val loss\")\n",
        "    ax2.set(xlabel=\"#Epoch\", ylabel=\"loss\")\n",
        "    ax2.plot(val_losses, 'r')\n",
        "\n",
        "    plt.show()\n",
        "    print('[{}] train loss: {}\\tval loss: {}'.format(i, train_loss, val_loss))"
      ],
      "execution_count": 0,
      "outputs": [
        {
          "output_type": "display_data",
          "data": {
            "image/png": "[encoded data removed]",
            "text/plain": [
              "<Figure size 1152x432 with 2 Axes>"
            ]
          },
          "metadata": {
            "tags": []
          }
        },
        {
          "output_type": "stream",
          "text": [
            "[5] train loss: 0.03659165382705331\tval loss: 0.07920975605069812\n"
          ],
          "name": "stdout"
        }
      ]
    },
    {
      "cell_type": "code",
      "metadata": {
        "id": "MCYNik8xQM0L",
        "colab_type": "code",
        "outputId": "39d58441-aa5f-4a69-9235-39bd62158d52",
        "colab": {
          "base_uri": "https://localhost:8080/",
          "height": 36
        }
      },
      "source": [
        "y_pred = np.argmax(net.forward(X_test), axis=1)\n",
        "acc = accuracy(y_pred, y_test.reshape(-1))\n",
        "print(\"Accuracy on test: {:.2f}%\".format(acc*100))"
      ],
      "execution_count": 0,
      "outputs": [
        {
          "output_type": "stream",
          "text": [
            "Accuracy on test: 97.74%\n"
          ],
          "name": "stdout"
        }
      ]
    }
  ]
}