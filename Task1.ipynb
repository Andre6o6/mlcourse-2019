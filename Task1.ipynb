{
  "nbformat": 4,
  "nbformat_minor": 0,
  "metadata": {
    "colab": {
      "name": "Task1.ipynb",
      "version": "0.3.2",
      "provenance": [],
      "collapsed_sections": []
    },
    "kernelspec": {
      "name": "python3",
      "display_name": "Python 3"
    }
  },
  "cells": [
    {
      "cell_type": "code",
      "metadata": {
        "id": "OBKXI07IGRLs",
        "colab_type": "code",
        "colab": {}
      },
      "source": [
        "import numpy as np\n",
        "import pandas as pd"
      ],
      "execution_count": 0,
      "outputs": []
    },
    {
      "cell_type": "code",
      "metadata": {
        "id": "P9liwp7rH7tz",
        "colab_type": "code",
        "colab": {}
      },
      "source": [
        "#Metrics\n",
        "def mean_square_error(y, y_pred):\n",
        "    return np.mean(np.square(y - y_pred))\n",
        "\n",
        "def root_mean_square_error(y, y_pred):\n",
        "    return mean_square_error(y, y_pred)**0.5\n",
        "  \n",
        "def r2_score(y, y_pred):\n",
        "    y_avg = y.mean()\n",
        "    ss_total = np.sum(np.square(y - y_avg))\n",
        "    ss_err = np.sum(np.square(y - y_pred))\n",
        "    return 1 - ss_err/ss_total"
      ],
      "execution_count": 0,
      "outputs": []
    },
    {
      "cell_type": "code",
      "metadata": {
        "id": "AlriatCAITNx",
        "colab_type": "code",
        "colab": {}
      },
      "source": [
        "#Utils\n",
        "def add_biases(X):\n",
        "    return np.hstack((X, np.ones((X.shape[0],1))))\n",
        "  \n",
        "def linear(X, w):\n",
        "    return np.matmul(w, X.T)\n",
        "  \n",
        "def preprocess(X_train, X_test):\n",
        "    #Standardize\n",
        "    X_mean, X_std = X_train.mean(axis=0), X_train.std(axis=0)\n",
        "    X_train = (X_train - X_mean)/X_std\n",
        "    X_test = (X_test - X_mean)/X_std\n",
        "    \n",
        "    #Remove NaN in 37 column\n",
        "    np.nan_to_num(X_train, copy=False)\n",
        "    np.nan_to_num(X_test, copy=False)\n",
        "    \n",
        "    #Biases\n",
        "    X_train = add_biases(X_train)\n",
        "    X_test = add_biases(X_test)\n",
        "    \n",
        "    return X_train, X_test"
      ],
      "execution_count": 0,
      "outputs": []
    },
    {
      "cell_type": "code",
      "metadata": {
        "id": "qddcwTa4GKSW",
        "colab_type": "code",
        "colab": {}
      },
      "source": [
        "#SGD  \n",
        "def compute_gradient_on_batch(X, y, w):\n",
        "  \n",
        "    batch_size, feature_count = X.shape\n",
        "    grad = np.zeros((batch_size, feature_count))\n",
        "    \n",
        "    for i in range(batch_size):\n",
        "        grad[i, :] = X[i, :]*(w @ X[i] - y[i])\n",
        "    \n",
        "    return grad\n",
        "\n",
        "def stochastic_gradient_descent(X, y, lr=1e-2, max_epoch=10, \n",
        "                                batch_size=1):\n",
        "    weight_dist = np.inf\n",
        "    w = np.random.randn(X.shape[1])    #init w\n",
        "    errors = []\n",
        "    \n",
        "    iters = X.shape[0] // batch_size\n",
        "    if (X.shape[0] % batch_size > 0):\n",
        "        iters += 1\n",
        "    \n",
        "    for epoch in range(max_epoch):\n",
        "        \n",
        "        p = np.random.permutation(X.shape[0])\n",
        "        X, y = X[p], y[p]    #Shuffle\n",
        "\n",
        "        for i in range(iters):\n",
        "            \n",
        "            X_batch = X[i*batch_size:(i+1)*batch_size]\n",
        "            y_batch = y[i*batch_size:(i+1)*batch_size]\n",
        "\n",
        "            grad = compute_gradient_on_batch(X_batch, y_batch, w)\n",
        "            w = w - lr * np.mean(grad, axis=0)\n",
        "            \n",
        "        errors.append(mean_square_error(y, linear(X, w)))\n",
        "    \n",
        "    return w, errors\n"
      ],
      "execution_count": 0,
      "outputs": []
    },
    {
      "cell_type": "code",
      "metadata": {
        "id": "WbuktrM5IZ_8",
        "colab_type": "code",
        "colab": {}
      },
      "source": [
        "#Folds\n",
        "class KFolds:\n",
        "    def __init__(self, X, y, k=5):\n",
        "      \n",
        "        self.k = k\n",
        "        \n",
        "        fold_size = X.shape[0]//k\n",
        "        if X.shape[0] % k > 0:\n",
        "            fold_size += 1\n",
        "            \n",
        "        self.X_folds = [X[i*fold_size:(i+1)*fold_size] for i in range(k)]\n",
        "        self.y_folds = [y[i*fold_size:(i+1)*fold_size] for i in range(k)]\n",
        "        \n",
        "    def get_fold(self, fold_i):\n",
        "        \n",
        "        X_cv = self.X_folds[fold_i]\n",
        "        y_cv = self.y_folds[fold_i]\n",
        "        \n",
        "        X_train = np.concatenate([self.X_folds[i] for i in range(self.k) if i != fold_i])\n",
        "        y_train = np.concatenate([self.y_folds[i] for i in range(self.k) if i != fold_i])\n",
        "        \n",
        "        return X_train, y_train, X_cv, y_cv"
      ],
      "execution_count": 0,
      "outputs": []
    },
    {
      "cell_type": "code",
      "metadata": {
        "id": "ir879LnbGzQr",
        "colab_type": "code",
        "outputId": "6ba6978f-2ca5-4db7-b1f0-6f92bea8deff",
        "colab": {
          "base_uri": "https://localhost:8080/",
          "height": 220
        }
      },
      "source": [
        "!wget https://archive.ics.uci.edu/ml/machine-learning-databases/00363/Dataset.zip\n",
        "!unzip -q Dataset.zip"
      ],
      "execution_count": 6,
      "outputs": [
        {
          "output_type": "stream",
          "text": [
            "--2019-09-16 09:32:42--  https://archive.ics.uci.edu/ml/machine-learning-databases/00363/Dataset.zip\n",
            "Resolving archive.ics.uci.edu (archive.ics.uci.edu)... 128.195.10.252\n",
            "Connecting to archive.ics.uci.edu (archive.ics.uci.edu)|128.195.10.252|:443... connected.\n",
            "HTTP request sent, awaiting response... 200 OK\n",
            "Length: 19055526 (18M) [application/x-httpd-php]\n",
            "Saving to: ‘Dataset.zip’\n",
            "\n",
            "\rDataset.zip           0%[                    ]       0  --.-KB/s               \rDataset.zip           4%[                    ] 814.00K  3.47MB/s               \rDataset.zip          71%[=============>      ]  13.07M  30.4MB/s               \rDataset.zip         100%[===================>]  18.17M  36.6MB/s    in 0.5s    \n",
            "\n",
            "2019-09-16 09:32:43 (36.6 MB/s) - ‘Dataset.zip’ saved [19055526/19055526]\n",
            "\n"
          ],
          "name": "stdout"
        }
      ]
    },
    {
      "cell_type": "code",
      "metadata": {
        "id": "v9yG5P9WIiPg",
        "colab_type": "code",
        "colab": {}
      },
      "source": [
        "train_df = pd.read_csv('Dataset/Training/Features_Variant_1.csv',header=None)\n",
        "\n",
        "data = train_df.values\n",
        "random.shuffle(data)\n",
        "y = data[:,-1]\n",
        "X = data[:,:-1]"
      ],
      "execution_count": 0,
      "outputs": []
    },
    {
      "cell_type": "code",
      "metadata": {
        "id": "okgnz9vgIpu7",
        "colab_type": "code",
        "outputId": "72cc7c66-154f-4ae1-e0b4-89063e8393b7",
        "colab": {
          "base_uri": "https://localhost:8080/",
          "height": 91
        }
      },
      "source": [
        "kfold = KFolds(X,y,k=5)\n",
        "rmse_list = []\n",
        "r2_list = []\n",
        "weights_list = []\n",
        "errors_list = []\n",
        "\n",
        "for i in range(kfold.k):\n",
        "    X_train, y_train, X_cv, y_cv = kfold.get_fold(i)\n",
        "    X_train, X_cv = preprocess(X_train, X_cv)\n",
        "    \n",
        "    w, errors = stochastic_gradient_descent(X_train, y_train, lr=1e-2, max_epoch=25, batch_size=1000)\n",
        "    y_pred = linear(X_cv, w)\n",
        "    \n",
        "    rmse_list.append(root_mean_square_error(y_cv, y_pred))\n",
        "    r2_list.append(r2_score(y_cv, y_pred))\n",
        "    weights_list.append(w)\n",
        "    errors_list.append(errors)"
      ],
      "execution_count": 129,
      "outputs": [
        {
          "output_type": "stream",
          "text": [
            "/usr/local/lib/python3.6/dist-packages/ipykernel_launcher.py:10: RuntimeWarning: invalid value encountered in true_divide\n",
            "  # Remove the CWD from sys.path while we load stuff.\n",
            "/usr/local/lib/python3.6/dist-packages/ipykernel_launcher.py:11: RuntimeWarning: invalid value encountered in true_divide\n",
            "  # This is added back by InteractiveShellApp.init_path()\n"
          ],
          "name": "stderr"
        }
      ]
    },
    {
      "cell_type": "code",
      "metadata": {
        "id": "vMko3AqjKY2X",
        "colab_type": "code",
        "outputId": "93a7a6a4-6542-47c9-80f6-7cf0ff406d8a",
        "colab": {
          "base_uri": "https://localhost:8080/",
          "height": 91
        }
      },
      "source": [
        "print(\"Folds\\t│{}\\t{}\\t{}\\t{}\\t{}\\t│mean\\tstd\".format(*range(1,kfold.k+1)))\n",
        "print(\"────────┼───────────────────────────────────────┼─────────────\")\n",
        "print(\"RMSE\\t│{:.1f}\\t{:.1f}\\t{:.1f}\\t{:.1f}\\t{:.1f}\\t│{:.2f}\\t{:.2f}\".format(*rmse_list, np.array(rmse_list).mean(), np.array(rmse_list).std()))\n",
        "print(\"R2\\t│{:.3f}\\t{:.3f}\\t{:.3f}\\t{:.3f}\\t{:.3f}\\t│{:.3f}\\t{:.3f}\".format(*r2_list, np.array(r2_list).mean(), np.array(r2_list).std()))"
      ],
      "execution_count": 130,
      "outputs": [
        {
          "output_type": "stream",
          "text": [
            "Folds\t│1\t2\t3\t4\t5\t│mean\tstd\n",
            "────────┼───────────────────────────────────────┼─────────────\n",
            "RMSE\t│27.9\t31.7\t32.1\t28.7\t28.6\t│29.81\t1.76\n",
            "R2\t│0.263\t0.318\t0.321\t0.228\t0.306\t│0.287\t0.036\n"
          ],
          "name": "stdout"
        }
      ]
    },
    {
      "cell_type": "code",
      "metadata": {
        "id": "tZ-4GZP0dA8k",
        "colab_type": "code",
        "colab": {
          "base_uri": "https://localhost:8080/",
          "height": 1000
        },
        "outputId": "7d4c5416-aa12-4aaf-c467-5c2a41f126eb"
      },
      "source": [
        "weights_list = np.array(weights_list)\n",
        "print(\"────────┼───────────────────────────────────────┼─────────────\")\n",
        "for feat in range(53):\n",
        "    print(\"{}\\t│{:.3f}\\t{:.3f}\\t{:.3f}\\t{:.3f}\\t{:.3f}\\t│\".format(feat+1, *weights_list[:,feat]))\n",
        "print(\"bias\\t│{:.3f}\\t{:.3f}\\t{:.3f}\\t{:.3f}\\t{:.3f}\\t│\".format(*weights_list[:,-1]))"
      ],
      "execution_count": 131,
      "outputs": [
        {
          "output_type": "stream",
          "text": [
            "────────┼───────────────────────────────────────┼─────────────\n",
            "1\t│-0.027\t0.686\t0.186\t-2.157\t0.318\t│\n",
            "2\t│-0.633\t-0.519\t-0.509\t-0.600\t-0.585\t│\n",
            "3\t│-1.264\t-1.827\t-1.214\t-0.514\t-1.950\t│\n",
            "4\t│-0.004\t-0.073\t-0.042\t-0.086\t-0.109\t│\n",
            "5\t│-0.031\t0.445\t-0.540\t0.635\t0.096\t│\n",
            "6\t│1.126\t-0.706\t-0.211\t0.738\t1.961\t│\n",
            "7\t│-0.860\t1.145\t0.759\t-0.048\t0.147\t│\n",
            "8\t│0.996\t-0.826\t-0.170\t0.208\t0.222\t│\n",
            "9\t│2.278\t1.483\t2.124\t0.553\t2.991\t│\n",
            "10\t│-0.724\t-1.132\t-1.848\t0.556\t-1.688\t│\n",
            "11\t│-0.193\t-0.072\t0.709\t-0.841\t-1.286\t│\n",
            "12\t│1.809\t2.245\t1.295\t0.327\t0.802\t│\n",
            "13\t│2.647\t2.024\t2.990\t2.550\t3.611\t│\n",
            "14\t│1.538\t-0.641\t-0.512\t0.409\t0.214\t│\n",
            "15\t│-0.233\t0.328\t0.291\t-0.130\t0.125\t│\n",
            "16\t│0.234\t-0.302\t0.985\t-0.149\t0.084\t│\n",
            "17\t│0.444\t1.246\t0.660\t1.186\t0.674\t│\n",
            "18\t│2.979\t2.655\t1.227\t3.162\t2.586\t│\n",
            "19\t│-0.174\t-1.129\t0.490\t1.077\t0.523\t│\n",
            "20\t│-0.318\t-1.071\t0.329\t-0.728\t-0.388\t│\n",
            "21\t│-0.731\t0.346\t-0.435\t-0.173\t-2.004\t│\n",
            "22\t│0.266\t-1.602\t-2.105\t-0.753\t0.332\t│\n",
            "23\t│-0.454\t0.236\t0.654\t-1.299\t-0.767\t│\n",
            "24\t│-0.330\t1.349\t1.025\t-0.389\t-0.564\t│\n",
            "25\t│-0.486\t-1.183\t0.499\t0.084\t-0.090\t│\n",
            "26\t│-1.204\t-0.468\t-1.455\t0.169\t0.576\t│\n",
            "27\t│0.113\t0.693\t0.872\t-0.041\t1.265\t│\n",
            "28\t│-0.614\t0.365\t-0.304\t-0.111\t-0.843\t│\n",
            "29\t│-1.079\t-0.067\t-0.836\t0.811\t-1.192\t│\n",
            "30\t│-1.173\t1.116\t0.228\t-0.776\t0.138\t│\n",
            "31\t│10.188\t10.140\t10.056\t9.415\t10.350\t│\n",
            "32\t│1.864\t1.796\t1.025\t2.180\t1.578\t│\n",
            "33\t│1.152\t-0.992\t-0.090\t-0.003\t-0.557\t│\n",
            "34\t│6.880\t6.122\t5.196\t7.116\t6.249\t│\n",
            "35\t│-4.336\t-4.265\t-4.383\t-4.313\t-4.340\t│\n",
            "36\t│-0.075\t0.027\t0.091\t0.097\t0.124\t│\n",
            "37\t│2.182\t2.588\t1.568\t4.177\t2.282\t│\n",
            "38\t│-0.659\t-0.983\t0.055\t-0.055\t0.441\t│\n",
            "39\t│0.736\t0.807\t0.752\t0.871\t0.861\t│\n",
            "40\t│-0.082\t0.122\t-0.045\t0.119\t-0.185\t│\n",
            "41\t│-0.039\t-0.066\t0.031\t0.124\t-0.205\t│\n",
            "42\t│-0.024\t-0.053\t0.001\t0.234\t-0.057\t│\n",
            "43\t│0.294\t0.464\t0.430\t0.567\t0.352\t│\n",
            "44\t│0.341\t0.488\t0.321\t0.345\t-0.032\t│\n",
            "45\t│0.458\t0.521\t0.496\t0.230\t0.203\t│\n",
            "46\t│0.131\t-0.041\t0.153\t0.064\t-0.295\t│\n",
            "47\t│-0.343\t-0.830\t-0.214\t-0.053\t-0.295\t│\n",
            "48\t│0.091\t-0.360\t0.280\t0.212\t-0.002\t│\n",
            "49\t│-0.020\t-0.790\t-0.017\t-0.044\t-0.237\t│\n",
            "50\t│0.196\t-0.188\t0.473\t0.210\t-0.015\t│\n",
            "51\t│-0.082\t-0.531\t0.085\t-0.231\t-0.490\t│\n",
            "52\t│-0.009\t-0.544\t0.138\t-0.159\t-0.269\t│\n",
            "53\t│-0.172\t-1.062\t-0.060\t-0.260\t-0.476\t│\n",
            "bias\t│7.413\t7.224\t7.275\t7.369\t7.312\t│\n"
          ],
          "name": "stdout"
        }
      ]
    },
    {
      "cell_type": "code",
      "metadata": {
        "id": "RMT4deVBfE4H",
        "colab_type": "code",
        "colab": {
          "base_uri": "https://localhost:8080/",
          "height": 301
        },
        "outputId": "48f44659-189b-440d-894f-1783e79a18cb"
      },
      "source": [
        "%pylab inline\n",
        "errors_list = np.array(errors_list)\n",
        "plt.plot(errors_list.T)\n",
        "plt.xlabel(\"Epochs\")\n",
        "plt.ylabel(\"MSE\")\n",
        "plt.legend(['F1','F2','F3','F4','F5']);"
      ],
      "execution_count": 132,
      "outputs": [
        {
          "output_type": "stream",
          "text": [
            "Populating the interactive namespace from numpy and matplotlib\n"
          ],
          "name": "stdout"
        },
        {
          "output_type": "display_data",
          "data": {
            "image/png": "[encoded data removed]",
            "text/plain": [
              "<Figure size 432x288 with 1 Axes>"
            ]
          },
          "metadata": {
            "tags": []
          }
        }
      ]
    }
  ]
}