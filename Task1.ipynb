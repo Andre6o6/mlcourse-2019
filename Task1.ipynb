{
  "nbformat": 4,
  "nbformat_minor": 0,
  "metadata": {
    "colab": {
      "name": "Task1.ipynb",
      "provenance": [],
      "collapsed_sections": [],
      "include_colab_link": true
    },
    "kernelspec": {
      "name": "python3",
      "display_name": "Python 3"
    }
  },
  "cells": [
    {
      "cell_type": "markdown",
      "metadata": {
        "id": "view-in-github",
        "colab_type": "text"
      },
      "source": [
        "<a href=\"https://colab.research.google.com/github/Andre6o6/mlcourse-2019/blob/master/Task1.ipynb\" target=\"_parent\"><img src=\"https://colab.research.google.com/assets/colab-badge.svg\" alt=\"Open In Colab\"/></a>"
      ]
    },
    {
      "cell_type": "code",
      "metadata": {
        "id": "OBKXI07IGRLs",
        "colab_type": "code",
        "colab": {}
      },
      "source": [
        "import numpy as np\n",
        "import pandas as pd"
      ],
      "execution_count": 0,
      "outputs": []
    },
    {
      "cell_type": "code",
      "metadata": {
        "id": "P9liwp7rH7tz",
        "colab_type": "code",
        "colab": {}
      },
      "source": [
        "#Metrics\n",
        "def mean_square_error(y, y_pred):\n",
        "    return np.mean(np.square(y - y_pred))\n",
        "\n",
        "def root_mean_square_error(y, y_pred):\n",
        "    return mean_square_error(y, y_pred)**0.5\n",
        "  \n",
        "def r2_score(y, y_pred):\n",
        "    y_avg = y.mean()\n",
        "    ss_total = np.sum(np.square(y - y_avg))\n",
        "    ss_err = np.sum(np.square(y - y_pred))\n",
        "    return 1 - ss_err/ss_total"
      ],
      "execution_count": 0,
      "outputs": []
    },
    {
      "cell_type": "code",
      "metadata": {
        "id": "AlriatCAITNx",
        "colab_type": "code",
        "colab": {}
      },
      "source": [
        "#Utils\n",
        "def add_biases(X):\n",
        "    return np.hstack((X, np.ones((X.shape[0],1))))\n",
        "  \n",
        "def linear(X, w):\n",
        "    return np.matmul(w, X.T)\n",
        "  \n",
        "def preprocess(X_train, X_test):\n",
        "    #Standardize\n",
        "    X_mean, X_std = X_train.mean(axis=0), X_train.std(axis=0)\n",
        "    X_train = (X_train - X_mean)/X_std\n",
        "    X_test = (X_test - X_mean)/X_std\n",
        "    \n",
        "    #Biases\n",
        "    X_train = add_biases(X_train)\n",
        "    X_test = add_biases(X_test)\n",
        "    \n",
        "    return X_train, X_test"
      ],
      "execution_count": 0,
      "outputs": []
    },
    {
      "cell_type": "code",
      "metadata": {
        "id": "qddcwTa4GKSW",
        "colab_type": "code",
        "colab": {}
      },
      "source": [
        "#SGD  \n",
        "def compute_gradient_on_batch(X, y, w):\n",
        "  \n",
        "    batch_size, feature_count = X.shape\n",
        "    grad = np.zeros((batch_size, feature_count))\n",
        "    \n",
        "    for i in range(batch_size):\n",
        "        grad[i, :] = X[i, :]*(w @ X[i] - y[i])\n",
        "    \n",
        "    return grad\n",
        "\n",
        "def stochastic_gradient_descent(X, y, lr=1e-2, max_epoch=10, \n",
        "                                batch_size=1):\n",
        "    weight_dist = np.inf\n",
        "    w = np.random.randn(X.shape[1])    #init w\n",
        "    errors = []\n",
        "    \n",
        "    iters = X.shape[0] // batch_size\n",
        "    if (X.shape[0] % batch_size > 0):\n",
        "        iters += 1\n",
        "    \n",
        "    for epoch in range(max_epoch):\n",
        "        \n",
        "        p = np.random.permutation(X.shape[0])\n",
        "        X, y = X[p], y[p]    #Shuffle\n",
        "\n",
        "        for i in range(iters):\n",
        "            \n",
        "            X_batch = X[i*batch_size:(i+1)*batch_size]\n",
        "            y_batch = y[i*batch_size:(i+1)*batch_size]\n",
        "\n",
        "            grad = compute_gradient_on_batch(X_batch, y_batch, w)\n",
        "            w = w - lr * np.mean(grad, axis=0)\n",
        "            \n",
        "        errors.append(mean_square_error(y, linear(X, w)))\n",
        "    \n",
        "    return w, errors\n"
      ],
      "execution_count": 0,
      "outputs": []
    },
    {
      "cell_type": "code",
      "metadata": {
        "id": "WbuktrM5IZ_8",
        "colab_type": "code",
        "colab": {}
      },
      "source": [
        "#Folds\n",
        "class KFolds:\n",
        "    def __init__(self, X, y, k=5):\n",
        "      \n",
        "        self.k = k\n",
        "\n",
        "        self.X_folds = [X[i::k] for i in range(k)]\n",
        "        self.y_folds = [y[i::k] for i in range(k)]\n",
        "        \n",
        "    def get_fold(self, fold_i):\n",
        "        \n",
        "        X_cv = self.X_folds[fold_i]\n",
        "        y_cv = self.y_folds[fold_i]\n",
        "        \n",
        "        X_train = np.concatenate([self.X_folds[i] for i in range(self.k) if i != fold_i])\n",
        "        y_train = np.concatenate([self.y_folds[i] for i in range(self.k) if i != fold_i])\n",
        "        \n",
        "        return X_train, y_train, X_cv, y_cv"
      ],
      "execution_count": 0,
      "outputs": []
    },
    {
      "cell_type": "code",
      "metadata": {
        "id": "ir879LnbGzQr",
        "colab_type": "code",
        "outputId": "30b00589-7cba-403a-f736-ec930d730f89",
        "colab": {
          "base_uri": "https://localhost:8080/",
          "height": 220
        }
      },
      "source": [
        "!wget https://archive.ics.uci.edu/ml/machine-learning-databases/00363/Dataset.zip\n",
        "!unzip -q Dataset.zip"
      ],
      "execution_count": 6,
      "outputs": [
        {
          "output_type": "stream",
          "text": [
            "--2019-09-26 08:39:12--  https://archive.ics.uci.edu/ml/machine-learning-databases/00363/Dataset.zip\n",
            "Resolving archive.ics.uci.edu (archive.ics.uci.edu)... 128.195.10.252\n",
            "Connecting to archive.ics.uci.edu (archive.ics.uci.edu)|128.195.10.252|:443... connected.\n",
            "HTTP request sent, awaiting response... 200 OK\n",
            "Length: 19055526 (18M) [application/x-httpd-php]\n",
            "Saving to: ‘Dataset.zip’\n",
            "\n",
            "\rDataset.zip           0%[                    ]       0  --.-KB/s               \rDataset.zip          11%[=>                  ]   2.08M  10.4MB/s               \rDataset.zip         100%[===================>]  18.17M  48.3MB/s    in 0.4s    \n",
            "\n",
            "2019-09-26 08:39:13 (48.3 MB/s) - ‘Dataset.zip’ saved [19055526/19055526]\n",
            "\n"
          ],
          "name": "stdout"
        }
      ]
    },
    {
      "cell_type": "code",
      "metadata": {
        "id": "v9yG5P9WIiPg",
        "colab_type": "code",
        "colab": {}
      },
      "source": [
        "import random\n",
        "train_df = pd.read_csv('Dataset/Training/Features_Variant_1.csv',header=None)\n",
        "train_df.drop(columns=[37], inplace=True) #drop constant column\n",
        "\n",
        "data = train_df.values\n",
        "random.shuffle(data)\n",
        "y = data[:,-1]\n",
        "X = data[:,:-1]"
      ],
      "execution_count": 0,
      "outputs": []
    },
    {
      "cell_type": "code",
      "metadata": {
        "id": "Y7aWusUhCytZ",
        "colab_type": "code",
        "colab": {}
      },
      "source": [
        "test_df = pd.read_csv('Dataset/Testing/Features_TestSet.csv',header=None)\n",
        "test_df.drop(columns=[37], inplace=True)  #drop constant column\n",
        "\n",
        "y_test = test_df.values[:,-1]\n",
        "X_test = test_df.values[:,:-1]\n",
        "\n",
        "_, X_test = preprocess(X,X_test)"
      ],
      "execution_count": 0,
      "outputs": []
    },
    {
      "cell_type": "code",
      "metadata": {
        "id": "okgnz9vgIpu7",
        "colab_type": "code",
        "colab": {}
      },
      "source": [
        "kfold = KFolds(X,y,k=5)\n",
        "\n",
        "rmse_list = []\n",
        "r2_list = []\n",
        "rmse_test_list = []\n",
        "r2_test_list = []\n",
        "\n",
        "weights_list = []\n",
        "errors_list = []\n",
        "\n",
        "for i in range(kfold.k):\n",
        "    X_train, y_train, X_cv, y_cv = kfold.get_fold(i)\n",
        "    X_train, X_cv = preprocess(X_train, X_cv)\n",
        "    \n",
        "    w, errors = stochastic_gradient_descent(X_train, y_train, lr=1e-2, max_epoch=20, batch_size=1000)\n",
        "    errors_list.append(errors)\n",
        "    weights_list.append(w)\n",
        "\n",
        "    #Metrics on cv set\n",
        "    y_pred = linear(X_cv, w)        \n",
        "    rmse_list.append(root_mean_square_error(y_cv, y_pred))\n",
        "    r2_list.append(r2_score(y_cv, y_pred))\n",
        "    \n",
        "    #Metrics on test set\n",
        "    y_pred = linear(X_test, w)        \n",
        "    rmse_test_list.append(root_mean_square_error(y_test, y_pred))\n",
        "    r2_test_list.append(r2_score(y_test, y_pred))"
      ],
      "execution_count": 0,
      "outputs": []
    },
    {
      "cell_type": "code",
      "metadata": {
        "id": "vMko3AqjKY2X",
        "colab_type": "code",
        "outputId": "c4f2ca16-c036-4965-83ee-787f24a4137e",
        "colab": {
          "base_uri": "https://localhost:8080/",
          "height": 220
        }
      },
      "source": [
        "print(\"Folds\\t│{}\\t{}\\t{}\\t{}\\t{}\\t│mean\\tstd\".format(*range(1,kfold.k+1)))\n",
        "print(\"────────┼───────────────────────────────────────┼─────────────\")\n",
        "print(\"        │CV                                     │\")\n",
        "print(\"────────┼───────────────────────────────────────┼─────────────\")\n",
        "print(\"RMSE\\t│{:.1f}\\t{:.1f}\\t{:.1f}\\t{:.1f}\\t{:.1f}\\t│{:.2f}\\t{:.2f}\".format(*rmse_list, np.array(rmse_list).mean(), np.array(rmse_list).std()))\n",
        "print(\"R2\\t│{:.3f}\\t{:.3f}\\t{:.3f}\\t{:.3f}\\t{:.3f}\\t│{:.3f}\\t{:.3f}\".format(*r2_list, np.array(r2_list).mean(), np.array(r2_list).std()))\n",
        "print(\"────────┼───────────────────────────────────────┼─────────────\")\n",
        "print(\"        │Test                                   │\")\n",
        "print(\"────────┼───────────────────────────────────────┼─────────────\")\n",
        "print(\"RMSE\\t│{:.1f}\\t{:.1f}\\t{:.1f}\\t{:.1f}\\t{:.1f}\\t│{:.2f}\\t{:.2f}\".format(*rmse_test_list, np.array(rmse_test_list).mean(), np.array(rmse_test_list).std()))\n",
        "print(\"R2\\t│{:.3f}\\t{:.3f}\\t{:.3f}\\t{:.3f}\\t{:.3f}\\t│{:.3f}\\t{:.3f}\".format(*r2_test_list, np.array(r2_test_list).mean(), np.array(r2_test_list).std()))"
      ],
      "execution_count": 15,
      "outputs": [
        {
          "output_type": "stream",
          "text": [
            "Folds\t│1\t2\t3\t4\t5\t│mean\tstd\n",
            "────────┼───────────────────────────────────────┼─────────────\n",
            "        │CV                                     │\n",
            "────────┼───────────────────────────────────────┼─────────────\n",
            "RMSE\t│31.7\t26.4\t31.6\t30.2\t34.9\t│30.98\t2.76\n",
            "R2\t│0.325\t0.419\t0.367\t0.431\t0.345\t│0.377\t0.041\n",
            "────────┼───────────────────────────────────────┼─────────────\n",
            "        │Test                                   │\n",
            "────────┼───────────────────────────────────────┼─────────────\n",
            "RMSE\t│106.6\t106.7\t106.4\t106.6\t107.5\t│106.73\t0.38\n",
            "R2\t│0.142\t0.140\t0.144\t0.142\t0.127\t│0.139\t0.006\n"
          ],
          "name": "stdout"
        }
      ]
    },
    {
      "cell_type": "code",
      "metadata": {
        "id": "JQyLsP_5HxhV",
        "colab_type": "code",
        "colab": {}
      },
      "source": [
        "feature_names = [\n",
        "    \"page_likes\",\"page_checkins\",\"page_returns\",\"page_category\",\n",
        "    \"X\",\"X.1\",\"X.2\",\"X.3\",\"X.4\",\"X.5\",\"X.6\",\"X.7\",\"X.8\",\"X.9\",\"X.10\",\"X.11\",\"X.12\",\"X.13\",\"X.14\",\"X.15\",\"X.16\",\"X.17\",\"X.18\",\"X.19\",\"X.20\",\"X.21\",\"X.22\",\"X.23\",\"X.24\",\n",
        "    \"commBase\",\"comm24\",\"comm48\",\"comm24_1\",\"diff_24.48\",\n",
        "    \"base_time\",\"post_length\",\"post_shares\",\"hrs\",\n",
        "    \"sun_pub\",\"mon_pub\",\"tue_pub\",\"wed_pub\",\"thu_pub\",\"fri_pub\",\"sat_pub\",\n",
        "    \"sun_base\",\"mon_base\",\"tue_base\",\"wed_base\",\"thu_base\",\"fri_base\",\"sat_base\"\n",
        "]"
      ],
      "execution_count": 0,
      "outputs": []
    },
    {
      "cell_type": "code",
      "metadata": {
        "id": "tZ-4GZP0dA8k",
        "colab_type": "code",
        "outputId": "13d641b4-41ee-4e73-8917-bed8a5168da7",
        "colab": {
          "base_uri": "https://localhost:8080/",
          "height": 1000
        }
      },
      "source": [
        "weights_list = np.array(weights_list)\n",
        "print(\"────────┼───────────────────────────────────────┼─────────────\")\n",
        "for feat in range(weights_list.shape[1]-1):\n",
        "    print(\"{}\\t│{:.3f}\\t{:.3f}\\t{:.3f}\\t{:.3f}\\t{:.3f}\\t│ {}\".format(feat+1, *weights_list[:,feat], feature_names[feat]))\n",
        "print(\"bias\\t│{:.3f}\\t{:.3f}\\t{:.3f}\\t{:.3f}\\t{:.3f}\\t│\".format(*weights_list[:,-1]))"
      ],
      "execution_count": 17,
      "outputs": [
        {
          "output_type": "stream",
          "text": [
            "────────┼───────────────────────────────────────┼─────────────\n",
            "1\t│0.466\t1.215\t-0.132\t0.242\t0.982\t│ page_likes\n",
            "2\t│-0.910\t-0.511\t-0.764\t-0.458\t-0.305\t│ page_checkins\n",
            "3\t│-1.267\t-1.833\t-0.908\t-1.525\t-2.409\t│ page_returns\n",
            "4\t│-0.457\t-0.490\t-0.512\t-0.445\t-0.364\t│ page_category\n",
            "5\t│0.626\t0.304\t-0.165\t-0.314\t-0.999\t│ X\n",
            "6\t│0.837\t2.132\t1.728\t0.932\t0.099\t│ X.1\n",
            "7\t│2.273\t1.722\t1.442\t-0.730\t0.787\t│ X.2\n",
            "8\t│0.443\t-0.339\t-0.255\t-0.237\t-0.094\t│ X.3\n",
            "9\t│2.187\t2.127\t1.340\t1.135\t2.347\t│ X.4\n",
            "10\t│-0.910\t-1.512\t-0.847\t-2.285\t-1.817\t│ X.5\n",
            "11\t│0.637\t-1.535\t-1.664\t-0.842\t-0.380\t│ X.6\n",
            "12\t│1.815\t1.150\t1.237\t1.049\t0.733\t│ X.7\n",
            "13\t│2.826\t3.202\t2.515\t3.428\t3.260\t│ X.8\n",
            "14\t│-0.711\t1.048\t-0.367\t1.148\t0.320\t│ X.9\n",
            "15\t│-0.107\t-0.078\t-0.002\t0.085\t-0.002\t│ X.10\n",
            "16\t│-0.455\t-1.082\t0.327\t0.293\t0.026\t│ X.11\n",
            "17\t│1.101\t0.198\t0.453\t1.041\t0.737\t│ X.12\n",
            "18\t│0.820\t1.571\t2.172\t0.945\t1.186\t│ X.13\n",
            "19\t│1.544\t0.851\t0.594\t0.661\t2.212\t│ X.14\n",
            "20\t│-0.698\t-0.659\t-1.333\t0.440\t1.286\t│ X.15\n",
            "21\t│-0.644\t-1.218\t-1.072\t-0.081\t-0.905\t│ X.16\n",
            "22\t│-1.169\t-0.276\t0.356\t0.186\t-1.336\t│ X.17\n",
            "23\t│-0.323\t0.013\t0.276\t0.710\t-1.145\t│ X.18\n",
            "24\t│-0.214\t0.011\t-0.535\t-0.158\t0.562\t│ X.19\n",
            "25\t│0.941\t-0.632\t1.146\t0.857\t0.866\t│ X.20\n",
            "26\t│-0.956\t-0.289\t0.161\t-1.248\t-0.606\t│ X.21\n",
            "27\t│-0.216\t-0.214\t0.098\t-0.220\t0.179\t│ X.22\n",
            "28\t│-1.452\t0.152\t-0.010\t-0.118\t-0.621\t│ X.23\n",
            "29\t│-0.448\t0.543\t0.302\t1.841\t0.207\t│ X.24\n",
            "30\t│0.061\t-0.573\t0.897\t0.132\t0.352\t│ commBase\n",
            "31\t│11.647\t11.749\t9.804\t10.836\t11.260\t│ comm24\n",
            "32\t│1.493\t1.887\t2.089\t1.676\t1.064\t│ comm48\n",
            "33\t│-0.250\t0.622\t-0.169\t0.151\t0.661\t│ comm24_1\n",
            "34\t│8.542\t8.647\t9.706\t8.498\t7.856\t│ diff_24.48\n",
            "35\t│-4.900\t-5.006\t-4.936\t-5.021\t-4.907\t│ base_time\n",
            "36\t│0.043\t-0.235\t-0.031\t-0.014\t-0.040\t│ post_length\n",
            "37\t│4.387\t2.995\t3.196\t3.516\t2.815\t│ post_shares\n",
            "38\t│0.581\t0.645\t0.517\t0.654\t0.560\t│ hrs\n",
            "39\t│-0.770\t-1.000\t-0.713\t-0.778\t-0.526\t│ sun_pub\n",
            "40\t│-0.739\t-1.097\t-1.158\t-1.148\t-0.562\t│ mon_pub\n",
            "41\t│-0.678\t-0.988\t-0.824\t-1.126\t-0.366\t│ tue_pub\n",
            "42\t│0.234\t0.137\t0.001\t-0.413\t0.466\t│ wed_pub\n",
            "43\t│-0.253\t-0.485\t-0.485\t-0.745\t0.162\t│ thu_pub\n",
            "44\t│-0.417\t-0.754\t-0.666\t-0.962\t0.042\t│ fri_pub\n",
            "45\t│-0.670\t-0.854\t-0.701\t-1.096\t-0.236\t│ sat_pub\n",
            "46\t│0.022\t-0.295\t0.037\t0.205\t-0.563\t│ sun_base\n",
            "47\t│0.321\t-0.118\t-0.078\t0.228\t-0.249\t│ mon_base\n",
            "48\t│0.003\t-0.335\t-0.063\t-0.102\t-0.353\t│ tue_base\n",
            "49\t│0.760\t0.625\t0.716\t0.719\t0.456\t│ wed_base\n",
            "50\t│-0.200\t-0.506\t-0.228\t-0.074\t-0.587\t│ thu_base\n",
            "51\t│-0.532\t-0.840\t-0.579\t-0.463\t-0.833\t│ fri_base\n",
            "52\t│-0.516\t-0.814\t-0.458\t-0.282\t-0.884\t│ sat_base\n",
            "bias\t│8.987\t9.095\t8.841\t8.838\t8.844\t│\n"
          ],
          "name": "stdout"
        }
      ]
    },
    {
      "cell_type": "code",
      "metadata": {
        "id": "RMT4deVBfE4H",
        "colab_type": "code",
        "outputId": "ed706e5e-041e-494c-ad05-35724ba43c6a",
        "colab": {
          "base_uri": "https://localhost:8080/",
          "height": 357
        }
      },
      "source": [
        "%pylab inline\n",
        "errors_list = np.array(errors_list)\n",
        "plt.plot(errors_list.T)\n",
        "plt.xlabel(\"Epochs\")\n",
        "plt.ylabel(\"MSE\")\n",
        "plt.legend(['F1','F2','F3','F4','F5']);"
      ],
      "execution_count": 18,
      "outputs": [
        {
          "output_type": "stream",
          "text": [
            "Populating the interactive namespace from numpy and matplotlib\n"
          ],
          "name": "stdout"
        },
        {
          "output_type": "stream",
          "text": [
            "/usr/local/lib/python3.6/dist-packages/IPython/core/magics/pylab.py:161: UserWarning: pylab import has clobbered these variables: ['random']\n",
            "`%matplotlib` prevents importing * from pylab and numpy\n",
            "  \"\\n`%matplotlib` prevents importing * from pylab and numpy\"\n"
          ],
          "name": "stderr"
        },
        {
          "output_type": "display_data",
          "data": {
            "image/png": "[encoded data removed]",
            "text/plain": [
              "<Figure size 432x288 with 1 Axes>"
            ]
          },
          "metadata": {
            "tags": []
          }
        }
      ]
    }
  ]
}