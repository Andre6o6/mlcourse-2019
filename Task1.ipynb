{
  "nbformat": 4,
  "nbformat_minor": 0,
  "metadata": {
    "colab": {
      "name": "Task1.ipynb",
      "provenance": [],
      "collapsed_sections": []
    },
    "kernelspec": {
      "name": "python3",
      "display_name": "Python 3"
    }
  },
  "cells": [
    {
      "cell_type": "markdown",
      "metadata": {
        "id": "bf-cyP_eLME_",
        "colab_type": "text"
      },
      "source": [
        "Interactive notebook: https://colab.research.google.com/drive/1VnbVbfyNxRMIDTJlFue-Dljsqnxokas-"
      ]
    },
    {
      "cell_type": "code",
      "metadata": {
        "id": "OBKXI07IGRLs",
        "colab_type": "code",
        "colab": {}
      },
      "source": [
        "import numpy as np\n",
        "import pandas as pd"
      ],
      "execution_count": 0,
      "outputs": []
    },
    {
      "cell_type": "code",
      "metadata": {
        "id": "P9liwp7rH7tz",
        "colab_type": "code",
        "colab": {}
      },
      "source": [
        "#Metrics\n",
        "def mean_square_error(y, y_pred):\n",
        "    return np.mean(np.square(y - y_pred))\n",
        "\n",
        "def root_mean_square_error(y, y_pred):\n",
        "    return mean_square_error(y, y_pred)**0.5\n",
        "  \n",
        "def r2_score(y, y_pred):\n",
        "    y_avg = y.mean()\n",
        "    ss_total = np.sum(np.square(y - y_avg))\n",
        "    ss_err = np.sum(np.square(y - y_pred))\n",
        "    return 1 - ss_err/ss_total"
      ],
      "execution_count": 0,
      "outputs": []
    },
    {
      "cell_type": "code",
      "metadata": {
        "id": "AlriatCAITNx",
        "colab_type": "code",
        "colab": {}
      },
      "source": [
        "#Utils\n",
        "def add_biases(X):\n",
        "    return np.hstack((X, np.ones((X.shape[0],1))))\n",
        "  \n",
        "def linear(X, w):\n",
        "    return np.matmul(w, X.T)\n",
        "  \n",
        "def preprocess(X_train, X_test):\n",
        "    #Standardize\n",
        "    X_mean, X_std = X_train.mean(axis=0), X_train.std(axis=0)\n",
        "    X_train = (X_train - X_mean)/X_std\n",
        "    X_test = (X_test - X_mean)/X_std\n",
        "    \n",
        "    _='''#Remove NaN in 37 column\n",
        "    np.nan_to_num(X_train, copy=False)\n",
        "    np.nan_to_num(X_test, copy=False)'''\n",
        "    \n",
        "    #Biases\n",
        "    X_train = add_biases(X_train)\n",
        "    X_test = add_biases(X_test)\n",
        "    \n",
        "    return X_train, X_test"
      ],
      "execution_count": 0,
      "outputs": []
    },
    {
      "cell_type": "code",
      "metadata": {
        "id": "qddcwTa4GKSW",
        "colab_type": "code",
        "colab": {}
      },
      "source": [
        "#SGD  \n",
        "def compute_gradient_on_batch(X, y, w):\n",
        "  \n",
        "    batch_size, feature_count = X.shape\n",
        "    grad = np.zeros((batch_size, feature_count))\n",
        "    \n",
        "    for i in range(batch_size):\n",
        "        grad[i, :] = X[i, :]*(w @ X[i] - y[i])\n",
        "    \n",
        "    return grad\n",
        "\n",
        "def stochastic_gradient_descent(X, y, lr=1e-2, max_epoch=10, \n",
        "                                batch_size=1):\n",
        "    weight_dist = np.inf\n",
        "    w = np.random.randn(X.shape[1])    #init w\n",
        "    errors = []\n",
        "    \n",
        "    iters = X.shape[0] // batch_size\n",
        "    if (X.shape[0] % batch_size > 0):\n",
        "        iters += 1\n",
        "    \n",
        "    for epoch in range(max_epoch):\n",
        "        \n",
        "        p = np.random.permutation(X.shape[0])\n",
        "        X, y = X[p], y[p]    #Shuffle\n",
        "\n",
        "        for i in range(iters):\n",
        "            \n",
        "            X_batch = X[i*batch_size:(i+1)*batch_size]\n",
        "            y_batch = y[i*batch_size:(i+1)*batch_size]\n",
        "\n",
        "            grad = compute_gradient_on_batch(X_batch, y_batch, w)\n",
        "            w = w - lr * np.mean(grad, axis=0)\n",
        "            \n",
        "        errors.append(mean_square_error(y, linear(X, w)))\n",
        "    \n",
        "    return w, errors\n"
      ],
      "execution_count": 0,
      "outputs": []
    },
    {
      "cell_type": "code",
      "metadata": {
        "id": "WbuktrM5IZ_8",
        "colab_type": "code",
        "colab": {}
      },
      "source": [
        "#Folds\n",
        "class KFolds:\n",
        "    def __init__(self, X, y, k=5):\n",
        "      \n",
        "        self.k = k\n",
        "        \n",
        "        fold_size = X.shape[0]//k\n",
        "        if X.shape[0] % k > 0:\n",
        "            fold_size += 1\n",
        "            \n",
        "        self.X_folds = [X[i*fold_size:(i+1)*fold_size] for i in range(k)]\n",
        "        self.y_folds = [y[i*fold_size:(i+1)*fold_size] for i in range(k)]\n",
        "        \n",
        "    def get_fold(self, fold_i):\n",
        "        \n",
        "        X_cv = self.X_folds[fold_i]\n",
        "        y_cv = self.y_folds[fold_i]\n",
        "        \n",
        "        X_train = np.concatenate([self.X_folds[i] for i in range(self.k) if i != fold_i])\n",
        "        y_train = np.concatenate([self.y_folds[i] for i in range(self.k) if i != fold_i])\n",
        "        \n",
        "        return X_train, y_train, X_cv, y_cv"
      ],
      "execution_count": 0,
      "outputs": []
    },
    {
      "cell_type": "code",
      "metadata": {
        "id": "ir879LnbGzQr",
        "colab_type": "code",
        "outputId": "44abf514-9815-4c6d-bf85-3007c7573da5",
        "colab": {
          "base_uri": "https://localhost:8080/",
          "height": 220
        }
      },
      "source": [
        "!wget https://archive.ics.uci.edu/ml/machine-learning-databases/00363/Dataset.zip\n",
        "!unzip -q Dataset.zip"
      ],
      "execution_count": 6,
      "outputs": [
        {
          "output_type": "stream",
          "text": [
            "--2019-09-19 10:22:12--  https://archive.ics.uci.edu/ml/machine-learning-databases/00363/Dataset.zip\n",
            "Resolving archive.ics.uci.edu (archive.ics.uci.edu)... 128.195.10.252\n",
            "Connecting to archive.ics.uci.edu (archive.ics.uci.edu)|128.195.10.252|:443... connected.\n",
            "HTTP request sent, awaiting response... 200 OK\n",
            "Length: 19055526 (18M) [application/x-httpd-php]\n",
            "Saving to: ‘Dataset.zip’\n",
            "\n",
            "Dataset.zip         100%[===================>]  18.17M  22.5MB/s    in 0.8s    \n",
            "\n",
            "2019-09-19 10:22:13 (22.5 MB/s) - ‘Dataset.zip’ saved [19055526/19055526]\n",
            "\n"
          ],
          "name": "stdout"
        }
      ]
    },
    {
      "cell_type": "code",
      "metadata": {
        "id": "v9yG5P9WIiPg",
        "colab_type": "code",
        "colab": {}
      },
      "source": [
        "import random\n",
        "train_df = pd.read_csv('Dataset/Training/Features_Variant_1.csv',header=None)\n",
        "train_df.drop(columns=[37], inplace=True) #drop constant column\n",
        "\n",
        "data = train_df.values\n",
        "random.shuffle(data)\n",
        "y = data[:,-1]\n",
        "X = data[:,:-1]"
      ],
      "execution_count": 0,
      "outputs": []
    },
    {
      "cell_type": "code",
      "metadata": {
        "id": "Y7aWusUhCytZ",
        "colab_type": "code",
        "colab": {}
      },
      "source": [
        "test_df = pd.read_csv('Dataset/Testing/Features_TestSet.csv',header=None)\n",
        "test_df.drop(columns=[37], inplace=True)  #drop constant column\n",
        "\n",
        "y_test = test_df.values[:,-1]\n",
        "X_test = test_df.values[:,:-1]\n",
        "\n",
        "_, X_test = preprocess(X,X_test)"
      ],
      "execution_count": 0,
      "outputs": []
    },
    {
      "cell_type": "code",
      "metadata": {
        "id": "okgnz9vgIpu7",
        "colab_type": "code",
        "colab": {}
      },
      "source": [
        "kfold = KFolds(X,y,k=5)\n",
        "\n",
        "rmse_list = []\n",
        "r2_list = []\n",
        "rmse_test_list = []\n",
        "r2_test_list = []\n",
        "\n",
        "weights_list = []\n",
        "errors_list = []\n",
        "\n",
        "for i in range(kfold.k):\n",
        "    X_train, y_train, X_cv, y_cv = kfold.get_fold(i)\n",
        "    X_train, X_cv = preprocess(X_train, X_cv)\n",
        "    \n",
        "    w, errors = stochastic_gradient_descent(X_train, y_train, lr=1e-2, max_epoch=20, batch_size=1000)\n",
        "    errors_list.append(errors)\n",
        "    weights_list.append(w)\n",
        "\n",
        "    #Metrics on cv set\n",
        "    y_pred = linear(X_cv, w)        \n",
        "    rmse_list.append(root_mean_square_error(y_cv, y_pred))\n",
        "    r2_list.append(r2_score(y_cv, y_pred))\n",
        "    \n",
        "    #Metrics on test set\n",
        "    y_pred = linear(X_test, w)        \n",
        "    rmse_test_list.append(root_mean_square_error(y_test, y_pred))\n",
        "    r2_test_list.append(r2_score(y_test, y_pred))"
      ],
      "execution_count": 0,
      "outputs": []
    },
    {
      "cell_type": "code",
      "metadata": {
        "id": "vMko3AqjKY2X",
        "colab_type": "code",
        "outputId": "2e462285-a56b-4777-8cfb-d3f4f52644e1",
        "colab": {
          "base_uri": "https://localhost:8080/",
          "height": 220
        }
      },
      "source": [
        "print(\"Folds\\t│{}\\t{}\\t{}\\t{}\\t{}\\t│mean\\tstd\".format(*range(1,kfold.k+1)))\n",
        "print(\"────────┼───────────────────────────────────────┼─────────────\")\n",
        "print(\"        │CV                                     │\")\n",
        "print(\"────────┼───────────────────────────────────────┼─────────────\")\n",
        "print(\"RMSE\\t│{:.1f}\\t{:.1f}\\t{:.1f}\\t{:.1f}\\t{:.1f}\\t│{:.2f}\\t{:.2f}\".format(*rmse_list, np.array(rmse_list).mean(), np.array(rmse_list).std()))\n",
        "print(\"R2\\t│{:.3f}\\t{:.3f}\\t{:.3f}\\t{:.3f}\\t{:.3f}\\t│{:.3f}\\t{:.3f}\".format(*r2_list, np.array(r2_list).mean(), np.array(r2_list).std()))\n",
        "print(\"────────┼───────────────────────────────────────┼─────────────\")\n",
        "print(\"        │Test                                   │\")\n",
        "print(\"────────┼───────────────────────────────────────┼─────────────\")\n",
        "print(\"RMSE\\t│{:.1f}\\t{:.1f}\\t{:.1f}\\t{:.1f}\\t{:.1f}\\t│{:.2f}\\t{:.2f}\".format(*rmse_test_list, np.array(rmse_test_list).mean(), np.array(rmse_test_list).std()))\n",
        "print(\"R2\\t│{:.3f}\\t{:.3f}\\t{:.3f}\\t{:.3f}\\t{:.3f}\\t│{:.3f}\\t{:.3f}\".format(*r2_test_list, np.array(r2_test_list).mean(), np.array(r2_test_list).std()))"
      ],
      "execution_count": 31,
      "outputs": [
        {
          "output_type": "stream",
          "text": [
            "Folds\t│1\t2\t3\t4\t5\t│mean\tstd\n",
            "────────┼───────────────────────────────────────┼─────────────\n",
            "        │CV                                     │\n",
            "────────┼───────────────────────────────────────┼─────────────\n",
            "RMSE\t│36.5\t27.3\t29.6\t32.6\t27.7\t│30.75\t3.40\n",
            "R2\t│0.486\t0.351\t0.367\t0.274\t0.281\t│0.352\t0.077\n",
            "────────┼───────────────────────────────────────┼─────────────\n",
            "        │Test                                   │\n",
            "────────┼───────────────────────────────────────┼─────────────\n",
            "RMSE\t│106.7\t108.0\t107.6\t107.4\t108.2\t│107.57\t0.50\n",
            "R2\t│0.139\t0.119\t0.125\t0.129\t0.116\t│0.126\t0.008\n"
          ],
          "name": "stdout"
        }
      ]
    },
    {
      "cell_type": "code",
      "metadata": {
        "id": "JQyLsP_5HxhV",
        "colab_type": "code",
        "colab": {}
      },
      "source": [
        "feature_names = [\n",
        "    \"page_likes\",\"page_checkins\",\"page_returns\",\"page_category\",\n",
        "    \"X\",\"X.1\",\"X.2\",\"X.3\",\"X.4\",\"X.5\",\"X.6\",\"X.7\",\"X.8\",\"X.9\",\"X.10\",\"X.11\",\"X.12\",\"X.13\",\"X.14\",\"X.15\",\"X.16\",\"X.17\",\"X.18\",\"X.19\",\"X.20\",\"X.21\",\"X.22\",\"X.23\",\"X.24\",\n",
        "    \"commBase\",\"comm24\",\"comm48\",\"comm24_1\",\"diff_24.48\",\n",
        "    \"base_time\",\"post_length\",\"post_shares\",\"hrs\",\n",
        "    \"sun_pub\",\"mon_pub\",\"tue_pub\",\"wed_pub\",\"thu_pub\",\"fri_pub\",\"sat_pub\",\n",
        "    \"sun_base\",\"mon_base\",\"tue_base\",\"wed_base\",\"thu_base\",\"fri_base\",\"sat_base\"\n",
        "]"
      ],
      "execution_count": 0,
      "outputs": []
    },
    {
      "cell_type": "code",
      "metadata": {
        "id": "tZ-4GZP0dA8k",
        "colab_type": "code",
        "outputId": "695611b6-ab08-4846-fa31-056f5cba9a22",
        "colab": {
          "base_uri": "https://localhost:8080/",
          "height": 1000
        }
      },
      "source": [
        "weights_list = np.array(weights_list)\n",
        "print(\"────────┼───────────────────────────────────────┼─────────────\")\n",
        "for feat in range(weights_list.shape[1]-1):\n",
        "    print(\"{}\\t│{:.3f}\\t{:.3f}\\t{:.3f}\\t{:.3f}\\t{:.3f}\\t│ {}\".format(feat+1, *weights_list[:,feat], feature_names[feat]))\n",
        "print(\"bias\\t│{:.3f}\\t{:.3f}\\t{:.3f}\\t{:.3f}\\t{:.3f}\\t│\".format(*weights_list[:,-1]))"
      ],
      "execution_count": 42,
      "outputs": [
        {
          "output_type": "stream",
          "text": [
            "────────┼───────────────────────────────────────┼─────────────\n",
            "1\t│0.588\t1.140\t0.982\t0.777\t1.334\t│ page_likes\n",
            "2\t│-0.296\t-0.486\t-0.330\t-0.546\t-0.522\t│ page_checkins\n",
            "3\t│-1.582\t-2.284\t-1.957\t-1.790\t-2.531\t│ page_returns\n",
            "4\t│0.003\t-0.055\t-0.130\t-0.171\t-0.296\t│ page_category\n",
            "5\t│-0.997\t-0.315\t-0.278\t1.555\t0.182\t│ X\n",
            "6\t│-0.380\t-0.641\t0.259\t0.242\t-0.212\t│ X.1\n",
            "7\t│0.874\t0.887\t1.403\t-0.507\t2.602\t│ X.2\n",
            "8\t│0.289\t0.381\t2.000\t-0.523\t0.378\t│ X.3\n",
            "9\t│1.200\t-0.306\t-0.796\t1.115\t1.551\t│ X.4\n",
            "10\t│-0.471\t-1.313\t-0.669\t-0.431\t-1.077\t│ X.5\n",
            "11\t│-1.150\t-1.109\t-0.038\t0.129\t-1.075\t│ X.6\n",
            "12\t│-0.894\t1.406\t1.119\t1.503\t-0.666\t│ X.7\n",
            "13\t│1.939\t2.923\t2.592\t2.354\t1.622\t│ X.8\n",
            "14\t│0.141\t-0.937\t1.284\t-1.546\t-0.296\t│ X.9\n",
            "15\t│0.151\t-0.303\t-0.129\t-0.507\t-0.373\t│ X.10\n",
            "16\t│-0.670\t1.074\t1.116\t1.025\t-0.121\t│ X.11\n",
            "17\t│-0.353\t1.849\t0.724\t1.749\t2.015\t│ X.12\n",
            "18\t│1.494\t0.619\t0.367\t0.871\t-0.398\t│ X.13\n",
            "19\t│1.311\t1.139\t1.578\t0.244\t-0.251\t│ X.14\n",
            "20\t│0.384\t0.085\t0.529\t-1.044\t0.171\t│ X.15\n",
            "21\t│0.767\t1.047\t0.308\t0.307\t-0.291\t│ X.16\n",
            "22\t│0.210\t0.635\t-1.224\t0.076\t1.201\t│ X.17\n",
            "23\t│1.087\t-1.908\t-1.485\t0.163\t-0.845\t│ X.18\n",
            "24\t│1.177\t2.070\t0.211\t0.662\t1.431\t│ X.19\n",
            "25\t│-0.259\t1.666\t0.904\t1.622\t-0.174\t│ X.20\n",
            "26\t│-0.628\t0.191\t-1.771\t-1.496\t-0.680\t│ X.21\n",
            "27\t│1.121\t-0.597\t-0.377\t-0.079\t-0.202\t│ X.22\n",
            "28\t│-0.591\t-0.972\t-1.325\t-1.304\t-0.340\t│ X.23\n",
            "29\t│1.983\t1.151\t1.690\t2.613\t1.581\t│ X.24\n",
            "30\t│0.364\t1.802\t0.330\t0.509\t0.215\t│ commBase\n",
            "31\t│10.442\t11.521\t12.018\t12.599\t12.457\t│ comm24\n",
            "32\t│1.196\t1.714\t1.961\t1.167\t2.135\t│ comm48\n",
            "33\t│0.215\t0.276\t0.694\t-0.003\t0.723\t│ comm24_1\n",
            "34\t│6.711\t9.978\t9.294\t8.448\t9.746\t│ diff_24.48\n",
            "35\t│-4.557\t-4.759\t-4.688\t-4.722\t-4.871\t│ base_time\n",
            "36\t│-0.182\t-0.184\t-0.194\t-0.286\t-0.299\t│ post_length\n",
            "37\t│2.105\t2.177\t2.018\t3.153\t2.177\t│ post_shares\n",
            "38\t│0.748\t0.568\t0.588\t0.617\t0.572\t│ hrs\n",
            "39\t│-0.840\t-0.450\t-1.040\t-0.625\t-0.671\t│ sun_pub\n",
            "40\t│-0.791\t-0.178\t-0.858\t-0.144\t-0.709\t│ mon_pub\n",
            "41\t│-0.519\t-0.090\t-0.874\t0.122\t-0.636\t│ tue_pub\n",
            "42\t│0.220\t0.779\t-0.121\t0.895\t0.250\t│ wed_pub\n",
            "43\t│-0.166\t0.742\t-0.149\t0.561\t0.115\t│ thu_pub\n",
            "44\t│-0.171\t0.802\t0.063\t0.545\t0.284\t│ fri_pub\n",
            "45\t│-0.487\t0.231\t-0.483\t-0.104\t-0.025\t│ sat_pub\n",
            "46\t│-0.188\t-0.755\t0.157\t0.165\t-0.680\t│ sun_base\n",
            "47\t│0.348\t0.119\t0.920\t1.112\t-0.035\t│ mon_base\n",
            "48\t│0.455\t0.146\t0.906\t0.962\t-0.028\t│ tue_base\n",
            "49\t│0.586\t0.460\t1.155\t1.016\t0.393\t│ wed_base\n",
            "50\t│-0.033\t-0.078\t0.828\t0.338\t0.028\t│ thu_base\n",
            "51\t│-0.119\t-0.144\t0.708\t0.345\t-0.069\t│ fri_base\n",
            "52\t│-0.322\t-0.692\t0.269\t0.080\t-0.593\t│ sat_base\n",
            "bias\t│7.791\t8.962\t8.970\t9.118\t9.367\t│\n"
          ],
          "name": "stdout"
        }
      ]
    },
    {
      "cell_type": "code",
      "metadata": {
        "id": "RMT4deVBfE4H",
        "colab_type": "code",
        "outputId": "3e4eaed7-fcbd-462c-baa1-d64c00e55bc1",
        "colab": {
          "base_uri": "https://localhost:8080/",
          "height": 301
        }
      },
      "source": [
        "%pylab inline\n",
        "errors_list = np.array(errors_list)\n",
        "plt.plot(errors_list.T)\n",
        "plt.xlabel(\"Epochs\")\n",
        "plt.ylabel(\"MSE\")\n",
        "plt.legend(['F1','F2','F3','F4','F5']);"
      ],
      "execution_count": 43,
      "outputs": [
        {
          "output_type": "stream",
          "text": [
            "Populating the interactive namespace from numpy and matplotlib\n"
          ],
          "name": "stdout"
        },
        {
          "output_type": "display_data",
          "data": {
            "image/png": "[encoded data removed]",
            "text/plain": [
              "<Figure size 432x288 with 1 Axes>"
            ]
          },
          "metadata": {
            "tags": []
          }
        }
      ]
    }
  ]
}